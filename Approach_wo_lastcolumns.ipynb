{
 "cells": [
  {
   "cell_type": "markdown",
   "id": "4cd82ba2",
   "metadata": {},
   "source": [
    "# Import Libraries"
   ]
  },
  {
   "cell_type": "code",
   "execution_count": 1,
   "id": "f1c2a94b",
   "metadata": {},
   "outputs": [],
   "source": [
    "import pandas as pd \n",
    "import numpy as np \n",
    "from sklearn.ensemble import RandomForestClassifier\n",
    "from sklearn.model_selection import train_test_split\n",
    "from datetime import date\n",
    "import matplotlib.pyplot as plt\n",
    "import seaborn as sns\n",
    "from sklearn.metrics import accuracy_score, confusion_matrix\n",
    "from sklearn.model_selection import RandomizedSearchCV\n",
    "%matplotlib inline\n",
    "import pandas as pd \n",
    "from tabulate import tabulate\n",
    "from factor_analyzer import FactorAnalyzer\n",
    "from factor_analyzer.factor_analyzer import calculate_bartlett_sphericity\n",
    "from factor_analyzer.factor_analyzer import calculate_kmo"
   ]
  },
  {
   "cell_type": "code",
   "execution_count": 2,
   "id": "2bbd1f0f",
   "metadata": {},
   "outputs": [],
   "source": [
    "train1 = pd.read_csv('train_month_3_with_target.csv')\n",
    "train2 = pd.read_csv('train_month_2.csv')\n",
    "train3 = pd.read_csv('train_month_1.csv')\n",
    "test1 = pd.read_csv('test_month_3.csv')\n",
    "test2 = pd.read_csv('test_month_2.csv')\n",
    "test3 = pd.read_csv('test_month_1.csv')"
   ]
  },
  {
   "cell_type": "markdown",
   "id": "97aea096",
   "metadata": {},
   "source": [
    "# Data pre-processing"
   ]
  },
  {
   "cell_type": "markdown",
   "id": "7a986ebc",
   "metadata": {},
   "source": [
    "## Dataset info"
   ]
  },
  {
   "cell_type": "code",
   "execution_count": 3,
   "id": "d76ed72b",
   "metadata": {
    "scrolled": true
   },
   "outputs": [
    {
     "name": "stdout",
     "output_type": "stream",
     "text": [
      "<class 'pandas.core.frame.DataFrame'>\n",
      "RangeIndex: 63697 entries, 0 to 63696\n",
      "Data columns (total 40 columns):\n",
      " #   Column                             Non-Null Count  Dtype  \n",
      "---  ------                             --------------  -----  \n",
      " 0   client_id                          63697 non-null  object \n",
      " 1   homebanking_active                 63697 non-null  int64  \n",
      " 2   has_homebanking                    63697 non-null  int64  \n",
      " 3   has_insurance_21                   63697 non-null  int64  \n",
      " 4   has_insurance_23                   63697 non-null  int64  \n",
      " 5   has_life_insurance_fixed_cap       63697 non-null  int64  \n",
      " 6   has_life_insurance_decreasing_cap  63697 non-null  int64  \n",
      " 7   has_fire_car_other_insurance       63697 non-null  int64  \n",
      " 8   has_personal_loan                  63697 non-null  int64  \n",
      " 9   has_mortgage_loan                  63697 non-null  int64  \n",
      " 10  has_current_account                63697 non-null  int64  \n",
      " 11  has_pension_saving                 63697 non-null  int64  \n",
      " 12  has_savings_account                63697 non-null  int64  \n",
      " 13  has_savings_account_starter        63697 non-null  int64  \n",
      " 14  has_current_account_starter        63697 non-null  int64  \n",
      " 15  bal_insurance_21                   63697 non-null  int64  \n",
      " 16  bal_insurance_23                   63697 non-null  int64  \n",
      " 17  cap_life_insurance_fixed_cap       63697 non-null  int64  \n",
      " 18  cap_life_insurance_decreasing_cap  63697 non-null  int64  \n",
      " 19  prem_fire_car_other_insurance      63697 non-null  int64  \n",
      " 20  bal_personal_loan                  63697 non-null  int64  \n",
      " 21  bal_mortgage_loan                  63697 non-null  int64  \n",
      " 22  bal_current_account                63697 non-null  int64  \n",
      " 23  bal_pension_saving                 63697 non-null  int64  \n",
      " 24  bal_savings_account                63697 non-null  int64  \n",
      " 25  bal_savings_account_starter        63697 non-null  int64  \n",
      " 26  bal_current_account_starter        63697 non-null  int64  \n",
      " 27  visits_distinct_so                 63697 non-null  float64\n",
      " 28  visits_distinct_so_areas           63697 non-null  float64\n",
      " 29  customer_since_all                 63463 non-null  object \n",
      " 30  customer_since_bank                63448 non-null  object \n",
      " 31  customer_gender                    63697 non-null  int64  \n",
      " 32  customer_birth_date                63697 non-null  object \n",
      " 33  customer_postal_code               63697 non-null  int64  \n",
      " 34  customer_occupation_code           61695 non-null  float64\n",
      " 35  customer_self_employed             63697 non-null  int64  \n",
      " 36  customer_education                 16572 non-null  float64\n",
      " 37  customer_children                  40333 non-null  object \n",
      " 38  customer_relationship              48798 non-null  object \n",
      " 39  target                             63697 non-null  int64  \n",
      "dtypes: float64(4), int64(30), object(6)\n",
      "memory usage: 19.4+ MB\n"
     ]
    }
   ],
   "source": [
    "#train1.info()\n",
    "train1.describe()\n",
    "train1.isna().any()\n",
    "train1.info()"
   ]
  },
  {
   "cell_type": "code",
   "execution_count": 4,
   "id": "617db495",
   "metadata": {},
   "outputs": [
    {
     "name": "stdout",
     "output_type": "stream",
     "text": [
      "Continious variables are: ['bal_insurance_21', 'bal_insurance_23', 'cap_life_insurance_fixed_cap', 'cap_life_insurance_decreasing_cap', 'prem_fire_car_other_insurance', 'bal_personal_loan', 'bal_mortgage_loan', 'bal_current_account', 'bal_pension_saving', 'bal_savings_account', 'bal_savings_account_starter', 'bal_current_account_starter', 'customer_since_all', 'customer_since_bank', 'customer_birth_date', 'customer_postal_code']\n",
      "------------------\n",
      "Categorical variables are: ['homebanking_active', 'has_homebanking', 'has_insurance_21', 'has_insurance_23', 'has_life_insurance_fixed_cap', 'has_life_insurance_decreasing_cap', 'has_fire_car_other_insurance', 'has_personal_loan', 'has_mortgage_loan', 'has_current_account', 'has_pension_saving', 'has_savings_account', 'has_savings_account_starter', 'has_current_account_starter', 'visits_distinct_so', 'visits_distinct_so_areas', 'customer_gender', 'customer_occupation_code', 'customer_self_employed', 'customer_education', 'customer_children', 'customer_relationship', 'target']\n"
     ]
    }
   ],
   "source": [
    "train1['customer_since_all'] = pd.to_datetime(train1['customer_since_all'])\n",
    "train1['customer_since_bank'] = pd.to_datetime(train1['customer_since_bank'])\n",
    "train1['customer_birth_date'] = pd.to_datetime(train1['customer_birth_date'])\n",
    "\n",
    "cat_vars = []\n",
    "cont_vars = []\n",
    "columns = list(train1.drop(columns = ['client_id']).columns)\n",
    "for i in columns:\n",
    "    if (len(train1.loc[:,i].unique()) >= 20):\n",
    "        cont_vars.append(i)\n",
    "    else:\n",
    "        cat_vars.append(i)\n",
    "        \n",
    "print('Continious variables are:',cont_vars)\n",
    "print('------------------')\n",
    "print('Categorical variables are:',cat_vars)\n",
    "# Here we have our list of categorical and continious variables"
   ]
  },
  {
   "cell_type": "markdown",
   "id": "fc1fe9a0",
   "metadata": {},
   "source": [
    "### Categorical features unique values"
   ]
  },
  {
   "cell_type": "code",
   "execution_count": 5,
   "id": "2757e8f9",
   "metadata": {},
   "outputs": [
    {
     "name": "stdout",
     "output_type": "stream",
     "text": [
      "homebanking_active [0 1]\n",
      "has_homebanking [0 1]\n",
      "has_insurance_21 [0 1]\n",
      "has_insurance_23 [0 1]\n",
      "has_life_insurance_fixed_cap [0 1]\n",
      "has_life_insurance_decreasing_cap [0 1]\n",
      "has_fire_car_other_insurance [1 0]\n",
      "has_personal_loan [0 1]\n",
      "has_mortgage_loan [0 1]\n",
      "has_current_account [1 0]\n",
      "has_pension_saving [0 1]\n",
      "has_savings_account [1 0]\n",
      "has_savings_account_starter [0 1]\n",
      "has_current_account_starter [0 1]\n",
      "visits_distinct_so [1. 2. 3. 4. 6. 5. 7.]\n",
      "visits_distinct_so_areas [1. 2. 3. 5. 4. 6.]\n",
      "customer_gender [1 2]\n",
      "customer_occupation_code [ 9. nan  7.  8.  4.  5.  0.  6.  3.  1.  2.]\n",
      "customer_self_employed [0 1]\n",
      "customer_education [ 0. nan  2.  1.  4.  3.  5.  6.]\n",
      "customer_children [nan 'mature' 'no' 'young' 'preschool' 'adolescent' 'grownup' 'onebaby'\n",
      " 'yes']\n",
      "customer_relationship [nan 'couple' 'single']\n",
      "target [0 1]\n"
     ]
    }
   ],
   "source": [
    "# To check we will print all unique values\n",
    "for col in cat_vars:\n",
    "    print(col,train1[col].unique())"
   ]
  },
  {
   "cell_type": "markdown",
   "id": "e739ff40",
   "metadata": {},
   "source": [
    "### Colums with missing Data"
   ]
  },
  {
   "cell_type": "code",
   "execution_count": 6,
   "id": "a6a9ca35",
   "metadata": {
    "scrolled": true
   },
   "outputs": [
    {
     "data": {
      "text/html": [
       "<div>\n",
       "<style scoped>\n",
       "    .dataframe tbody tr th:only-of-type {\n",
       "        vertical-align: middle;\n",
       "    }\n",
       "\n",
       "    .dataframe tbody tr th {\n",
       "        vertical-align: top;\n",
       "    }\n",
       "\n",
       "    .dataframe thead th {\n",
       "        text-align: right;\n",
       "    }\n",
       "</style>\n",
       "<table border=\"1\" class=\"dataframe\">\n",
       "  <thead>\n",
       "    <tr style=\"text-align: right;\">\n",
       "      <th></th>\n",
       "      <th>variable</th>\n",
       "      <th>missing values</th>\n",
       "      <th>%</th>\n",
       "    </tr>\n",
       "  </thead>\n",
       "  <tbody>\n",
       "    <tr>\n",
       "      <th>29</th>\n",
       "      <td>customer_since_all</td>\n",
       "      <td>234</td>\n",
       "      <td>0.367364</td>\n",
       "    </tr>\n",
       "    <tr>\n",
       "      <th>30</th>\n",
       "      <td>customer_since_bank</td>\n",
       "      <td>249</td>\n",
       "      <td>0.390913</td>\n",
       "    </tr>\n",
       "    <tr>\n",
       "      <th>34</th>\n",
       "      <td>customer_occupation_code</td>\n",
       "      <td>2002</td>\n",
       "      <td>3.143005</td>\n",
       "    </tr>\n",
       "    <tr>\n",
       "      <th>38</th>\n",
       "      <td>customer_relationship</td>\n",
       "      <td>14899</td>\n",
       "      <td>23.390427</td>\n",
       "    </tr>\n",
       "    <tr>\n",
       "      <th>37</th>\n",
       "      <td>customer_children</td>\n",
       "      <td>23364</td>\n",
       "      <td>36.679906</td>\n",
       "    </tr>\n",
       "    <tr>\n",
       "      <th>36</th>\n",
       "      <td>customer_education</td>\n",
       "      <td>47125</td>\n",
       "      <td>73.983076</td>\n",
       "    </tr>\n",
       "  </tbody>\n",
       "</table>\n",
       "</div>"
      ],
      "text/plain": [
       "                    variable  missing values          %\n",
       "29        customer_since_all             234   0.367364\n",
       "30       customer_since_bank             249   0.390913\n",
       "34  customer_occupation_code            2002   3.143005\n",
       "38     customer_relationship           14899  23.390427\n",
       "37         customer_children           23364  36.679906\n",
       "36        customer_education           47125  73.983076"
      ]
     },
     "execution_count": 6,
     "metadata": {},
     "output_type": "execute_result"
    }
   ],
   "source": [
    "missing_df = train1.isnull().sum(axis=0).reset_index()\n",
    "missing_df.columns = ['variable', 'missing values']\n",
    "missing_df['%']=(missing_df['missing values'])/train1.shape[0]*100\n",
    "missing_df = missing_df[missing_df['missing values'] >0].sort_values('%')\n",
    "missing_df"
   ]
  },
  {
   "cell_type": "code",
   "execution_count": 47,
   "id": "eba673ac",
   "metadata": {},
   "outputs": [
    {
     "data": {
      "text/html": [
       "<div>\n",
       "<style scoped>\n",
       "    .dataframe tbody tr th:only-of-type {\n",
       "        vertical-align: middle;\n",
       "    }\n",
       "\n",
       "    .dataframe tbody tr th {\n",
       "        vertical-align: top;\n",
       "    }\n",
       "\n",
       "    .dataframe thead th {\n",
       "        text-align: right;\n",
       "    }\n",
       "</style>\n",
       "<table border=\"1\" class=\"dataframe\">\n",
       "  <thead>\n",
       "    <tr style=\"text-align: right;\">\n",
       "      <th></th>\n",
       "      <th>variable</th>\n",
       "      <th>missing values</th>\n",
       "      <th>%</th>\n",
       "    </tr>\n",
       "  </thead>\n",
       "  <tbody>\n",
       "    <tr>\n",
       "      <th>29</th>\n",
       "      <td>customer_since_all</td>\n",
       "      <td>234</td>\n",
       "      <td>0.367364</td>\n",
       "    </tr>\n",
       "    <tr>\n",
       "      <th>30</th>\n",
       "      <td>customer_since_bank</td>\n",
       "      <td>249</td>\n",
       "      <td>0.390913</td>\n",
       "    </tr>\n",
       "    <tr>\n",
       "      <th>34</th>\n",
       "      <td>customer_occupation_code</td>\n",
       "      <td>2002</td>\n",
       "      <td>3.143005</td>\n",
       "    </tr>\n",
       "    <tr>\n",
       "      <th>38</th>\n",
       "      <td>customer_relationship</td>\n",
       "      <td>14476</td>\n",
       "      <td>22.726345</td>\n",
       "    </tr>\n",
       "    <tr>\n",
       "      <th>37</th>\n",
       "      <td>customer_children</td>\n",
       "      <td>23065</td>\n",
       "      <td>36.210497</td>\n",
       "    </tr>\n",
       "    <tr>\n",
       "      <th>36</th>\n",
       "      <td>customer_education</td>\n",
       "      <td>47125</td>\n",
       "      <td>73.983076</td>\n",
       "    </tr>\n",
       "  </tbody>\n",
       "</table>\n",
       "</div>"
      ],
      "text/plain": [
       "                    variable  missing values          %\n",
       "29        customer_since_all             234   0.367364\n",
       "30       customer_since_bank             249   0.390913\n",
       "34  customer_occupation_code            2002   3.143005\n",
       "38     customer_relationship           14476  22.726345\n",
       "37         customer_children           23065  36.210497\n",
       "36        customer_education           47125  73.983076"
      ]
     },
     "execution_count": 47,
     "metadata": {},
     "output_type": "execute_result"
    }
   ],
   "source": [
    "missing_df = train2.isnull().sum(axis=0).reset_index()\n",
    "missing_df.columns = ['variable', 'missing values']\n",
    "missing_df['%']=(missing_df['missing values'])/train1.shape[0]*100\n",
    "missing_df = missing_df[missing_df['missing values'] >0].sort_values('%')\n",
    "missing_df"
   ]
  },
  {
   "cell_type": "code",
   "execution_count": 48,
   "id": "d6645e96",
   "metadata": {},
   "outputs": [
    {
     "data": {
      "text/html": [
       "<div>\n",
       "<style scoped>\n",
       "    .dataframe tbody tr th:only-of-type {\n",
       "        vertical-align: middle;\n",
       "    }\n",
       "\n",
       "    .dataframe tbody tr th {\n",
       "        vertical-align: top;\n",
       "    }\n",
       "\n",
       "    .dataframe thead th {\n",
       "        text-align: right;\n",
       "    }\n",
       "</style>\n",
       "<table border=\"1\" class=\"dataframe\">\n",
       "  <thead>\n",
       "    <tr style=\"text-align: right;\">\n",
       "      <th></th>\n",
       "      <th>variable</th>\n",
       "      <th>missing values</th>\n",
       "      <th>%</th>\n",
       "    </tr>\n",
       "  </thead>\n",
       "  <tbody>\n",
       "    <tr>\n",
       "      <th>29</th>\n",
       "      <td>customer_since_all</td>\n",
       "      <td>234</td>\n",
       "      <td>0.367364</td>\n",
       "    </tr>\n",
       "    <tr>\n",
       "      <th>30</th>\n",
       "      <td>customer_since_bank</td>\n",
       "      <td>249</td>\n",
       "      <td>0.390913</td>\n",
       "    </tr>\n",
       "    <tr>\n",
       "      <th>34</th>\n",
       "      <td>customer_occupation_code</td>\n",
       "      <td>2002</td>\n",
       "      <td>3.143005</td>\n",
       "    </tr>\n",
       "    <tr>\n",
       "      <th>38</th>\n",
       "      <td>customer_relationship</td>\n",
       "      <td>14456</td>\n",
       "      <td>22.694946</td>\n",
       "    </tr>\n",
       "    <tr>\n",
       "      <th>37</th>\n",
       "      <td>customer_children</td>\n",
       "      <td>23056</td>\n",
       "      <td>36.196367</td>\n",
       "    </tr>\n",
       "    <tr>\n",
       "      <th>36</th>\n",
       "      <td>customer_education</td>\n",
       "      <td>47125</td>\n",
       "      <td>73.983076</td>\n",
       "    </tr>\n",
       "  </tbody>\n",
       "</table>\n",
       "</div>"
      ],
      "text/plain": [
       "                    variable  missing values          %\n",
       "29        customer_since_all             234   0.367364\n",
       "30       customer_since_bank             249   0.390913\n",
       "34  customer_occupation_code            2002   3.143005\n",
       "38     customer_relationship           14456  22.694946\n",
       "37         customer_children           23056  36.196367\n",
       "36        customer_education           47125  73.983076"
      ]
     },
     "execution_count": 48,
     "metadata": {},
     "output_type": "execute_result"
    }
   ],
   "source": [
    "missing_df = train3.isnull().sum(axis=0).reset_index()\n",
    "missing_df.columns = ['variable', 'missing values']\n",
    "missing_df['%']=(missing_df['missing values'])/train1.shape[0]*100\n",
    "missing_df = missing_df[missing_df['missing values'] >0].sort_values('%')\n",
    "missing_df"
   ]
  },
  {
   "cell_type": "code",
   "execution_count": 49,
   "id": "67bfd3f9",
   "metadata": {},
   "outputs": [
    {
     "name": "stdout",
     "output_type": "stream",
     "text": [
      "0\n",
      "0\n",
      "21\n",
      "[nan 'couple' 'single']\n"
     ]
    }
   ],
   "source": [
    "print(train2.loc[train1['customer_since_bank'].isna(),'customer_since_bank'].value_counts().sum())\n",
    "print(train3.loc[train1['customer_since_bank'].isna(),'customer_since_bank'].value_counts().sum())\n",
    "print(train3.loc[train2['customer_relationship'].isna(),'customer_relationship'].value_counts().sum())\n",
    "\n",
    "print(train2.loc[train1['customer_relationship'].isna(),'customer_relationship'].unique())"
   ]
  },
  {
   "cell_type": "markdown",
   "id": "b23b61e3",
   "metadata": {},
   "source": [
    "## Missing value exploration"
   ]
  },
  {
   "cell_type": "code",
   "execution_count": 10,
   "id": "94598b54",
   "metadata": {},
   "outputs": [
    {
     "name": "stdout",
     "output_type": "stream",
     "text": [
      "customer_occupation_code [ 9. nan  7.  8.  4.  5.  0.  6.  3.  1.  2.]\n",
      "customer_relationship [nan 'couple' 'single']\n",
      "customer_children [nan 'mature' 'no' 'young' 'preschool' 'adolescent' 'grownup' 'onebaby'\n",
      " 'yes']\n",
      "customer_education [ 0. nan  2.  1.  4.  3.  5.  6.]\n"
     ]
    }
   ],
   "source": [
    "missing_df2 = missing_df[missing_df['missing values'] >250]\n",
    "for col in missing_df2['variable']:\n",
    "    print(col,train1[col].unique())"
   ]
  },
  {
   "cell_type": "code",
   "execution_count": 11,
   "id": "1d3c222f",
   "metadata": {
    "scrolled": true
   },
   "outputs": [
    {
     "data": {
      "text/plain": [
       "<AxesSubplot:xlabel='customer_education', ylabel='count'>"
      ]
     },
     "execution_count": 11,
     "metadata": {},
     "output_type": "execute_result"
    },
    {
     "data": {
      "image/png": "[encoded data removed]",
      "text/plain": [
       "<Figure size 432x288 with 1 Axes>"
      ]
     },
     "metadata": {
      "needs_background": "light"
     },
     "output_type": "display_data"
    }
   ],
   "source": [
    "sns.countplot(x='customer_education',data=train1,hue='target',palette=\"coolwarm_r\")"
   ]
  },
  {
   "cell_type": "code",
   "execution_count": 16,
   "id": "c4ff69ab",
   "metadata": {
    "scrolled": true
   },
   "outputs": [
    {
     "name": "stdout",
     "output_type": "stream",
     "text": [
      "job_code 0 421\n",
      "job_code 1 24\n",
      "job_code 2 7\n",
      "job_code 3 10\n",
      "job_code 4 1639\n",
      "job_code 5 153\n",
      "job_code 6 183\n",
      "job_code 7 104\n",
      "job_code 8 318\n",
      "job_code 9 58836\n"
     ]
    },
    {
     "data": {
      "text/plain": [
       "<AxesSubplot:xlabel='customer_occupation_code', ylabel='Count'>"
      ]
     },
     "execution_count": 16,
     "metadata": {},
     "output_type": "execute_result"
    },
    {
     "data": {
      "image/png": "[encoded data removed]",
      "text/plain": [
       "<Figure size 432x288 with 1 Axes>"
      ]
     },
     "metadata": {
      "needs_background": "light"
     },
     "output_type": "display_data"
    }
   ],
   "source": [
    "for x in range(0,10):\n",
    "    print(f'job_code {x}', len(train1.loc[(train1['customer_occupation_code']==x)]))\n",
    "    \n",
    "sns.histplot(x='customer_occupation_code',data=train1,hue='target',palette=\"coolwarm_r\")"
   ]
  },
  {
   "cell_type": "code",
   "execution_count": 15,
   "id": "914d325b",
   "metadata": {
    "scrolled": false
   },
   "outputs": [
    {
     "data": {
      "text/plain": [
       "<AxesSubplot:xlabel='customer_occupation_code', ylabel='Count'>"
      ]
     },
     "execution_count": 15,
     "metadata": {},
     "output_type": "execute_result"
    },
    {
     "data": {
      "image/png": "[encoded data removed]",
      "text/plain": [
       "<Figure size 432x288 with 1 Axes>"
      ]
     },
     "metadata": {
      "needs_background": "light"
     },
     "output_type": "display_data"
    }
   ],
   "source": [
    "sns.histplot(x='customer_occupation_code',data=train1,hue='target',palette=\"coolwarm_r\",multiple = \"fill\")"
   ]
  },
  {
   "cell_type": "code",
   "execution_count": 18,
   "id": "1415886c",
   "metadata": {},
   "outputs": [
    {
     "name": "stdout",
     "output_type": "stream",
     "text": [
      "Relationship        0      1\n",
      "--------------  -----  -----\n",
      "36179 Couple    0.969  0.031\n",
      "12619 Single    0.974  0.026\n"
     ]
    }
   ],
   "source": [
    "\n",
    "\n",
    "a = len(train1.loc[(train1['customer_relationship']=='couple') & (train1['target']== 0)])+len(train1.loc[(train1['customer_relationship']=='couple') & (train1['target']== 1)]) \n",
    "\n",
    "b = len(train1.loc[(train1['customer_relationship']=='single') & (train1['target']== 0)])+ len(train1.loc[(train1['customer_relationship']=='single') & (train1['target']== 1)]) \n",
    "table=[['Relationship','0','1'],\n",
    "        [str(len(train1.loc[(train1['customer_relationship']=='couple')])) + ' Couple',round(len(train1.loc[(train1['customer_relationship']=='couple') & (train1['target']== 0)])/a,3 ),round(len(train1.loc[(train1['customer_relationship']=='couple') & (train1['target']== 1)])/a,3) ],\n",
    "        [str(len(train1.loc[(train1['customer_relationship']=='single')])) + ' Single',round(len(train1.loc[(train1['customer_relationship']=='single') & (train1['target']== 0)])/b,3) ,round(len(train1.loc[(train1['customer_relationship']=='single') & (train1['target']== 1)])/b,3) ]]\n",
    "print(tabulate(table, headers='firstrow'))\n",
    "\n"
   ]
  },
  {
   "cell_type": "code",
   "execution_count": 19,
   "id": "81c122c1",
   "metadata": {},
   "outputs": [],
   "source": [
    "rep = {'mature':1,'no':0, 'young':1,'preschool':1,'adolescent':1,'grownup':1,'onebaby':1\n",
    " ,'yes':1}\n",
    "train1['customer_children']= train1['customer_children'].replace(rep) "
   ]
  },
  {
   "cell_type": "code",
   "execution_count": 20,
   "id": "35b35f5e",
   "metadata": {},
   "outputs": [
    {
     "name": "stdout",
     "output_type": "stream",
     "text": [
      "Children               0     1\n",
      "------------------  ----  ----\n",
      "22886 Without kids  0.98  0.02\n",
      "17447 With kids     0.96  0.04\n"
     ]
    }
   ],
   "source": [
    "c = len(train1.loc[(train1['customer_children']==0) & (train1['target']== 0)])+len(train1.loc[(train1['customer_children']==0) & (train1['target']== 1)]) \n",
    "\n",
    "d = len(train1.loc[(train1['customer_children']==1) & (train1['target']== 0)])+ len(train1.loc[(train1['customer_children']==1) & (train1['target']== 1)]) \n",
    "table=[['Children','0','1'],\n",
    "        [str(len(train1.loc[(train1['customer_children']==0)])) + ' Without kids',round(len(train1.loc[(train1['customer_children']==0) & (train1['target']== 0)])/c,2 ),round(len(train1.loc[(train1['customer_children']==0) & (train1['target']== 1)])/c,2) ],\n",
    "        [str(len(train1.loc[(train1['customer_children']==1)])) + ' With kids',round(len(train1.loc[(train1['customer_children']==1) & (train1['target']== 0)])/d,2) ,round(len(train1.loc[(train1['customer_children']==1) & (train1['target']== 1)])/d,2) ]]\n",
    "print(tabulate(table, headers='firstrow'))"
   ]
  },
  {
   "cell_type": "code",
   "execution_count": 23,
   "id": "a888859c",
   "metadata": {},
   "outputs": [
    {
     "data": {
      "text/plain": [
       "<AxesSubplot:xlabel='customer_children', ylabel='Count'>"
      ]
     },
     "execution_count": 23,
     "metadata": {},
     "output_type": "execute_result"
    },
    {
     "data": {
      "image/png": "[encoded data removed]",
      "text/plain": [
       "<Figure size 432x288 with 1 Axes>"
      ]
     },
     "metadata": {
      "needs_background": "light"
     },
     "output_type": "display_data"
    }
   ],
   "source": [
    "train1['customer_children'] = pd.Categorical(train1['customer_children'])\n",
    "sns.histplot(x='customer_children',data=train1,hue='target',palette=\"coolwarm_r\")"
   ]
  },
  {
   "cell_type": "code",
   "execution_count": 26,
   "id": "60385624",
   "metadata": {},
   "outputs": [
    {
     "data": {
      "text/plain": [
       "[(0.0, 0.06)]"
      ]
     },
     "execution_count": 26,
     "metadata": {},
     "output_type": "execute_result"
    },
    {
     "data": {
      "image/png": "[encoded data removed]",
      "text/plain": [
       "<Figure size 432x288 with 1 Axes>"
      ]
     },
     "metadata": {
      "needs_background": "light"
     },
     "output_type": "display_data"
    }
   ],
   "source": [
    "plot = sns.histplot(x='customer_children',data=train1,hue='target',palette=\"coolwarm_r\",multiple = \"fill\")\n",
    "plot.set(ylim=(0,0.06))"
   ]
  },
  {
   "cell_type": "code",
   "execution_count": 27,
   "id": "ae993c17",
   "metadata": {},
   "outputs": [],
   "source": [
    "# thjis var seems useful what do we do about missing values"
   ]
  },
  {
   "cell_type": "code",
   "execution_count": 38,
   "id": "42364997",
   "metadata": {
    "scrolled": true
   },
   "outputs": [],
   "source": [
    "train1_test = train1.copy()\n",
    "# train1_test['customer_children'].isna()\n",
    "train1_test['customer_children'] = pd.to_numeric(train1_test['customer_children'])\n",
    "train1_test.loc[train1_test['customer_children'].isna(),'customer_children'] = 2"
   ]
  },
  {
   "cell_type": "code",
   "execution_count": 41,
   "id": "8fe44c66",
   "metadata": {},
   "outputs": [],
   "source": [
    "train1_test['customer_children'].replace({0:'no children',1:'children',2:'missing'})\n",
    "train1_test['customer_children'] = pd.Categorical(train1_test['customer_children'])"
   ]
  },
  {
   "cell_type": "code",
   "execution_count": 42,
   "id": "1bf24883",
   "metadata": {},
   "outputs": [
    {
     "data": {
      "text/plain": [
       "[(0.0, 0.06)]"
      ]
     },
     "execution_count": 42,
     "metadata": {},
     "output_type": "execute_result"
    },
    {
     "data": {
      "image/png": "[encoded data removed]",
      "text/plain": [
       "<Figure size 432x288 with 1 Axes>"
      ]
     },
     "metadata": {
      "needs_background": "light"
     },
     "output_type": "display_data"
    }
   ],
   "source": [
    "plot = sns.histplot(x='customer_children',data=train1_test,hue='target',palette=\"coolwarm_r\",multiple = \"fill\")\n",
    "plot.set(ylim=(0,0.06))"
   ]
  },
  {
   "cell_type": "markdown",
   "id": "e5e700dc",
   "metadata": {},
   "source": [
    "## Remove columns and transform date columns"
   ]
  },
  {
   "cell_type": "code",
   "execution_count": null,
   "id": "c81dd184",
   "metadata": {},
   "outputs": [],
   "source": [
    "df_list=[train1,train2,train3,test1,test2,test3]"
   ]
  },
  {
   "cell_type": "code",
   "execution_count": null,
   "id": "4008928e",
   "metadata": {},
   "outputs": [],
   "source": [
    "def drop_col(x):\n",
    "    x.drop(['customer_children','customer_relationship','customer_occupation_code',\n",
    "            'customer_education',],axis=1, inplace=True) \n",
    "    x.dropna(axis=0, inplace=True) "
   ]
  },
  {
   "cell_type": "code",
   "execution_count": null,
   "id": "7b8a4cd7",
   "metadata": {},
   "outputs": [],
   "source": [
    "def striptime(x):\n",
    "    x['customer_since_all'] = pd.to_datetime(x['customer_since_all'])\n",
    "    x['customer_since_bank'] = pd.to_datetime(x['customer_since_bank'])\n",
    "    x['customer_birth_date'] = pd.to_datetime(x['customer_birth_date'])\n",
    "    x['Birth_year'] = x['customer_birth_date'].dt.strftime('%Y').astype(str).astype(int)\n",
    "    x['Year_since_all'] = x['customer_since_all'].dt.strftime('%Y').astype(str).astype(int)\n",
    "    x['Month_since_all'] = x['customer_since_all'].dt.strftime('%m').astype(str).astype(int)\n",
    "    x['Year_since_bank'] = x['customer_since_bank'].dt.strftime('%Y').astype(str).astype(int)\n",
    "    x['Month_since_bank'] = x['customer_since_bank'].dt.strftime('%m').astype(str).astype(int)\n",
    "    x.drop(['customer_since_all','customer_since_bank','customer_birth_date'], axis=1, inplace=True)"
   ]
  },
  {
   "cell_type": "code",
   "execution_count": null,
   "id": "f6974559",
   "metadata": {},
   "outputs": [],
   "source": [
    "for x in df_list:\n",
    "    drop_col(x)\n",
    "    striptime(x)\n",
    "    print(x.shape)"
   ]
  },
  {
   "cell_type": "markdown",
   "id": "10c96fac",
   "metadata": {},
   "source": [
    "## Removing outliers"
   ]
  },
  {
   "cell_type": "markdown",
   "id": "2c81c433",
   "metadata": {},
   "source": [
    "We have noticed some of the clients are born in the 80s. Therefore we will assign a threshhold of 100years for the client's age.  In addition, the client's birth year cannot greater than the year he started using the banks services."
   ]
  },
  {
   "cell_type": "code",
   "execution_count": null,
   "id": "40c6c7fd",
   "metadata": {},
   "outputs": [],
   "source": [
    "def remove_out(x):\n",
    "    x.drop(x[x['Birth_year'] < 1919].index, inplace = True)\n",
    "    x.drop(x.loc[x['Birth_year'] > (x['Year_since_all'] | x['Year_since_bank'])].index, inplace=True)\n",
    "\n",
    "remove_out(train1)\n",
    "remove_out(train2)\n",
    "remove_out(train3)\n",
    "remove_out(test1)\n",
    "remove_out(test2)\n",
    "remove_out(test3)"
   ]
  },
  {
   "cell_type": "markdown",
   "id": "c2f2a7a9",
   "metadata": {},
   "source": [
    "## Feature Engineering"
   ]
  },
  {
   "cell_type": "markdown",
   "id": "c06425af",
   "metadata": {},
   "source": [
    "First, let's extract the customer's Age and drop Birth_year"
   ]
  },
  {
   "cell_type": "code",
   "execution_count": null,
   "id": "f9f2ae5e",
   "metadata": {},
   "outputs": [],
   "source": [
    "def client_age(x):\n",
    "    x['Age'] = x['Birth_year'].apply(lambda x: 2018 -x)\n",
    "    x.drop('Birth_year', axis=1, inplace=True)\n",
    "    \n",
    "for x in df_list:\n",
    "    client_age(x)"
   ]
  },
  {
   "cell_type": "markdown",
   "id": "7f17fb7b",
   "metadata": {},
   "source": [
    "- We could see if there is a significant (large) difference in say balance or savings as this could be an indicator that the client is about to churn. (can just be stored as a boolean). \n",
    "- can also compute a boolean regarding the change in some services that the client has. Say he dropped in insurrance 21 last month or smtg. also as a boolean "
   ]
  },
  {
   "cell_type": "code",
   "execution_count": null,
   "id": "67367856",
   "metadata": {},
   "outputs": [],
   "source": [
    "#creates a new column in the dataset with a boolean regarding if the values between the 3 columns are the same. \n",
    "\n",
    "def change(orig1,orig2,orig3, cols_bool,cols_cont,key ='client_id'):\n",
    "    columns= [key] + cols_bool + cols_cont\n",
    "    merged_1 = pd.merge(orig1,orig2[columns], how = 'left',on = key, suffixes=['','-1'])\n",
    "    merged = pd.merge(merged_1,orig3[columns], how = 'left',on = key, suffixes=['','-2'])\n",
    "    to_drop =[]\n",
    "    for var in cols_bool:\n",
    "        merged['ch_{}'.format(var)] = np.where((merged[var]==merged['{}-1'.format(var)])&(\n",
    "                                   merged[var] == merged['{}-2'.format(var)]),0,1)\n",
    "        merged['ch_{}'.format(var)] = pd.Categorical(merged['ch_{}'.format(var)])\n",
    "        merged[var] = pd.Categorical(merged[var])\n",
    "        to_drop+=['{}-1'.format(var),'{}-2'.format(var)]\n",
    "    for var in cols_cont:\n",
    "        merged['diff_mth1_{}'.format(var)] = -merged[var]+merged['{}-1'.format(var)]\n",
    "        merged['diff_mth2_{}'.format(var)] = -merged[var]+merged['{}-2'.format(var)]  \n",
    "        to_drop+=['{}-1'.format(var),'{}-2'.format(var)]\n",
    "    merged.drop(to_drop,axis=1,inplace=True)\n",
    "    return merged"
   ]
  },
  {
   "cell_type": "code",
   "execution_count": null,
   "id": "cbd0a8ec",
   "metadata": {
    "ExecuteTime": {
     "end_time": "2022-04-06T14:59:59.376021Z",
     "start_time": "2022-04-06T14:59:59.127743Z"
    },
    "scrolled": true
   },
   "outputs": [],
   "source": [
    "# create a new column regarding if there was a change in any var that starts w has_... in the last couple months\n",
    "# will be 1 if there was any change in the last 2 months 0 otherwise\n",
    "to_bool = ['homebanking_active', 'has_homebanking',\n",
    "       'has_insurance_21', 'has_insurance_23', 'has_life_insurance_fixed_cap',\n",
    "       'has_life_insurance_decreasing_cap', 'has_fire_car_other_insurance',\n",
    "       'has_personal_loan', 'has_mortgage_loan', 'has_current_account',\n",
    "       'has_pension_saving', 'has_savings_account',\n",
    "       'has_savings_account_starter', 'has_current_account_starter']\n",
    "to_diff_cont = ['bal_insurance_21', 'bal_insurance_23','bal_personal_loan', \n",
    "        'bal_mortgage_loan', 'bal_current_account',\n",
    "        'bal_pension_saving', 'bal_savings_account',\n",
    "        'bal_savings_account_starter', 'bal_current_account_starter',\n",
    "        'cap_life_insurance_fixed_cap','cap_life_insurance_decreasing_cap']\n",
    "train_s = change(train1,train2,train3, to_bool,to_diff_cont)\n",
    "train_s.columns"
   ]
  },
  {
   "cell_type": "markdown",
   "id": "3c7038dc",
   "metadata": {},
   "source": [
    "## Feature selection"
   ]
  },
  {
   "cell_type": "markdown",
   "id": "0cbd313d",
   "metadata": {},
   "source": [
    "### Categorical vars"
   ]
  },
  {
   "cell_type": "code",
   "execution_count": null,
   "id": "ecbba722",
   "metadata": {},
   "outputs": [],
   "source": [
    "cat_variables = ['homebanking_active', 'has_homebanking',\n",
    "       'has_insurance_21', 'has_insurance_23', 'has_life_insurance_fixed_cap',\n",
    "       'has_life_insurance_decreasing_cap', 'has_fire_car_other_insurance',\n",
    "       'has_personal_loan', 'has_mortgage_loan', 'has_current_account',\n",
    "       'has_pension_saving', 'has_savings_account',\n",
    "       'has_savings_account_starter', 'has_current_account_starter','visits_distinct_so', 'visits_distinct_so_areas', 'customer_gender',\n",
    "       'customer_self_employed','ch_homebanking_active',\n",
    "       'ch_has_homebanking', 'ch_has_insurance_21', 'ch_has_insurance_23',\n",
    "       'ch_has_life_insurance_fixed_cap',\n",
    "       'ch_has_life_insurance_decreasing_cap',\n",
    "       'ch_has_fire_car_other_insurance', 'ch_has_personal_loan',\n",
    "       'ch_has_mortgage_loan', 'ch_has_current_account',\n",
    "       'ch_has_pension_saving', 'ch_has_savings_account',\n",
    "       'ch_has_savings_account_starter', 'ch_has_current_account_starter']\n",
    "for var in cat_variables:\n",
    "    train_s[var] = pd.Categorical(train_s[var]) "
   ]
  },
  {
   "cell_type": "code",
   "execution_count": null,
   "id": "a6a071c7",
   "metadata": {
    "scrolled": true
   },
   "outputs": [],
   "source": [
    "sns.set(rc={'figure.figsize':(5,3)}) \n",
    "fig, axes = plt.subplots(11, 3, figsize=(100, 60))\n",
    "\n",
    "i = 0\n",
    "j = 0\n",
    "for variable in cat_variables:\n",
    "    sns.histplot(ax=axes[i, j],data=train_s, x=variable, hue = \"target\" , multiple=\"stack\",hue_order = [0,1])\n",
    "    j = j + 1\n",
    "    if (j > 2):\n",
    "        j = 0\n",
    "        i = i + 1"
   ]
  },
  {
   "cell_type": "code",
   "execution_count": null,
   "id": "5e5dfa1e",
   "metadata": {
    "scrolled": true
   },
   "outputs": [],
   "source": [
    "fig, axes = plt.subplots(11, 3, figsize=(100, 60))\n",
    "\n",
    "i = 0\n",
    "j = 0\n",
    "for variable in cat_variables:\n",
    "    sns.histplot(ax=axes[i, j],data=train_s, x=variable, hue = \"target\" , multiple=\"fill\",hue_order = [0,1])\n",
    "    j = j + 1\n",
    "    if (j > 2):\n",
    "        j = 0\n",
    "        i = i + 1"
   ]
  },
  {
   "cell_type": "code",
   "execution_count": null,
   "id": "f4a06823",
   "metadata": {
    "scrolled": true
   },
   "outputs": [],
   "source": [
    "sns.set(rc={'figure.figsize':(5,3)}) \n",
    "fig, axes = plt.subplots(11, 3, figsize=(100, 60))\n",
    "\n",
    "i = 0\n",
    "j = 0\n",
    "for variable in cat_variables:\n",
    "    plot = sns.histplot(ax=axes[i, j],data=train_s, x=variable, hue = \"target\" , multiple=\"fill\",hue_order = [0,1])\n",
    "    plot.set(ylim=(0, 0.06))\n",
    "    j = j + 1\n",
    "    if (j > 2):\n",
    "        j = 0\n",
    "        i = i + 1"
   ]
  },
  {
   "cell_type": "code",
   "execution_count": null,
   "id": "155fbd42",
   "metadata": {},
   "outputs": [],
   "source": [
    "vars_to_explore = ['has_insurance_23','has_insurance_21','has_fire_car_other_insurance',\n",
    "                   'ch_has_insurance_21','ch_has_savings_account','ch_has_current_account',\n",
    "                   'ch_homebanking_active','has_pension_saving','has_life_insurance_fixed_cap',\n",
    "                   'customer_postal_code','has_current_account_starter','ch_has_current_account_starter',\n",
    "                   'has_savings_account_starter','visits_distinct_so_areas','ch_has_life_insurance_decreasing_cap',\n",
    "                   'ch_has_mortgage_loan','ch_has_savings_account_starter','ch_has_fire_car_other_insurance',\n",
    "                   'ch_has_insurance_23','visits_distinct_so','ch_has_homebanking','ch_has_personal_loan',\n",
    "                   'ch_has_pension_saving','ch_has_current_account_starter']"
   ]
  },
  {
   "cell_type": "code",
   "execution_count": null,
   "id": "704909ad",
   "metadata": {},
   "outputs": [],
   "source": [
    "from scipy.stats import chi2_contingency \n",
    "from scipy.stats import chi2"
   ]
  },
  {
   "cell_type": "code",
   "execution_count": null,
   "id": "1bd3a715",
   "metadata": {
    "scrolled": true
   },
   "outputs": [],
   "source": [
    "remove = []\n",
    "keep = []\n",
    "for x in vars_to_explore:\n",
    "    test = pd.crosstab(train_s['target'],train_s[x],margins = False)\n",
    "    stat, p, dof, expected = chi2_contingency(test)\n",
    "    critical = chi2.ppf(0.99, dof)\n",
    "    if abs(stat) >= critical:\n",
    "        keep = keep + [x]\n",
    "        print(x + ': Dependent (reject H0)')\n",
    "    else:\n",
    "        remove = remove + [x]\n",
    "        print(x + ': Independent (fail to reject H0)')"
   ]
  },
  {
   "cell_type": "code",
   "execution_count": null,
   "id": "ae94f1bc",
   "metadata": {},
   "outputs": [],
   "source": [
    "print(keep)"
   ]
  },
  {
   "cell_type": "markdown",
   "id": "4ff2d040",
   "metadata": {},
   "source": [
    "### Continious vars"
   ]
  },
  {
   "cell_type": "code",
   "execution_count": null,
   "id": "6319e72e",
   "metadata": {},
   "outputs": [],
   "source": [
    "cont_vars = ['bal_insurance_21', 'bal_insurance_23','bal_personal_loan', \n",
    "'bal_mortgage_loan', 'bal_current_account',\n",
    "'bal_pension_saving', 'bal_savings_account',\n",
    "'bal_savings_account_starter', 'bal_current_account_starter',\n",
    "'cap_life_insurance_fixed_cap','cap_life_insurance_decreasing_cap',\n",
    "'diff_mth1_bal_insurance_21', 'diff_mth2_bal_insurance_21',\n",
    "'diff_mth1_bal_insurance_23', 'diff_mth2_bal_insurance_23',\n",
    "'diff_mth1_bal_personal_loan', 'diff_mth2_bal_personal_loan',\n",
    "'diff_mth1_bal_mortgage_loan', 'diff_mth2_bal_mortgage_loan',\n",
    "'diff_mth1_bal_current_account', 'diff_mth2_bal_current_account',\n",
    "'diff_mth1_bal_pension_saving', 'diff_mth2_bal_pension_saving',\n",
    "'diff_mth1_bal_savings_account', 'diff_mth2_bal_savings_account',\n",
    "'diff_mth1_bal_savings_account_starter',\n",
    "'diff_mth2_bal_savings_account_starter',\n",
    "'diff_mth1_bal_current_account_starter',\n",
    "'diff_mth2_bal_current_account_starter',\n",
    "'diff_mth1_cap_life_insurance_fixed_cap',\n",
    "'diff_mth2_cap_life_insurance_fixed_cap',\n",
    "'diff_mth1_cap_life_insurance_decreasing_cap',\n",
    "'diff_mth2_cap_life_insurance_decreasing_cap']"
   ]
  },
  {
   "cell_type": "code",
   "execution_count": null,
   "id": "04b85ede",
   "metadata": {
    "scrolled": true
   },
   "outputs": [],
   "source": [
    "sns.set(rc={'figure.figsize':(5,3)}) \n",
    "fig, axes = plt.subplots(11, 3, figsize=(100, 60))\n",
    "\n",
    "i = 0\n",
    "j = 0\n",
    "for variable in cont_vars:\n",
    "    sns.histplot(ax=axes[i, j],data=train_s, x=variable, hue = \"target\" , multiple=\"stack\",hue_order = [0,1],\n",
    "                bins = 50)\n",
    "    j = j + 1\n",
    "    if (j > 2):\n",
    "        j = 0\n",
    "        i = i + 1"
   ]
  },
  {
   "cell_type": "code",
   "execution_count": null,
   "id": "1983116d",
   "metadata": {
    "scrolled": true
   },
   "outputs": [],
   "source": [
    "sns.set(rc={'figure.figsize':(5,3)}) \n",
    "fig, axes = plt.subplots(11, 3, figsize=(100, 60))\n",
    "\n",
    "i = 0\n",
    "j = 0\n",
    "for variable in cont_vars:\n",
    "    plot = sns.histplot(ax=axes[i, j],data=train_s, x=variable, hue = \"target\" , multiple=\"fill\",hue_order = [0,1],\n",
    "                        bins = 50)\n",
    "    plot.set(ylim=(0, 0.06))\n",
    "    j = j + 1\n",
    "    if (j > 2):\n",
    "        j = 0\n",
    "        i = i + 1"
   ]
  },
  {
   "cell_type": "code",
   "execution_count": null,
   "id": "743a0dad",
   "metadata": {},
   "outputs": [],
   "source": [
    "keep_cont = ['bal_savings_account',' diff_mth2_bal_savings_account','bal_current_account',\n",
    "             'diff_mth1_bal_current_account','diff_mth1_bal_savings_account',' diff_mth2_bal_current_account']"
   ]
  },
  {
   "cell_type": "code",
   "execution_count": null,
   "id": "945377a1",
   "metadata": {},
   "outputs": [],
   "source": [
    "len(keep + keep_cont)"
   ]
  },
  {
   "cell_type": "code",
   "execution_count": null,
   "id": "29185b9f",
   "metadata": {},
   "outputs": [],
   "source": [
    "## Dimension reductioin"
   ]
  },
  {
   "cell_type": "code",
   "execution_count": null,
   "id": "cca8a5a3",
   "metadata": {},
   "outputs": [],
   "source": [
    "# #check if df is factorable \n",
    "# train_fa = train_s.drop(['client_id','target'],axis=1)\n",
    "# chi_square_value,p_value=calculate_bartlett_sphericity(train_fa)\n",
    "# chi_square_value, p_value"
   ]
  },
  {
   "cell_type": "code",
   "execution_count": null,
   "id": "c749be5e",
   "metadata": {},
   "outputs": [],
   "source": [
    "# _,kmo_model=calculate_kmo(train_fa)"
   ]
  },
  {
   "cell_type": "code",
   "execution_count": null,
   "id": "822b02aa",
   "metadata": {},
   "outputs": [],
   "source": [
    "# fa = FactorAnalyzer(n_factors=30,rotation=None )\n",
    "# fa.fit(train_fa )\n",
    "# # Check Eigenvalues\n",
    "# ev, v = fa.get_eigenvalues()\n",
    "# ev"
   ]
  },
  {
   "cell_type": "code",
   "execution_count": null,
   "id": "58a18dd4",
   "metadata": {},
   "outputs": [],
   "source": [
    "# # Create scree plot\n",
    "# plt.scatter(range(1,train_fa.shape[1]+1),ev)\n",
    "# plt.plot(range(1,train_fa.shape[1]+1),ev)\n",
    "# plt.title('Scree Plot')\n",
    "# plt.xlabel('Factors')\n",
    "# plt.ylabel('Eigenvalue')\n",
    "# plt.grid()\n",
    "# plt.show()"
   ]
  },
  {
   "cell_type": "code",
   "execution_count": null,
   "id": "dee0ee65",
   "metadata": {},
   "outputs": [],
   "source": [
    "#  #Create factor analysis object and perform factor analysis\n",
    "# fa = FactorAnalyzer(20, rotation=\"varimax\")\n",
    "# fa.fit(train_fa)"
   ]
  },
  {
   "cell_type": "code",
   "execution_count": null,
   "id": "0bc2790a",
   "metadata": {
    "scrolled": true
   },
   "outputs": [],
   "source": [
    "# pd.DataFrame(fa.loadings_, index=train_fa.columns)"
   ]
  },
  {
   "cell_type": "code",
   "execution_count": null,
   "id": "904e032b",
   "metadata": {
    "scrolled": true
   },
   "outputs": [],
   "source": [
    "# check variance explained \n",
    "pd.DataFrame(fa.get_factor_variance(), index=['SS Loadings','Proportion Var','Cumulative Var'])"
   ]
  },
  {
   "cell_type": "code",
   "execution_count": null,
   "id": "6c0d1dfd",
   "metadata": {},
   "outputs": [],
   "source": []
  },
  {
   "cell_type": "markdown",
   "id": "5f0d3971",
   "metadata": {},
   "source": [
    "# Modeling Creation"
   ]
  },
  {
   "cell_type": "code",
   "execution_count": null,
   "id": "34e50be1",
   "metadata": {},
   "outputs": [],
   "source": []
  },
  {
   "cell_type": "markdown",
   "id": "ed671504",
   "metadata": {},
   "source": [
    "# Model Evaluation"
   ]
  },
  {
   "cell_type": "markdown",
   "id": "79014aad",
   "metadata": {},
   "source": [
    "# Model Improvement"
   ]
  },
  {
   "cell_type": "code",
   "execution_count": null,
   "id": "0f85be01",
   "metadata": {},
   "outputs": [],
   "source": []
  },
  {
   "cell_type": "code",
   "execution_count": null,
   "id": "4f1e7f94",
   "metadata": {},
   "outputs": [],
   "source": []
  },
  {
   "cell_type": "markdown",
   "id": "44d88b28",
   "metadata": {},
   "source": [
    "# WISSAM"
   ]
  },
  {
   "cell_type": "code",
   "execution_count": null,
   "id": "0a547c0b",
   "metadata": {},
   "outputs": [],
   "source": []
  }
 ],
 "metadata": {
  "kernelspec": {
   "display_name": "Python 3 (ipykernel)",
   "language": "python",
   "name": "python3"
  },
  "language_info": {
   "codemirror_mode": {
    "name": "ipython",
    "version": 3
   },
   "file_extension": ".py",
   "mimetype": "text/x-python",
   "name": "python",
   "nbconvert_exporter": "python",
   "pygments_lexer": "ipython3",
   "version": "3.9.7"
  },
  "latex_envs": {
   "LaTeX_envs_menu_present": true,
   "autoclose": false,
   "autocomplete": true,
   "bibliofile": "biblio.bib",
   "cite_by": "apalike",
   "current_citInitial": 1,
   "eqLabelWithNumbers": true,
   "eqNumInitial": 1,
   "hotkeys": {
    "equation": "Ctrl-E",
    "itemize": "Ctrl-I"
   },
   "labels_anchors": false,
   "latex_user_defs": false,
   "report_style_numbering": false,
   "user_envs_cfg": false
  },
  "toc": {
   "base_numbering": 1,
   "nav_menu": {
    "height": "216px",
    "width": "363px"
   },
   "number_sections": true,
   "sideBar": true,
   "skip_h1_title": false,
   "title_cell": "Table of Contents",
   "title_sidebar": "Contents",
   "toc_cell": false,
   "toc_position": {
    "height": "calc(100% - 180px)",
    "left": "10px",
    "top": "150px",
    "width": "281.6px"
   },
   "toc_section_display": true,
   "toc_window_display": true
  },
  "varInspector": {
   "cols": {
    "lenName": 16,
    "lenType": 16,
    "lenVar": 40
   },
   "kernels_config": {
    "python": {
     "delete_cmd_postfix": "",
     "delete_cmd_prefix": "del ",
     "library": "var_list.py",
     "varRefreshCmd": "print(var_dic_list())"
    },
    "r": {
     "delete_cmd_postfix": ") ",
     "delete_cmd_prefix": "rm(",
     "library": "var_list.r",
     "varRefreshCmd": "cat(var_dic_list()) "
    }
   },
   "types_to_exclude": [
    "module",
    "function",
    "builtin_function_or_method",
    "instance",
    "_Feature"
   ],
   "window_display": false
  }
 },
 "nbformat": 4,
 "nbformat_minor": 5
}
