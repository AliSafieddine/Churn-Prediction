{
 "cells": [
  {
   "cell_type": "code",
   "execution_count": 28,
   "id": "c0073b40",
   "metadata": {},
   "outputs": [],
   "source": [
    "# http://seppe.net/aa/assignment1/"
   ]
  },
  {
   "cell_type": "markdown",
   "id": "3e9f9cad",
   "metadata": {},
   "source": [
    "# Importing Packages"
   ]
  },
  {
   "cell_type": "code",
   "execution_count": 29,
   "id": "b42bdc6c",
   "metadata": {},
   "outputs": [],
   "source": [
    "import pandas as pd\n",
    "import numpy as np"
   ]
  },
  {
   "cell_type": "markdown",
   "id": "ec71d546",
   "metadata": {},
   "source": [
    "# Loading data"
   ]
  },
  {
   "cell_type": "code",
   "execution_count": 30,
   "id": "51916e11",
   "metadata": {
    "scrolled": true
   },
   "outputs": [],
   "source": [
    "train_1 = pd.read_csv(\"./train_month_1.csv\")\n",
    "train_2 = pd.read_csv(\"./train_month_2.csv\")\n",
    "train_3 = pd.read_csv(\"./train_month_3_with_target.csv\")\n",
    "test_1 = pd.read_csv(\"./test_month_1.csv\")\n",
    "test_2 = pd.read_csv(\"./test_month_2.csv\")\n",
    "test_3 = pd.read_csv(\"./test_month_3.csv\")"
   ]
  },
  {
   "cell_type": "markdown",
   "id": "087e7721",
   "metadata": {},
   "source": [
    "# Data Preprocessing"
   ]
  },
  {
   "cell_type": "markdown",
   "id": "0762539a",
   "metadata": {},
   "source": [
    "## Merge Datasets"
   ]
  },
  {
   "cell_type": "code",
   "execution_count": 31,
   "id": "f6a1a6a9",
   "metadata": {},
   "outputs": [
    {
     "name": "stdout",
     "output_type": "stream",
     "text": [
      "[ True  True  True  True  True  True  True  True  True  True  True  True\n",
      "  True  True  True  True  True  True  True  True  True  True  True  True\n",
      "  True  True  True  True  True  True  True  True  True  True  True  True\n",
      "  True  True  True]\n"
     ]
    }
   ],
   "source": [
    "print(train_1.columns == train_2.columns)"
   ]
  },
  {
   "cell_type": "code",
   "execution_count": 32,
   "id": "94750c9f",
   "metadata": {},
   "outputs": [
    {
     "data": {
      "text/plain": [
       "Index(['client_id', 'homebanking_active', 'has_homebanking',\n",
       "       'has_insurance_21', 'has_insurance_23', 'has_life_insurance_fixed_cap',\n",
       "       'has_life_insurance_decreasing_cap', 'has_fire_car_other_insurance',\n",
       "       'has_personal_loan', 'has_mortgage_loan', 'has_current_account',\n",
       "       'has_pension_saving', 'has_savings_account',\n",
       "       'has_savings_account_starter', 'has_current_account_starter',\n",
       "       'bal_insurance_21', 'bal_insurance_23', 'cap_life_insurance_fixed_cap',\n",
       "       'cap_life_insurance_decreasing_cap', 'prem_fire_car_other_insurance',\n",
       "       'bal_personal_loan', 'bal_mortgage_loan', 'bal_current_account',\n",
       "       'bal_pension_saving', 'bal_savings_account',\n",
       "       'bal_savings_account_starter', 'bal_current_account_starter',\n",
       "       'visits_distinct_so', 'visits_distinct_so_areas', 'customer_since_all',\n",
       "       'customer_since_bank', 'customer_gender', 'customer_birth_date',\n",
       "       'customer_postal_code', 'customer_occupation_code',\n",
       "       'customer_self_employed', 'customer_education', 'customer_children',\n",
       "       'customer_relationship', 'target'],\n",
       "      dtype='object')"
      ]
     },
     "execution_count": 32,
     "metadata": {},
     "output_type": "execute_result"
    }
   ],
   "source": [
    "# since train_3 should have target variable, it should have one extra column\n",
    "train_3.columns"
   ]
  },
  {
   "cell_type": "code",
   "execution_count": 33,
   "id": "22716577",
   "metadata": {},
   "outputs": [
    {
     "name": "stdout",
     "output_type": "stream",
     "text": [
      "[ True  True  True  True  True  True  True  True  True  True  True  True\n",
      "  True  True  True  True  True  True  True  True  True  True  True  True\n",
      "  True  True  True  True  True  True  True  True  True  True  True  True\n",
      "  True  True  True]\n"
     ]
    }
   ],
   "source": [
    "print(train_1.columns == train_3.iloc[:,:-1].columns)"
   ]
  },
  {
   "cell_type": "code",
   "execution_count": 34,
   "id": "b65359e8",
   "metadata": {},
   "outputs": [],
   "source": [
    "train_1['target'] = train_2['target'] = np.nan"
   ]
  },
  {
   "cell_type": "code",
   "execution_count": 35,
   "id": "c41185a4",
   "metadata": {},
   "outputs": [],
   "source": [
    "# Add month variable for date for each set\n",
    "train_1['month'] = 1\n",
    "train_2['month'] = 2\n",
    "train_3['month'] = 3"
   ]
  },
  {
   "cell_type": "code",
   "execution_count": 36,
   "id": "85a0650e",
   "metadata": {},
   "outputs": [],
   "source": [
    "# re-organize columns to have month as second column\n",
    "train_df = pd.concat([train_1,train_2,train_3])\n",
    "train_df = train_df.loc[:,['client_id','month'] + list(train_df.iloc[:,1:-1].columns)]"
   ]
  },
  {
   "cell_type": "code",
   "execution_count": 37,
   "id": "a8d08477",
   "metadata": {},
   "outputs": [
    {
     "data": {
      "text/html": [
       "<div>\n",
       "<style scoped>\n",
       "    .dataframe tbody tr th:only-of-type {\n",
       "        vertical-align: middle;\n",
       "    }\n",
       "\n",
       "    .dataframe tbody tr th {\n",
       "        vertical-align: top;\n",
       "    }\n",
       "\n",
       "    .dataframe thead th {\n",
       "        text-align: right;\n",
       "    }\n",
       "</style>\n",
       "<table border=\"1\" class=\"dataframe\">\n",
       "  <thead>\n",
       "    <tr style=\"text-align: right;\">\n",
       "      <th></th>\n",
       "      <th>client_id</th>\n",
       "      <th>month</th>\n",
       "      <th>homebanking_active</th>\n",
       "      <th>has_homebanking</th>\n",
       "      <th>has_insurance_21</th>\n",
       "      <th>has_insurance_23</th>\n",
       "      <th>has_life_insurance_fixed_cap</th>\n",
       "      <th>has_life_insurance_decreasing_cap</th>\n",
       "      <th>has_fire_car_other_insurance</th>\n",
       "      <th>has_personal_loan</th>\n",
       "      <th>...</th>\n",
       "      <th>customer_since_bank</th>\n",
       "      <th>customer_gender</th>\n",
       "      <th>customer_birth_date</th>\n",
       "      <th>customer_postal_code</th>\n",
       "      <th>customer_occupation_code</th>\n",
       "      <th>customer_self_employed</th>\n",
       "      <th>customer_education</th>\n",
       "      <th>customer_children</th>\n",
       "      <th>customer_relationship</th>\n",
       "      <th>target</th>\n",
       "    </tr>\n",
       "  </thead>\n",
       "  <tbody>\n",
       "    <tr>\n",
       "      <th>0</th>\n",
       "      <td>910df42ad36243aa4ce16324cd7b15b0</td>\n",
       "      <td>1</td>\n",
       "      <td>0</td>\n",
       "      <td>0</td>\n",
       "      <td>0</td>\n",
       "      <td>0</td>\n",
       "      <td>0</td>\n",
       "      <td>0</td>\n",
       "      <td>1</td>\n",
       "      <td>0</td>\n",
       "      <td>...</td>\n",
       "      <td>1994-08</td>\n",
       "      <td>1</td>\n",
       "      <td>1943-09</td>\n",
       "      <td>3630</td>\n",
       "      <td>9.0</td>\n",
       "      <td>0</td>\n",
       "      <td>0.0</td>\n",
       "      <td>NaN</td>\n",
       "      <td>NaN</td>\n",
       "      <td>NaN</td>\n",
       "    </tr>\n",
       "    <tr>\n",
       "      <th>1</th>\n",
       "      <td>4e19dc3a54323c5bbfc374664b950cd1</td>\n",
       "      <td>1</td>\n",
       "      <td>1</td>\n",
       "      <td>1</td>\n",
       "      <td>0</td>\n",
       "      <td>0</td>\n",
       "      <td>0</td>\n",
       "      <td>0</td>\n",
       "      <td>0</td>\n",
       "      <td>0</td>\n",
       "      <td>...</td>\n",
       "      <td>2017-01</td>\n",
       "      <td>1</td>\n",
       "      <td>1994-02</td>\n",
       "      <td>2460</td>\n",
       "      <td>9.0</td>\n",
       "      <td>0</td>\n",
       "      <td>NaN</td>\n",
       "      <td>mature</td>\n",
       "      <td>couple</td>\n",
       "      <td>NaN</td>\n",
       "    </tr>\n",
       "    <tr>\n",
       "      <th>2</th>\n",
       "      <td>f5d08db1b86c0cb0f566bf446cff1fb4</td>\n",
       "      <td>1</td>\n",
       "      <td>1</td>\n",
       "      <td>1</td>\n",
       "      <td>0</td>\n",
       "      <td>0</td>\n",
       "      <td>0</td>\n",
       "      <td>0</td>\n",
       "      <td>1</td>\n",
       "      <td>0</td>\n",
       "      <td>...</td>\n",
       "      <td>1980-12</td>\n",
       "      <td>2</td>\n",
       "      <td>1936-10</td>\n",
       "      <td>2660</td>\n",
       "      <td>9.0</td>\n",
       "      <td>0</td>\n",
       "      <td>NaN</td>\n",
       "      <td>NaN</td>\n",
       "      <td>single</td>\n",
       "      <td>NaN</td>\n",
       "    </tr>\n",
       "    <tr>\n",
       "      <th>3</th>\n",
       "      <td>26170ecf63653e215c52f4262c1c4859</td>\n",
       "      <td>1</td>\n",
       "      <td>0</td>\n",
       "      <td>0</td>\n",
       "      <td>0</td>\n",
       "      <td>0</td>\n",
       "      <td>0</td>\n",
       "      <td>0</td>\n",
       "      <td>1</td>\n",
       "      <td>0</td>\n",
       "      <td>...</td>\n",
       "      <td>2013-10</td>\n",
       "      <td>1</td>\n",
       "      <td>1946-09</td>\n",
       "      <td>6600</td>\n",
       "      <td>9.0</td>\n",
       "      <td>0</td>\n",
       "      <td>NaN</td>\n",
       "      <td>NaN</td>\n",
       "      <td>NaN</td>\n",
       "      <td>NaN</td>\n",
       "    </tr>\n",
       "    <tr>\n",
       "      <th>4</th>\n",
       "      <td>c078009957dffb64f20e61b41220a976</td>\n",
       "      <td>1</td>\n",
       "      <td>0</td>\n",
       "      <td>0</td>\n",
       "      <td>0</td>\n",
       "      <td>0</td>\n",
       "      <td>0</td>\n",
       "      <td>0</td>\n",
       "      <td>0</td>\n",
       "      <td>0</td>\n",
       "      <td>...</td>\n",
       "      <td>2012-11</td>\n",
       "      <td>2</td>\n",
       "      <td>1996-04</td>\n",
       "      <td>8550</td>\n",
       "      <td>9.0</td>\n",
       "      <td>0</td>\n",
       "      <td>NaN</td>\n",
       "      <td>mature</td>\n",
       "      <td>couple</td>\n",
       "      <td>NaN</td>\n",
       "    </tr>\n",
       "  </tbody>\n",
       "</table>\n",
       "<p>5 rows × 41 columns</p>\n",
       "</div>"
      ],
      "text/plain": [
       "                          client_id  month  homebanking_active  \\\n",
       "0  910df42ad36243aa4ce16324cd7b15b0      1                   0   \n",
       "1  4e19dc3a54323c5bbfc374664b950cd1      1                   1   \n",
       "2  f5d08db1b86c0cb0f566bf446cff1fb4      1                   1   \n",
       "3  26170ecf63653e215c52f4262c1c4859      1                   0   \n",
       "4  c078009957dffb64f20e61b41220a976      1                   0   \n",
       "\n",
       "   has_homebanking  has_insurance_21  has_insurance_23  \\\n",
       "0                0                 0                 0   \n",
       "1                1                 0                 0   \n",
       "2                1                 0                 0   \n",
       "3                0                 0                 0   \n",
       "4                0                 0                 0   \n",
       "\n",
       "   has_life_insurance_fixed_cap  has_life_insurance_decreasing_cap  \\\n",
       "0                             0                                  0   \n",
       "1                             0                                  0   \n",
       "2                             0                                  0   \n",
       "3                             0                                  0   \n",
       "4                             0                                  0   \n",
       "\n",
       "   has_fire_car_other_insurance  has_personal_loan  ...  customer_since_bank  \\\n",
       "0                             1                  0  ...              1994-08   \n",
       "1                             0                  0  ...              2017-01   \n",
       "2                             1                  0  ...              1980-12   \n",
       "3                             1                  0  ...              2013-10   \n",
       "4                             0                  0  ...              2012-11   \n",
       "\n",
       "   customer_gender  customer_birth_date  customer_postal_code  \\\n",
       "0                1              1943-09                  3630   \n",
       "1                1              1994-02                  2460   \n",
       "2                2              1936-10                  2660   \n",
       "3                1              1946-09                  6600   \n",
       "4                2              1996-04                  8550   \n",
       "\n",
       "   customer_occupation_code  customer_self_employed  customer_education  \\\n",
       "0                       9.0                       0                 0.0   \n",
       "1                       9.0                       0                 NaN   \n",
       "2                       9.0                       0                 NaN   \n",
       "3                       9.0                       0                 NaN   \n",
       "4                       9.0                       0                 NaN   \n",
       "\n",
       "   customer_children  customer_relationship  target  \n",
       "0                NaN                    NaN     NaN  \n",
       "1             mature                 couple     NaN  \n",
       "2                NaN                 single     NaN  \n",
       "3                NaN                    NaN     NaN  \n",
       "4             mature                 couple     NaN  \n",
       "\n",
       "[5 rows x 41 columns]"
      ]
     },
     "execution_count": 37,
     "metadata": {},
     "output_type": "execute_result"
    }
   ],
   "source": [
    "train_df.head()"
   ]
  },
  {
   "cell_type": "markdown",
   "id": "c7b2de6a",
   "metadata": {},
   "source": [
    "## Data Exploration"
   ]
  },
  {
   "cell_type": "code",
   "execution_count": 38,
   "id": "e88ae2ce",
   "metadata": {
    "scrolled": true
   },
   "outputs": [
    {
     "name": "stdout",
     "output_type": "stream",
     "text": [
      "<class 'pandas.core.frame.DataFrame'>\n",
      "Int64Index: 191091 entries, 0 to 63696\n",
      "Data columns (total 41 columns):\n",
      " #   Column                             Non-Null Count   Dtype  \n",
      "---  ------                             --------------   -----  \n",
      " 0   client_id                          191091 non-null  object \n",
      " 1   month                              191091 non-null  int64  \n",
      " 2   homebanking_active                 191091 non-null  int64  \n",
      " 3   has_homebanking                    191091 non-null  int64  \n",
      " 4   has_insurance_21                   191091 non-null  int64  \n",
      " 5   has_insurance_23                   191091 non-null  int64  \n",
      " 6   has_life_insurance_fixed_cap       191091 non-null  int64  \n",
      " 7   has_life_insurance_decreasing_cap  191091 non-null  int64  \n",
      " 8   has_fire_car_other_insurance       191091 non-null  int64  \n",
      " 9   has_personal_loan                  191091 non-null  int64  \n",
      " 10  has_mortgage_loan                  191091 non-null  int64  \n",
      " 11  has_current_account                191091 non-null  int64  \n",
      " 12  has_pension_saving                 191091 non-null  int64  \n",
      " 13  has_savings_account                191091 non-null  int64  \n",
      " 14  has_savings_account_starter        191091 non-null  int64  \n",
      " 15  has_current_account_starter        191091 non-null  int64  \n",
      " 16  bal_insurance_21                   191091 non-null  int64  \n",
      " 17  bal_insurance_23                   191091 non-null  int64  \n",
      " 18  cap_life_insurance_fixed_cap       191091 non-null  int64  \n",
      " 19  cap_life_insurance_decreasing_cap  191091 non-null  int64  \n",
      " 20  prem_fire_car_other_insurance      191091 non-null  int64  \n",
      " 21  bal_personal_loan                  191091 non-null  int64  \n",
      " 22  bal_mortgage_loan                  191091 non-null  int64  \n",
      " 23  bal_current_account                191091 non-null  int64  \n",
      " 24  bal_pension_saving                 191091 non-null  int64  \n",
      " 25  bal_savings_account                191091 non-null  int64  \n",
      " 26  bal_savings_account_starter        191091 non-null  int64  \n",
      " 27  bal_current_account_starter        191091 non-null  int64  \n",
      " 28  visits_distinct_so                 191091 non-null  float64\n",
      " 29  visits_distinct_so_areas           191091 non-null  float64\n",
      " 30  customer_since_all                 190389 non-null  object \n",
      " 31  customer_since_bank                190344 non-null  object \n",
      " 32  customer_gender                    191091 non-null  int64  \n",
      " 33  customer_birth_date                191091 non-null  object \n",
      " 34  customer_postal_code               191091 non-null  int64  \n",
      " 35  customer_occupation_code           185085 non-null  float64\n",
      " 36  customer_self_employed             191091 non-null  int64  \n",
      " 37  customer_education                 49716 non-null   float64\n",
      " 38  customer_children                  121606 non-null  object \n",
      " 39  customer_relationship              147260 non-null  object \n",
      " 40  target                             63697 non-null   float64\n",
      "dtypes: float64(5), int64(30), object(6)\n",
      "memory usage: 61.2+ MB\n"
     ]
    }
   ],
   "source": [
    "train_df.info()"
   ]
  },
  {
   "cell_type": "code",
   "execution_count": 39,
   "id": "bc36c2a1",
   "metadata": {},
   "outputs": [],
   "source": [
    "# objects (strings), floats, and ints"
   ]
  },
  {
   "cell_type": "code",
   "execution_count": 40,
   "id": "4b31adff",
   "metadata": {},
   "outputs": [
    {
     "name": "stdout",
     "output_type": "stream",
     "text": [
      "Continious variables are: ['bal_insurance_21', 'bal_insurance_23', 'cap_life_insurance_fixed_cap', 'cap_life_insurance_decreasing_cap', 'prem_fire_car_other_insurance', 'bal_personal_loan', 'bal_mortgage_loan', 'bal_current_account', 'bal_pension_saving', 'bal_savings_account', 'bal_savings_account_starter', 'bal_current_account_starter', 'customer_since_all', 'customer_since_bank', 'customer_birth_date', 'customer_postal_code']\n",
      "------------------\n",
      "Categorical variables are: ['homebanking_active', 'has_homebanking', 'has_insurance_21', 'has_insurance_23', 'has_life_insurance_fixed_cap', 'has_life_insurance_decreasing_cap', 'has_fire_car_other_insurance', 'has_personal_loan', 'has_mortgage_loan', 'has_current_account', 'has_pension_saving', 'has_savings_account', 'has_savings_account_starter', 'has_current_account_starter', 'visits_distinct_so', 'visits_distinct_so_areas', 'customer_gender', 'customer_occupation_code', 'customer_self_employed', 'customer_education', 'customer_children', 'customer_relationship', 'target']\n"
     ]
    }
   ],
   "source": [
    "cat_vars = []\n",
    "cont_vars = []\n",
    "columns = list(train_df.drop(columns = ['client_id','month']).columns)\n",
    "for i in columns:\n",
    "    if (len(train_df.loc[:,i].unique()) >= 20):\n",
    "        cont_vars.append(i)\n",
    "    else:\n",
    "        cat_vars.append(i)\n",
    "        \n",
    "print('Continious variables are:',cont_vars)\n",
    "print('------------------')\n",
    "print('Categorical variables are:',cat_vars)\n",
    "# Here we have our list of categorical and continious variables"
   ]
  },
  {
   "cell_type": "code",
   "execution_count": 41,
   "id": "c467ea85",
   "metadata": {
    "scrolled": true
   },
   "outputs": [
    {
     "name": "stdout",
     "output_type": "stream",
     "text": [
      "homebanking_active [0 1]\n",
      "has_homebanking [0 1]\n",
      "has_insurance_21 [0 1]\n",
      "has_insurance_23 [0 1]\n",
      "has_life_insurance_fixed_cap [0 1]\n",
      "has_life_insurance_decreasing_cap [0 1]\n",
      "has_fire_car_other_insurance [1 0]\n",
      "has_personal_loan [0 1]\n",
      "has_mortgage_loan [0 1]\n",
      "has_current_account [1 0]\n",
      "has_pension_saving [0 1]\n",
      "has_savings_account [1 0]\n",
      "has_savings_account_starter [0 1]\n",
      "has_current_account_starter [0 1]\n",
      "visits_distinct_so [1. 2. 3. 6. 4. 5. 7.]\n",
      "visits_distinct_so_areas [1. 2. 3. 5. 4. 6.]\n",
      "customer_gender [1 2]\n",
      "customer_occupation_code [ 9. nan  7.  8.  4.  5.  0.  6.  3.  1.  2.]\n",
      "customer_self_employed [0 1]\n",
      "customer_education [ 0. nan  2.  1.  4.  3.  5.  6.]\n",
      "customer_children [nan 'mature' 'no' 'young' 'preschool' 'adolescent' 'grownup' 'onebaby'\n",
      " 'yes']\n",
      "customer_relationship [nan 'couple' 'single']\n",
      "target [nan  0.  1.]\n"
     ]
    }
   ],
   "source": [
    "# To check we will print all unique values\n",
    "for col in cat_vars:\n",
    "    print(col,train_df[col].unique())"
   ]
  },
  {
   "cell_type": "code",
   "execution_count": 42,
   "id": "22bd7923",
   "metadata": {},
   "outputs": [],
   "source": [
    "# looks good"
   ]
  },
  {
   "cell_type": "code",
   "execution_count": 43,
   "id": "637eda61",
   "metadata": {
    "scrolled": false
   },
   "outputs": [
    {
     "name": "stdout",
     "output_type": "stream",
     "text": [
      "bal_insurance_21 1000\n",
      "bal_insurance_23 701\n",
      "cap_life_insurance_fixed_cap 131\n",
      "cap_life_insurance_decreasing_cap 2067\n",
      "prem_fire_car_other_insurance 290\n",
      "bal_personal_loan 2461\n",
      "bal_mortgage_loan 12301\n",
      "bal_current_account 1949\n",
      "bal_pension_saving 1952\n",
      "bal_savings_account 4981\n",
      "bal_savings_account_starter 649\n",
      "bal_current_account_starter 693\n",
      "customer_since_all 662\n",
      "customer_since_bank 578\n",
      "customer_birth_date 1092\n",
      "customer_postal_code 1034\n"
     ]
    }
   ],
   "source": [
    "for col in cont_vars:\n",
    "    print(col,len(train_df[col].unique()))"
   ]
  },
  {
   "cell_type": "code",
   "execution_count": 44,
   "id": "4cf7d22d",
   "metadata": {},
   "outputs": [],
   "source": [
    "# also looks good"
   ]
  },
  {
   "cell_type": "markdown",
   "id": "7e54e2c3",
   "metadata": {},
   "source": [
    "### Check missing values"
   ]
  },
  {
   "cell_type": "code",
   "execution_count": 45,
   "id": "02b3d5a8",
   "metadata": {
    "scrolled": true
   },
   "outputs": [
    {
     "name": "stdout",
     "output_type": "stream",
     "text": [
      "customer_since_all           0.367364\n",
      "customer_since_bank          0.390913\n",
      "customer_occupation_code     3.143005\n",
      "customer_education          73.983076\n",
      "customer_children           36.362257\n",
      "customer_relationship       22.937239\n",
      "target                      66.666667\n",
      "dtype: float64\n"
     ]
    }
   ],
   "source": [
    "missing_values = (train_df.isnull().sum() / train_df.shape[0]*100)\n",
    "print(missing_values[missing_values > 0])"
   ]
  },
  {
   "cell_type": "code",
   "execution_count": 46,
   "id": "e6c8dc1d",
   "metadata": {
    "scrolled": true
   },
   "outputs": [
    {
     "name": "stdout",
     "output_type": "stream",
     "text": [
      "customer_since_all ['1983-03' '2017-01' '1980-12' '1998-08' '2012-11' '2004-08' '2012-03'\n",
      " '1992-02' '2006-10' '1975-01' '2017-02' '1991-04' '1994-06' '1986-07'\n",
      " '2010-01' '1992-12' '1996-10' '2007-02' '1981-01' '2013-02' '1991-11'\n",
      " '2017-04' '1982-03' '2005-11' '1980-03' '1992-03' '1994-05' '2016-12'\n",
      " '2000-05' '2006-01' '2009-10' '2017-05' '1996-09' '2017-08' '1998-02'\n",
      " '1985-05' '2016-03' '1994-04' '2004-12' '1990-09' '2012-05' '1995-11'\n",
      " '2001-10' '2001-01' '1991-09' '1987-11' '1991-12' '1993-01' '2011-03'\n",
      " '2014-08' '1998-04' '2016-10' '1981-08' '1983-11' '2015-02' '1998-10'\n",
      " '1995-04' '1991-01' '2003-12' '1990-05' '1990-07' '2007-11' '1990-12'\n",
      " '1993-07' '1993-06' '1999-01' '1997-03' '2015-04' '2016-09' '2012-04'\n",
      " '2011-02' '1968-01' '1992-11' '1997-09' '2016-11' '2006-11' '2010-12'\n",
      " '1976-09' '1998-09' '2001-08' '1996-08' '2013-01' '1997-04' '2018-01'\n",
      " '2002-06' '2007-01' '1994-07' '2014-04' '1978-07' '2000-07' '2008-01'\n",
      " '1986-01' '1998-01' '2008-12' '2001-05' '2013-10' '1996-05' '1999-03'\n",
      " '1993-10' '1986-06' '1992-05' '1983-06' '1993-09' '2000-12' '1995-03'\n",
      " '2008-08' '2011-10' '1990-11' '1996-04' '2011-05' '2015-10' '2014-11'\n",
      " '2002-11' '2012-09' '1988-01' '1985-10' '2015-06' '1990-03' '2008-10'\n",
      " '2014-01' '1965-12' '2008-06' '2003-05' '1989-11' '2004-03' '2005-12'\n",
      " '2001-06' '1987-10' '1979-12' '1979-07' '2014-02' '2008-09' '1967-02'\n",
      " '1995-05' '1983-10' '2008-03' '2014-06' '2011-06' '1996-02' '1986-05'\n",
      " '1983-04' '1988-09' '1997-02' '1999-11' '2000-03' '2009-02' '2011-08'\n",
      " '2016-01' '2009-01' '2017-06' '1992-10' '2001-03' '2010-05' '1994-08'\n",
      " '1994-11' '2005-06' '1984-01' '1996-01' '2005-07' '1997-01' '2010-04'\n",
      " '1991-07' '2010-03' '1987-03' '1999-04' '2005-09' '2006-12' '1992-01'\n",
      " '1977-01' '1997-10' '2002-01' '1993-08' '1989-03' '2004-11' '2002-04'\n",
      " '1974-10' '1995-09' '2012-12' '1979-04' '2017-11' '2016-02' '2011-01'\n",
      " '2003-01' '1983-01' '2004-06' '2007-06' '1996-12' '2012-02' '2015-12'\n",
      " '1991-06' '2007-04' '1999-10' '2004-01' '2008-05' '1999-05' '1987-06'\n",
      " '1989-04' '2009-05' '1994-09' '2000-06' '1975-10' '2010-06' '2012-01'\n",
      " '1999-06' '2001-09' '1991-03' '1978-02' '2004-05' '2014-03' '1987-01'\n",
      " '1995-06' '2001-04' '1995-02' nan '2005-01' '1989-06' '2015-11' '2007-07'\n",
      " '2002-02' '2003-08' '1977-08' '2005-04' '2003-04' '1989-02' '2014-12'\n",
      " '2015-08' '2006-03' '1997-12' '1967-06' '2013-07' '2017-12' '1985-06'\n",
      " '2017-10' '2012-08' '1993-05' '1996-03' '1985-03' '1990-01' '2013-08'\n",
      " '1996-11' '2010-11' '2000-01' '1955-01' '1992-08' '2003-10' '2000-04'\n",
      " '1993-04' '1991-05' '1998-12' '2000-02' '2003-06' '2011-11' '1995-07'\n",
      " '1977-09' '2017-09' '1979-10' '2010-10' '2006-05' '1980-05' '1993-12'\n",
      " '2005-03' '2007-10' '2006-09' '2010-09' '2013-09' '2013-03' '2000-08'\n",
      " '2013-12' '1997-11' '1991-02' '1991-10' '1987-07' '2002-05' '2008-11'\n",
      " '1997-05' '2001-12' '2007-12' '1988-07' '2008-02' '1979-03' '2004-10'\n",
      " '2015-09' '2009-07' '2009-08' '1994-10' '1999-07' '1994-12' '2010-07'\n",
      " '1995-12' '1990-08' '1995-08' '1984-04' '1994-01' '1992-04' '2001-07'\n",
      " '1974-05' '1996-07' '2000-11' '2014-10' '2009-09' '2013-06' '2002-03'\n",
      " '1993-02' '1995-10' '1982-11' '2016-06' '1970-01' '1993-11' '2007-09'\n",
      " '2000-10' '1999-09' '1987-08' '1999-08' '1968-12' '1976-10' '2017-03'\n",
      " '2017-07' '1989-01' '1982-01' '1986-12' '2015-01' '2008-07' '2007-08'\n",
      " '1988-03' '2011-09' '2011-12' '2004-07' '2012-07' '1993-03' '1989-10'\n",
      " '1995-01' '1999-02' '1992-09' '1988-10' '2009-04' '1984-06' '2016-04'\n",
      " '2008-04' '2003-03' '2013-11' '1990-02' '2016-08' '1992-07' '2009-06'\n",
      " '2013-04' '1972-12' '1979-09' '1973-08' '1978-01' '1985-02' '1968-10'\n",
      " '2002-12' '1991-08' '1984-02' '2004-04' '2014-09' '1980-01' '2005-08'\n",
      " '2002-09' '2004-02' '1997-06' '1988-12' '1971-01' '1990-10' '1986-11'\n",
      " '2003-07' '1989-07' '2001-02' '2001-11' '2007-03' '1996-06' '2015-03'\n",
      " '1977-02' '2013-05' '1981-06' '2009-03' '1983-02' '2005-05' '2012-06'\n",
      " '1998-06' '1985-08' '1987-09' '1988-08' '2016-05' '2003-09' '1986-10'\n",
      " '1985-12' '1975-03' '1990-04' '1994-03' '2006-08' '1989-12' '2006-02'\n",
      " '1977-06' '1992-06' '1972-08' '2003-02' '2002-10' '2002-07' '1971-06'\n",
      " '2014-05' '1978-03' '1979-02' '2003-11' '1988-05' '1998-05' '1998-03'\n",
      " '1976-07' '1980-10' '1998-07' '2004-09' '2000-09' '1977-05' '1981-04'\n",
      " '2011-07' '1975-09' '1982-02' '1989-05' '1997-07' '1979-05' '2005-10'\n",
      " '2016-07' '2002-08' '1983-09' '1973-03' '1998-11' '2005-02' '1978-04'\n",
      " '1989-08' '1986-03' '1990-06' '1988-02' '1988-04' '1980-06' '1977-10'\n",
      " '1981-11' '1967-07' '1984-12' '1969-01' '1988-06' '2009-12' '1987-04'\n",
      " '1980-07' '1999-12' '1984-09' '2009-11' '2011-04' '2010-02' '1988-11'\n",
      " '2012-10' '1980-11' '1981-07' '1972-07' '1978-05' '1989-09' '1985-07'\n",
      " '1987-05' '1972-06' '1980-09' '1971-02' '1983-05' '1971-08' '2007-05'\n",
      " '1994-02' '2014-07' '1975-07' '2006-07' '2006-04' '1982-08' '1985-01'\n",
      " '1970-02' '2010-08' '1972-01' '1986-09' '2006-06' '1975-11' '1997-08'\n",
      " '1977-12' '1984-11' '1982-04' '1978-09' '2015-05' '1975-04' '1984-07'\n",
      " '1987-02' '1974-08' '1980-04' '1984-03' '1971-03' '1971-10' '1975-02'\n",
      " '2015-07' '1970-07' '1981-03' '1971-07' '1976-03' '1987-12' '1982-05'\n",
      " '1976-06' '1981-02' '1969-05' '1981-12' '1985-09' '1984-10' '1971-11'\n",
      " '1984-05' '1974-12' '1986-02' '1985-11' '1980-02' '1981-09' '1976-11'\n",
      " '1973-05' '1983-08' '1974-02' '1972-02' '1974-03' '1975-12' '1976-01'\n",
      " '1979-08' '1979-01' '1983-12' '1979-06' '1982-06' '1985-04' '1974-06'\n",
      " '1973-01' '1982-09' '1986-04' '1970-11' '1974-04' '1969-06' '1982-10'\n",
      " '1978-08' '1965-05' '1977-04' '1981-10' '1978-06' '1977-07' '1970-08'\n",
      " '1966-02' '1978-11' '1984-08' '1979-11' '1982-07' '1970-09' '1986-08'\n",
      " '1973-07' '1966-04' '1971-04' '1978-12' '1959-10' '1971-12' '1973-10'\n",
      " '1974-01' '1968-09' '1968-04' '1982-12' '1977-11' '1965-10' '1976-12'\n",
      " '1976-04' '1970-06' '1970-12' '1978-10' '1973-06' '1981-05' '1969-07'\n",
      " '1964-04' '1976-02' '1965-01' '1974-09' '1973-09' '1969-10' '1965-03'\n",
      " '1983-07' '2018-10' '1969-08' '1971-05' '1972-09' '1976-08' '1977-03'\n",
      " '1965-06' '1963-09' '1972-11' '1967-01' '1965-09' '1968-06' '1967-12'\n",
      " '1976-05' '1972-05' '1964-08' '1966-12' '1975-08' '1975-05' '1970-04'\n",
      " '1974-11' '1970-05' '1961-09' '1968-11' '1969-04' '1968-07' '1974-07'\n",
      " '1973-04' '1958-09' '1967-03' '1973-02' '1968-05' '1968-08' '1966-08'\n",
      " '1973-11' '1975-06' '1972-03' '1965-04' '1980-08' '1961-10' '1960-04'\n",
      " '1969-09' '1970-10' '1961-08' '1963-05' '1964-05' '1965-08' '1971-09'\n",
      " '1965-11' '1972-10' '1958-10' '1973-12' '1969-12' '1972-04' '1967-08'\n",
      " '1966-06' '1969-11' '1963-06' '1967-05' '1964-12' '1967-11' '1970-03'\n",
      " '1966-05' '1965-02' '1963-03' '1963-10' '1963-08' '1963-02' '1966-11'\n",
      " '1967-04' '1969-02' '1968-02' '1961-05' '1968-03' '1964-01' '1962-03'\n",
      " '1958-02' '1964-02' '1969-03' '1960-11' '1956-04' '2018-05' '1966-07'\n",
      " '1962-11' '1966-09' '1967-09']\n",
      "customer_since_bank ['1994-08' '2017-01' '1980-12' '2013-10' '2012-11' '2015-08' '2012-03'\n",
      " '1992-02' '2006-10' '1996-07' '2017-02' '2004-08' '1994-06' '1986-07'\n",
      " '2011-10' '2015-01' '1999-03' '2007-02' '1981-01' '2016-09' '1991-11'\n",
      " '2017-04' '2002-02' '2013-09' '2006-02' '2016-10' '1994-05' '2008-04'\n",
      " '2016-12' '2000-05' '2006-01' '2009-10' '2017-05' '2017-07' '2017-08'\n",
      " '1998-05' '2000-07' '2016-03' '2004-09' '2005-02' '1990-09' '2012-05'\n",
      " '1995-11' '2001-10' '2001-01' '1991-09' '1987-11' '1991-12' '1993-01'\n",
      " '2011-03' '1998-04' '1981-08' '1983-11' '2015-02' '1998-10' '1995-04'\n",
      " '1991-01' '2003-12' '1990-05' '1990-07' '2010-06' '1990-12' '1993-07'\n",
      " '1999-01' '1997-03' '2015-04' '2012-04' '2011-05' '1968-01' '2006-09'\n",
      " '1992-11' '1997-09' '2016-11' '2006-11' '2010-12' '2006-05' '1998-09'\n",
      " '2001-08' '1993-06' '1996-08' '2013-01' '1997-04' '2018-01' '2007-01'\n",
      " '1994-07' '2014-04' '1978-07' '2013-03' '1986-01' '1998-01' '2008-12'\n",
      " '2010-03' '2001-05' '1996-05' '1975-01' '2010-05' '1986-06' '1992-05'\n",
      " '1983-06' '1993-09' '1995-03' '2008-08' '2014-08' '2015-03' '1990-11'\n",
      " '2008-06' '2015-10' '1996-04' '2014-11' '2002-11' '2012-09' '1988-01'\n",
      " '1985-10' '2015-06' '2008-10' '2014-01' '2003-05' '2004-03' '2005-12'\n",
      " '2008-09' '1979-07' '2014-02' '1984-11' '1995-05' '1983-10' '2008-03'\n",
      " '2011-06' '1996-02' '1992-12' '1986-05' '1988-09' '2011-01' '1997-02'\n",
      " '1999-11' '2000-03' '2009-02' '2011-08' '2016-01' '2009-01' '2017-06'\n",
      " '1992-10' '2001-03' '1989-11' '2011-02' '2004-12' '1996-01' '2005-07'\n",
      " '2013-11' '1991-07' '1987-03' '1999-05' '2006-12' '1998-08' '1992-01'\n",
      " '1997-10' '2002-01' '1993-08' '2010-01' '1989-03' '2002-04' '1998-02'\n",
      " '1995-09' '2012-12' '1979-04' '2017-11' '2006-06' '2016-02' '2003-01'\n",
      " '2004-06' '2007-06' '1996-12' '2012-02' '1991-06' '2007-04' '1999-10'\n",
      " '2004-01' '2008-05' '1987-06' '2009-05' '1994-09' '2012-01' '1999-06'\n",
      " '2001-09' '1991-03' '1994-02' '2004-05' '2017-12' '2014-03' '2000-06'\n",
      " '1995-06' '1995-02' nan '2005-01' '1989-06' '2015-11' '2006-04' '2003-08'\n",
      " '1977-08' '2005-04' '2003-04' '1989-02' '2009-12' '2014-12' '2013-02'\n",
      " '1997-12' '2013-07' '1991-04' '1978-02' '1985-06' '2017-10' '2012-08'\n",
      " '1993-05' '1996-03' '1990-01' '2013-08' '1996-11' '2010-11' '2000-01'\n",
      " '2004-11' '2008-01' '2003-10' '1999-04' '2000-04' '1987-10' '1993-04'\n",
      " '1991-05' '1986-10' '2007-07' '1998-12' '2000-02' '2007-11' '2003-06'\n",
      " '2011-11' '2010-04' '1995-07' '1977-09' '2017-09' '1979-10' '1993-12'\n",
      " '2005-03' '2007-10' '2010-09' '1997-01' '2000-08' '2013-12' '1997-11'\n",
      " '1987-07' '2002-05' '1996-10' '2008-11' '1997-05' '2007-12' '1988-07'\n",
      " '2008-02' '1987-05' '2015-09' '2009-07' '2009-08' '1999-07' '2015-12'\n",
      " '1989-04' '2010-07' '1990-08' '1995-08' '1997-08' '1994-01' '1995-01'\n",
      " '2001-07' '1974-05' '1994-12' '2000-11' '2014-10' '2000-12' '2013-06'\n",
      " '2016-06' '2006-07' '1993-02' '2014-07' '1970-01' '1993-11' '2007-09'\n",
      " '2000-10' '1999-09' '1987-08' '1999-08' '1973-03' '2017-03' '2008-07'\n",
      " '2007-08' '1993-03' '2011-09' '2003-09' '2011-12' '2004-07' '2012-07'\n",
      " '2011-04' '1989-10' '2014-05' '1992-09' '1992-03' '1988-10' '1992-04'\n",
      " '2009-04' '1984-06' '1984-04' '1979-03' '2016-04' '1995-10' '2014-06'\n",
      " '2005-09' '1994-04' '2002-03' '1975-10' '1990-02' '2006-03' '2016-08'\n",
      " '2009-06' '1999-02' '2013-04' '1972-12' '1973-08' '1978-01' '2002-12'\n",
      " '1991-08' '2006-08' '1980-01' '1988-03' '2005-08' '2002-09' '2005-10'\n",
      " '1998-03' '2010-10' '1988-12' '1971-01' '1994-10' '1976-10' '2003-07'\n",
      " '1989-07' '1980-03' '2003-03' '2012-06' '2001-11' '1996-06' '1977-02'\n",
      " '2013-05' '1981-06' '1989-01' '2009-03' '1983-02' '2005-05' '1996-09'\n",
      " '2004-04' '2009-11' '2007-03' '2016-05' '2004-02' '2001-12' '1990-04'\n",
      " '2001-02' '1994-03' '1989-12' '1997-06' '1977-06' '1992-06' '1991-02'\n",
      " '2003-02' '1992-08' '2002-10' '2002-07' '1994-11' '1971-06' '1979-02'\n",
      " '2010-02' '2003-11' '1988-05' '1985-12' '1976-07' '1980-10' '1998-07'\n",
      " '1984-02' '2000-09' '1981-04' '2011-07' '1982-02' '2010-08' '2009-09'\n",
      " '1989-05' '1997-07' '2005-11' '2005-06' '1978-04' '2016-07' '1995-12'\n",
      " '1983-09' '1998-11' '1989-08' '1990-06' '1988-02' '1986-08' '1999-12'\n",
      " '1988-04' '1980-06' '1977-10' '1984-12' '1969-01' '1998-06' '1990-10'\n",
      " '2004-10' '1979-05' '1987-04' '1975-03' '2002-06' '2002-08' '1984-09'\n",
      " '1988-11' '1987-01' '2001-06' '2001-04' '1981-07' '1993-10' '2014-09'\n",
      " '2012-10' '1978-05' '1989-09' '1985-07' '1972-06' '1980-09' '1986-12'\n",
      " '1983-05' '1976-09' '1975-07' '1982-08' '1986-03' '1986-09' '1983-01'\n",
      " '1975-11' '1980-05' '1982-04' '1972-07' '1985-02' '1978-09' '2015-05'\n",
      " '1987-02' '1974-08' '1980-04' '1984-03' '1988-06' '1975-02' '2015-07'\n",
      " '1990-03' '1981-03' '1985-08' '1976-03' '1972-01' '1987-12' '1982-05'\n",
      " '1987-09' '1992-07' '1981-02' '1981-12' '1985-01' '1985-09' '1984-10'\n",
      " '1984-01' '1984-05' '1986-02' '1988-08' '1980-02' '1980-07' '1981-09'\n",
      " '1976-11' '1973-05' '1972-02' '1975-12' '1976-01' '1979-08' '1985-11'\n",
      " '1979-01' '1982-11' '1979-06' '1978-03' '1982-01' '1984-07' '1973-01'\n",
      " '1982-09' '1986-04' '1982-10' '1985-04' '1978-06' '1974-10' '1977-07'\n",
      " '1984-08' '1985-05' '1978-08' '2007-05' '1973-07' '1971-04' '1986-11'\n",
      " '1977-01' '1978-12' '1971-12' '1983-07' '1983-08' '1979-11' '1991-10'\n",
      " '1983-12' '1982-06' '1980-11' '1976-04' '1985-03' '1983-04' '1979-12'\n",
      " '1971-03' '1974-04' '1977-04' '1974-12' '1973-06' '1982-03' '1973-09'\n",
      " '1974-09' '1979-09' '1975-09' '1974-02' '2018-10' '1971-07' '1971-10'\n",
      " '1976-08' '1977-03' '1978-10' '1981-10' '1972-11' '1975-04' '1976-06'\n",
      " '1977-12' '1981-11' '1972-05' '1978-11' '1976-12' '1971-08' '1981-05'\n",
      " '1974-01' '1983-03' '1973-10' '1977-11' '1982-07' '1982-12' '1975-08'\n",
      " '1974-06' '1976-02' '1980-08' '1975-06' '1973-02' '1972-08' '1971-09'\n",
      " '1972-10' '1973-12' '1970-09' '1975-05' '1970-06' '1972-04' '1977-05'\n",
      " '1973-11' '1973-04' '1972-03' '1970-07' '1970-12' '1971-02' '1974-11'\n",
      " '1974-03' '1972-09' '1974-07' '1970-05' '1976-05' '1971-11' '1970-08'\n",
      " '2018-05' '1968-05' '1970-11']\n"
     ]
    },
    {
     "name": "stdout",
     "output_type": "stream",
     "text": [
      "customer_occupation_code [ 9. nan  7.  8.  4.  5.  0.  6.  3.  1.  2.]\n",
      "customer_education [ 0. nan  2.  1.  4.  3.  5.  6.]\n",
      "customer_children [nan 'mature' 'no' 'young' 'preschool' 'adolescent' 'grownup' 'onebaby'\n",
      " 'yes']\n",
      "customer_relationship [nan 'couple' 'single']\n",
      "target [nan  0.  1.]\n"
     ]
    }
   ],
   "source": [
    "for c in list(missing_values[missing_values >0].index):\n",
    "    print(c,train_df[c].unique())"
   ]
  },
  {
   "cell_type": "markdown",
   "id": "e3ed7fcb",
   "metadata": {},
   "source": [
    "- We know target has 2/3rds missing since only month 3 has target\n",
    "- Some values relating to customers seem to have a lot of data missing"
   ]
  },
  {
   "cell_type": "markdown",
   "id": "8e19a77e",
   "metadata": {},
   "source": [
    "### Numerical Values"
   ]
  },
  {
   "cell_type": "code",
   "execution_count": null,
   "id": "892273c2",
   "metadata": {},
   "outputs": [],
   "source": [
    "# Continious numerical values\n",
    "train_df.loc[:,cont_vars].describe()"
   ]
  },
  {
   "cell_type": "code",
   "execution_count": null,
   "id": "740ebd11",
   "metadata": {},
   "outputs": [],
   "source": [
    "# Categorical numerical values\n",
    "train_df.loc[:,cat_vars].describe()"
   ]
  },
  {
   "cell_type": "markdown",
   "id": "fc776f07",
   "metadata": {},
   "source": [
    "## Data Cleaning"
   ]
  },
  {
   "cell_type": "markdown",
   "id": "36c5bfb7",
   "metadata": {},
   "source": []
  }
 ],
 "metadata": {
  "kernelspec": {
   "display_name": "Python 3 (ipykernel)",
   "language": "python",
   "name": "python3"
  },
  "language_info": {
   "codemirror_mode": {
    "name": "ipython",
    "version": 3
   },
   "file_extension": ".py",
   "mimetype": "text/x-python",
   "name": "python",
   "nbconvert_exporter": "python",
   "pygments_lexer": "ipython3",
   "version": "3.9.7"
  },
  "latex_envs": {
   "LaTeX_envs_menu_present": true,
   "autoclose": false,
   "autocomplete": true,
   "bibliofile": "biblio.bib",
   "cite_by": "apalike",
   "current_citInitial": 1,
   "eqLabelWithNumbers": true,
   "eqNumInitial": 1,
   "hotkeys": {
    "equation": "Ctrl-E",
    "itemize": "Ctrl-I"
   },
   "labels_anchors": false,
   "latex_user_defs": false,
   "report_style_numbering": false,
   "user_envs_cfg": false
  },
  "toc": {
   "base_numbering": 1,
   "nav_menu": {},
   "number_sections": true,
   "sideBar": true,
   "skip_h1_title": false,
   "title_cell": "Table of Contents",
   "title_sidebar": "Contents",
   "toc_cell": false,
   "toc_position": {
    "height": "calc(100% - 180px)",
    "left": "10px",
    "top": "150px",
    "width": "281.6px"
   },
   "toc_section_display": true,
   "toc_window_display": true
  },
  "varInspector": {
   "cols": {
    "lenName": 16,
    "lenType": 16,
    "lenVar": 40
   },
   "kernels_config": {
    "python": {
     "delete_cmd_postfix": "",
     "delete_cmd_prefix": "del ",
     "library": "var_list.py",
     "varRefreshCmd": "print(var_dic_list())"
    },
    "r": {
     "delete_cmd_postfix": ") ",
     "delete_cmd_prefix": "rm(",
     "library": "var_list.r",
     "varRefreshCmd": "cat(var_dic_list()) "
    }
   },
   "types_to_exclude": [
    "module",
    "function",
    "builtin_function_or_method",
    "instance",
    "_Feature"
   ],
   "window_display": false
  }
 },
 "nbformat": 4,
 "nbformat_minor": 5
}
