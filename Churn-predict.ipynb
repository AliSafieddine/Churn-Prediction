{
 "cells": [
  {
   "cell_type": "markdown",
   "metadata": {},
   "source": [
    "## Import Libraries"
   ]
  },
  {
   "cell_type": "code",
   "execution_count": null,
   "metadata": {},
   "outputs": [],
   "source": [
    "import pandas as pd \n",
    "import numpy as np \n",
    "from sklearn.ensemble import RandomForestClassifier\n",
    "from sklearn.model_selection import train_test_split\n",
    "from datetime import date\n",
    "import matplotlib.pyplot as plt\n",
    "import seaborn as sns\n",
    "from sklearn.metrics import accuracy_score, confusion_matrix\n",
    "from sklearn.model_selection import RandomizedSearchCV\n",
    "%matplotlib inline\n",
    "import pandas as pd \n",
    "from tabulate import tabulate"
   ]
  },
  {
   "cell_type": "code",
   "execution_count": null,
   "metadata": {},
   "outputs": [],
   "source": [
    "train1 = pd.read_csv('train_month_3_with_target.csv')\n",
    "train2 = pd.read_csv('train_month_2.csv')\n",
    "train3 = pd.read_csv('train_month_1.csv')\n",
    "test1 = pd.read_csv('test_month_3.csv')\n",
    "test2 = pd.read_csv('test_month_2.csv')\n",
    "test3 = pd.read_csv('test_month_1.csv')"
   ]
  },
  {
   "cell_type": "markdown",
   "metadata": {},
   "source": [
    "## Dataset type info"
   ]
  },
  {
   "cell_type": "code",
   "execution_count": null,
   "metadata": {},
   "outputs": [],
   "source": [
    "#train1.info()\n",
    "train1.describe()\n",
    "train1.isna().any()\n",
    "train1.dtypes"
   ]
  },
  {
   "cell_type": "code",
   "execution_count": null,
   "metadata": {},
   "outputs": [],
   "source": [
    "pd.set_option('display.max_columns',None)\n"
   ]
  },
  {
   "cell_type": "code",
   "execution_count": null,
   "metadata": {},
   "outputs": [],
   "source": [
    "train1['customer_since_all'] = pd.to_datetime(train1['customer_since_all'])\n",
    "train1['customer_since_bank'] = pd.to_datetime(train1['customer_since_bank'])\n",
    "train1['customer_birth_date'] = pd.to_datetime(train1['customer_birth_date'])"
   ]
  },
  {
   "cell_type": "markdown",
   "metadata": {},
   "source": [
    "## Continuous vs Categorical features"
   ]
  },
  {
   "cell_type": "code",
   "execution_count": null,
   "metadata": {},
   "outputs": [],
   "source": [
    "cat_vars = []\n",
    "cont_vars = []\n",
    "columns = list(train1.drop(columns = ['client_id']).columns)\n",
    "for i in columns:\n",
    "    if (len(train1.loc[:,i].unique()) >= 20):\n",
    "        cont_vars.append(i)\n",
    "    else:\n",
    "        cat_vars.append(i)\n",
    "        \n",
    "print('Continious variables are:',cont_vars)\n",
    "print('------------------')\n",
    "print('Categorical variables are:',cat_vars)\n",
    "# Here we have our list of categorical and continious variables"
   ]
  },
  {
   "cell_type": "markdown",
   "metadata": {},
   "source": [
    "## Categorical features unique values"
   ]
  },
  {
   "cell_type": "code",
   "execution_count": null,
   "metadata": {},
   "outputs": [],
   "source": [
    "# To check we will print all unique values\n",
    "for col in cat_vars:\n",
    "    print(col,train1[col].unique())"
   ]
  },
  {
   "cell_type": "markdown",
   "metadata": {},
   "source": [
    "# Colums with missing Data"
   ]
  },
  {
   "cell_type": "code",
   "execution_count": null,
   "metadata": {},
   "outputs": [],
   "source": [
    "missing_df = train1.isnull().sum(axis=0).reset_index()\n",
    "missing_df.columns = ['variable', 'missing values']\n",
    "missing_df['%']=(missing_df['missing values'])/train1.shape[0]*100\n",
    "missing_df = missing_df[missing_df['missing values'] >0].sort_values('%')\n",
    "missing_df"
   ]
  },
  {
   "cell_type": "markdown",
   "metadata": {},
   "source": [
    "## Data Cleaning"
   ]
  },
  {
   "cell_type": "markdown",
   "metadata": {},
   "source": [
    "## Approach 1: Understand how to deal with variables with large amount of missing values"
   ]
  },
  {
   "cell_type": "markdown",
   "metadata": {},
   "source": [
    "We will explore the following columns to see how can we deal with the missing values:\n",
    "-    customer_education\n",
    "-    customer_occupation_code\n",
    "-    customer_relationship\n",
    "-    customer_children\n",
    "\n"
   ]
  },
  {
   "cell_type": "code",
   "execution_count": null,
   "metadata": {},
   "outputs": [],
   "source": [
    "missing_df2 = missing_df[missing_df['missing values'] >250]\n",
    "for col in missing_df2['variable']:\n",
    "    print(col,train1[col].unique())"
   ]
  },
  {
   "cell_type": "markdown",
   "metadata": {},
   "source": [
    "customer_education"
   ]
  },
  {
   "cell_type": "code",
   "execution_count": null,
   "metadata": {},
   "outputs": [],
   "source": [
    "sns.countplot(x='customer_education',data=train1,hue='target',palette=\"coolwarm_r\")"
   ]
  },
  {
   "cell_type": "markdown",
   "metadata": {},
   "source": [
    "### customer_occupation_code "
   ]
  },
  {
   "cell_type": "markdown",
   "metadata": {},
   "source": [
    "-   Most of the clients's job code is equal to 9.\n",
    "-   From the plot above, we can't see a direct relationship between job code and current balance.\\\n",
    "-> customer_occupation_code feature will be dropped."
   ]
  },
  {
   "cell_type": "code",
   "execution_count": null,
   "metadata": {},
   "outputs": [],
   "source": [
    "for x in range(0,10):\n",
    "    print(f'job_code {x}', len(train1.loc[(train1['customer_occupation_code']==x)]))"
   ]
  },
  {
   "cell_type": "code",
   "execution_count": null,
   "metadata": {},
   "outputs": [],
   "source": [
    "sns.countplot(x='customer_occupation_code',data=train1,hue='target',palette=\"coolwarm_r\")"
   ]
  },
  {
   "cell_type": "code",
   "execution_count": null,
   "metadata": {},
   "outputs": [],
   "source": [
    "plt.scatter(train1['customer_occupation_code'], train1['bal_current_account'])"
   ]
  },
  {
   "cell_type": "markdown",
   "metadata": {},
   "source": [
    "### customer_relationship "
   ]
  },
  {
   "cell_type": "markdown",
   "metadata": {},
   "source": [
    "Among the non-missing data, the table below describes the proportion of customers churned if they are single or in a couple. \n",
    "We have approxiatemtly the same proportion of churners whether they are a couple or single. "
   ]
  },
  {
   "cell_type": "code",
   "execution_count": null,
   "metadata": {},
   "outputs": [],
   "source": [
    "a = len(train1.loc[(train1['customer_relationship']=='couple') & (train1['target']== 0)])+len(train1.loc[(train1['customer_relationship']=='couple') & (train1['target']== 1)]) \n",
    "\n",
    "b = len(train1.loc[(train1['customer_relationship']=='single') & (train1['target']== 0)])+ len(train1.loc[(train1['customer_relationship']=='single') & (train1['target']== 1)]) \n",
    "table=[['Relationship','0','1'],\n",
    "        [str(len(train1.loc[(train1['customer_relationship']=='couple')])) + ' Couple',round(len(train1.loc[(train1['customer_relationship']=='couple') & (train1['target']== 0)])/a,2 ),round(len(train1.loc[(train1['customer_relationship']=='couple') & (train1['target']== 1)])/a,2) ],\n",
    "        [str(len(train1.loc[(train1['customer_relationship']=='single')])) + ' Single',round(len(train1.loc[(train1['customer_relationship']=='single') & (train1['target']== 0)])/b,2) ,round(len(train1.loc[(train1['customer_relationship']=='single') & (train1['target']== 1)])/b,2) ]]\n",
    "print(tabulate(table, headers='firstrow'))"
   ]
  },
  {
   "cell_type": "markdown",
   "metadata": {},
   "source": [
    "### customer_children"
   ]
  },
  {
   "cell_type": "code",
   "execution_count": null,
   "metadata": {},
   "outputs": [],
   "source": [
    "rep = {'mature':1,'no':0, 'young':1,'preschool':1,'adolescent':1,'grownup':1,'onebaby':1\n",
    " ,'yes':1}\n",
    "train1['customer_children']= train1['customer_children'].replace(rep) "
   ]
  },
  {
   "cell_type": "code",
   "execution_count": null,
   "metadata": {},
   "outputs": [],
   "source": [
    "c = len(train1.loc[(train1['customer_children']==0) & (train1['target']== 0)])+len(train1.loc[(train1['customer_children']==0) & (train1['target']== 1)]) \n",
    "\n",
    "d = len(train1.loc[(train1['customer_children']==1) & (train1['target']== 0)])+ len(train1.loc[(train1['customer_children']==1) & (train1['target']== 1)]) \n",
    "table=[['Children','0','1'],\n",
    "        [str(len(train1.loc[(train1['customer_children']==0)])) + ' Without kids',round(len(train1.loc[(train1['customer_children']==0) & (train1['target']== 0)])/c,2 ),round(len(train1.loc[(train1['customer_children']==0) & (train1['target']== 1)])/c,2) ],\n",
    "        [str(len(train1.loc[(train1['customer_children']==1)])) + ' With kids',round(len(train1.loc[(train1['customer_children']==1) & (train1['target']== 0)])/d,2) ,round(len(train1.loc[(train1['customer_children']==1) & (train1['target']== 1)])/d,2) ]]\n",
    "print(tabulate(table, headers='firstrow'))"
   ]
  },
  {
   "cell_type": "code",
   "execution_count": null,
   "metadata": {},
   "outputs": [],
   "source": [
    "sns.countplot(x='customer_children',data=train1,hue='target',palette=\"coolwarm_r\")"
   ]
  },
  {
   "cell_type": "markdown",
   "metadata": {},
   "source": [
    "ppl w/o home banking active tend to churn less. is there a diff between that and has_homebanking? \n",
    "insurance 21 or 23 -> if not then don't churn, noone who has it churned? \n",
    "fixed insurance cap, very low amount of ppl have it. \n",
    "decreasing cap seems interesting. \n",
    "fire car insurance interesting.\n",
    "not many ppl w personal loan, same for mortgage. \n",
    "current account seems to have effect on churn \n",
    "no churn if pension savings.\n",
    "gender does seems to have a low effect on churn. \n",
    "more chrun if occupation code =9\n",
    "seems like having children might have an effect but have to reformat that var. \n",
    "ppl in couple seem to churn more."
   ]
  },
  {
   "cell_type": "markdown",
   "metadata": {},
   "source": [
    "## Approach 2: Delete 4 columns "
   ]
  },
  {
   "cell_type": "code",
   "execution_count": null,
   "metadata": {},
   "outputs": [],
   "source": [
    "train1.drop(['customer_children','customer_relationship','customer_occupation_code','customer_education',\n",
    "                'client_id'],axis=1, inplace=True) "
   ]
  },
  {
   "cell_type": "code",
   "execution_count": null,
   "metadata": {},
   "outputs": [],
   "source": [
    "train1.shape"
   ]
  },
  {
   "cell_type": "code",
   "execution_count": null,
   "metadata": {},
   "outputs": [],
   "source": [
    "train1.dropna(axis=0, inplace=True) \n",
    "train1.shape"
   ]
  },
  {
   "cell_type": "markdown",
   "metadata": {},
   "source": [
    "## Handling Date Columns"
   ]
  },
  {
   "cell_type": "markdown",
   "metadata": {},
   "source": [
    " - customer_since_all\n",
    " - customer_since_bank\n",
    " - customer_birth_date"
   ]
  },
  {
   "cell_type": "markdown",
   "metadata": {},
   "source": [
    "We will not strip the day from 'customer_since_all', 'customer_since_bank' because all have the same value = 01. "
   ]
  },
  {
   "cell_type": "code",
   "execution_count": null,
   "metadata": {},
   "outputs": [],
   "source": [
    "train1['Birth_year'] = train1['customer_birth_date'].dt.strftime('%Y').astype(str).astype(int)\n",
    "\n",
    "train1['Year_since_all'] = train1['customer_since_all'].dt.strftime('%Y').astype(str).astype(int)\n",
    "train1['Month_since_all'] = train1['customer_since_all'].dt.strftime('%m').astype(str).astype(int)\n",
    "\n",
    "\n",
    "train1['Year_since_bank'] = train1['customer_since_bank'].dt.strftime('%Y').astype(str).astype(int)\n",
    "train1['Month_since_bank'] = train1['customer_since_bank'].dt.strftime('%m').astype(str).astype(int)\n"
   ]
  },
  {
   "cell_type": "code",
   "execution_count": null,
   "metadata": {},
   "outputs": [],
   "source": [
    "train1.drop(['customer_since_all','customer_since_bank','customer_birth_date'], axis=1, inplace=True)"
   ]
  },
  {
   "cell_type": "code",
   "execution_count": null,
   "metadata": {},
   "outputs": [],
   "source": [
    "train1.drop(train1[train1['Birth_year'] < 1919].index, inplace = True)"
   ]
  },
  {
   "cell_type": "code",
   "execution_count": null,
   "metadata": {},
   "outputs": [],
   "source": [
    "train1.shape"
   ]
  },
  {
   "cell_type": "code",
   "execution_count": null,
   "metadata": {},
   "outputs": [],
   "source": [
    "train1"
   ]
  },
  {
   "cell_type": "markdown",
   "metadata": {},
   "source": [
    "## Dealing with customer relationship and children missing data  "
   ]
  },
  {
   "cell_type": "code",
   "execution_count": null,
   "metadata": {},
   "outputs": [],
   "source": [
    "sns.countplot(x='customer_relationship',data=train1,hue='target',palette=\"coolwarm_r\")\n",
    "sns.countplot(x='customer_children',data=train1,hue='target',palette=\"coolwarm_r\")"
   ]
  },
  {
   "cell_type": "markdown",
   "metadata": {},
   "source": [
    "## feature engineering \n",
    "- We could see if there is a significant (large) difference in say balance or savings as this could be an indicator that the client is about to churn. (can just be stored as a boolean). \n",
    "- can also compute a boolean regarding the change in some services that the client has. Say he dropped in insurrance 21 last month or smtg. also as a boolean \n"
   ]
  },
  {
   "cell_type": "markdown",
   "metadata": {},
   "source": [
    "## regarding modeling\n",
    "the most used techniques are logistic regression, random forest, xgboost. People usually use random forest as a baseline reference and then they tune it or try other models to see if they can beat the random forest. "
   ]
  },
  {
   "cell_type": "markdown",
   "metadata": {},
   "source": [
    "## STEPS REQUIRED\n",
    "## A-Identify Business Problems\n",
    "- What is the likelihood of an active customer to leave the bank?\n",
    "- What are the key indicators of a customer churn?\n",
    "- What retention strategies can be implemented based on results to diminish prospective customer churn?\n",
    "\n",
    "\n"
   ]
  },
  {
   "cell_type": "markdown",
   "metadata": {},
   "source": [
    "## STEPS REQUIRED\n",
    "## A-Identify Business Problems\n",
    "- What is the likelihood of an active customer to leave the bank?\n",
    "- What are the key indicators of a customer churn?\n",
    "- What retention strategies can be implemented based on results to diminish prospective customer churn?\n",
    "\n",
    "\n"
   ]
  },
  {
   "cell_type": "markdown",
   "metadata": {},
   "source": [
    "## C- Data Evaluation\n",
    "- Plot Charts and Histograms\n",
    "- Analyze the distribution of categorical variables\n",
    "- Analyze the churn rate by variable\n",
    "- Find correlations between variables\n",
    "- Making a conclusion from the above findings\n",
    "- Split the dataset in training and validation sets\n",
    "- Split the dependent variable from the independent variables.\n",
    "- Remove Identifier: Customer ID\n",
    "- Normalize Variables"
   ]
  },
  {
   "cell_type": "markdown",
   "metadata": {},
   "source": [
    "## D- Model Selection\n",
    "Suggested models:\n",
    "- Logistic Regression\n",
    "- Random Forrest\n",
    "- KNN\n",
    "- SVM\n",
    "-xgboost"
   ]
  },
  {
   "cell_type": "markdown",
   "metadata": {},
   "source": [
    "## E- Model Evalation\n"
   ]
  },
  {
   "cell_type": "markdown",
   "metadata": {},
   "source": [
    "## F- Model Improvement\n",
    "Tuning Hyperparameters"
   ]
  },
  {
   "cell_type": "markdown",
   "metadata": {},
   "source": [
    "## G- Model Deployement"
   ]
  },
  {
   "cell_type": "markdown",
   "metadata": {},
   "source": [
    "## Resources"
   ]
  }
 ],
 "metadata": {
  "language_info": {
   "name": "python"
  },
  "orig_nbformat": 4
 },
 "nbformat": 4,
 "nbformat_minor": 2
}
