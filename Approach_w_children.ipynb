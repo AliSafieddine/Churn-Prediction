{
 "cells": [
  {
   "cell_type": "markdown",
   "id": "4cb0597e",
   "metadata": {},
   "source": [
    "# Import"
   ]
  },
  {
   "cell_type": "code",
   "execution_count": 7,
   "id": "ab9037cc",
   "metadata": {},
   "outputs": [],
   "source": [
    "import pandas as pd \n",
    "import numpy as np \n",
    "from sklearn.ensemble import RandomForestClassifier\n",
    "from sklearn.model_selection import train_test_split\n",
    "from datetime import date\n",
    "import matplotlib.pyplot as plt\n",
    "import seaborn as sns\n",
    "from sklearn.metrics import accuracy_score, confusion_matrix\n",
    "from sklearn.model_selection import RandomizedSearchCV\n",
    "%matplotlib inline\n",
    "import pandas as pd \n",
    "from tabulate import tabulate\n",
    "from factor_analyzer import FactorAnalyzer\n",
    "from factor_analyzer.factor_analyzer import calculate_bartlett_sphericity\n",
    "from factor_analyzer.factor_analyzer import calculate_kmo"
   ]
  },
  {
   "cell_type": "code",
   "execution_count": 17,
   "id": "4df03a8b",
   "metadata": {},
   "outputs": [],
   "source": [
    "train1 = pd.read_csv('train_month_3_with_target.csv')\n",
    "train2 = pd.read_csv('train_month_2.csv')\n",
    "train3 = pd.read_csv('train_month_1.csv')\n",
    "test1 = pd.read_csv('test_month_3.csv')\n",
    "test2 = pd.read_csv('test_month_2.csv')\n",
    "test3 = pd.read_csv('test_month_1.csv')"
   ]
  },
  {
   "cell_type": "markdown",
   "id": "6e90458a",
   "metadata": {},
   "source": [
    "We will explore the following columns to see how can we deal with the missing values:\n",
    "-    customer_education\n",
    "-    customer_occupation_code\n",
    "-    customer_relationship\n",
    "-    customer_children\n",
    "\n"
   ]
  },
  {
   "cell_type": "code",
   "execution_count": null,
   "id": "d67354c3",
   "metadata": {},
   "outputs": [],
   "source": [
    "missing_df2 = missing_df[missing_df['missing values'] >250]\n",
    "for col in missing_df2['variable']:\n",
    "    print(col,train1[col].unique())"
   ]
  },
  {
   "cell_type": "markdown",
   "id": "000ccee2",
   "metadata": {},
   "source": [
    "customer_education"
   ]
  },
  {
   "cell_type": "code",
   "execution_count": null,
   "id": "1ae65a9c",
   "metadata": {},
   "outputs": [],
   "source": [
    "sns.countplot(x='customer_education',data=train1,hue='target',palette=\"coolwarm_r\")"
   ]
  },
  {
   "cell_type": "markdown",
   "id": "4b1a8c75",
   "metadata": {},
   "source": [
    "### customer_occupation_code \n",
    "-   Most of the clients's job code is equal to 9.\n",
    "-   From the plot above, we can't see a direct relationship between job code and current balance.\\\n",
    "-> customer_occupation_code feature will be dropped."
   ]
  },
  {
   "cell_type": "code",
   "execution_count": null,
   "id": "044a3240",
   "metadata": {},
   "outputs": [],
   "source": [
    "for x in range(0,10):\n",
    "    print(f'job_code {x}', len(train1.loc[(train1['customer_occupation_code']==x)]))"
   ]
  },
  {
   "cell_type": "code",
   "execution_count": null,
   "id": "6403c14c",
   "metadata": {},
   "outputs": [],
   "source": [
    "sns.countplot(x='customer_occupation_code',data=train1,hue='target',palette=\"coolwarm_r\")"
   ]
  },
  {
   "cell_type": "code",
   "execution_count": null,
   "id": "6ce94968",
   "metadata": {},
   "outputs": [],
   "source": [
    "plt.scatter(train1['customer_occupation_code'], train1['bal_current_account'])"
   ]
  },
  {
   "cell_type": "markdown",
   "id": "bc041482",
   "metadata": {},
   "source": [
    "### customer_relationship \n",
    "Among the non-missing data, the table below describes the proportion of customers churned if they are single or in a couple. \n",
    "We have approxiatemtly the same proportion of churners whether they are a couple or single. "
   ]
  },
  {
   "cell_type": "code",
   "execution_count": null,
   "id": "9b928ed9",
   "metadata": {},
   "outputs": [],
   "source": [
    "a = len(train1.loc[(train1['customer_relationship']=='couple') & (train1['target']== 0)])+len(train1.loc[(train1['customer_relationship']=='couple') & (train1['target']== 1)]) \n",
    "\n",
    "b = len(train1.loc[(train1['customer_relationship']=='single') & (train1['target']== 0)])+ len(train1.loc[(train1['customer_relationship']=='single') & (train1['target']== 1)]) \n",
    "table=[['Relationship','0','1'],\n",
    "        [str(len(train1.loc[(train1['customer_relationship']=='couple')])) + ' Couple',round(len(train1.loc[(train1['customer_relationship']=='couple') & (train1['target']== 0)])/a,2 ),round(len(train1.loc[(train1['customer_relationship']=='couple') & (train1['target']== 1)])/a,2) ],\n",
    "        [str(len(train1.loc[(train1['customer_relationship']=='single')])) + ' Single',round(len(train1.loc[(train1['customer_relationship']=='single') & (train1['target']== 0)])/b,2) ,round(len(train1.loc[(train1['customer_relationship']=='single') & (train1['target']== 1)])/b,2) ]]\n",
    "print(tabulate(table, headers='firstrow'))"
   ]
  },
  {
   "cell_type": "markdown",
   "id": "7309b30c",
   "metadata": {},
   "source": [
    "### customer_children"
   ]
  },
  {
   "cell_type": "code",
   "execution_count": null,
   "id": "8b754ff7",
   "metadata": {},
   "outputs": [],
   "source": [
    "rep = {'mature':1,'no':0, 'young':1,'preschool':1,'adolescent':1,'grownup':1,'onebaby':1\n",
    " ,'yes':1}\n",
    "train1['customer_children']= train1['customer_children'].replace(rep) "
   ]
  },
  {
   "cell_type": "code",
   "execution_count": null,
   "id": "ad75cec4",
   "metadata": {},
   "outputs": [],
   "source": [
    "c = len(train1.loc[(train1['customer_children']==0) & (train1['target']== 0)])+len(train1.loc[(train1['customer_children']==0) & (train1['target']== 1)]) \n",
    "\n",
    "d = len(train1.loc[(train1['customer_children']==1) & (train1['target']== 0)])+ len(train1.loc[(train1['customer_children']==1) & (train1['target']== 1)]) \n",
    "table=[['Children','0','1'],\n",
    "        [str(len(train1.loc[(train1['customer_children']==0)])) + ' Without kids',round(len(train1.loc[(train1['customer_children']==0) & (train1['target']== 0)])/c,2 ),round(len(train1.loc[(train1['customer_children']==0) & (train1['target']== 1)])/c,2) ],\n",
    "        [str(len(train1.loc[(train1['customer_children']==1)])) + ' With kids',round(len(train1.loc[(train1['customer_children']==1) & (train1['target']== 0)])/d,2) ,round(len(train1.loc[(train1['customer_children']==1) & (train1['target']== 1)])/d,2) ]]\n",
    "print(tabulate(table, headers='firstrow'))"
   ]
  },
  {
   "cell_type": "code",
   "execution_count": null,
   "id": "5dcf238c",
   "metadata": {},
   "outputs": [],
   "source": [
    "sns.countplot(x='customer_children',data=train1,hue='target',palette=\"coolwarm_r\")"
   ]
  },
  {
   "cell_type": "markdown",
   "id": "eb670b55",
   "metadata": {},
   "source": [
    "ppl w/o home banking active tend to churn less. is there a diff between that and has_homebanking? \n",
    "insurance 21 or 23 -> if not then don't churn, noone who has it churned? \n",
    "fixed insurance cap, very low amount of ppl have it. \n",
    "decreasing cap seems interesting. \n",
    "fire car insurance interesting.\n",
    "not many ppl w personal loan, same for mortgage. \n",
    "current account seems to have effect on churn \n",
    "no churn if pension savings.\n",
    "gender does seems to have a low effect on churn. \n",
    "more chrun if occupation code =9\n",
    "seems like having children might have an effect but have to reformat that var. \n",
    "ppl in couple seem to churn more."
   ]
  },
  {
   "cell_type": "code",
   "execution_count": 18,
   "id": "66abe4da",
   "metadata": {},
   "outputs": [],
   "source": []
  },
  {
   "cell_type": "markdown",
   "id": "6e90458a",
   "metadata": {},
   "source": [
    "We will explore the following columns to see how can we deal with the missing values:\n",
    "-    customer_education\n",
    "-    customer_occupation_code\n",
    "-    customer_relationship\n",
    "-    customer_children\n",
    "\n"
   ]
  },
  {
   "cell_type": "code",
   "execution_count": null,
   "id": "d67354c3",
   "metadata": {},
   "outputs": [],
   "source": [
    "missing_df2 = missing_df[missing_df['missing values'] >250]\n",
    "for col in missing_df2['variable']:\n",
    "    print(col,train1[col].unique())"
   ]
  },
  {
   "cell_type": "markdown",
   "id": "000ccee2",
   "metadata": {},
   "source": [
    "customer_education"
   ]
  },
  {
   "cell_type": "code",
   "execution_count": null,
   "id": "1ae65a9c",
   "metadata": {},
   "outputs": [],
   "source": [
    "sns.countplot(x='customer_education',data=train1,hue='target',palette=\"coolwarm_r\")"
   ]
  },
  {
   "cell_type": "markdown",
   "id": "4b1a8c75",
   "metadata": {},
   "source": [
    "### customer_occupation_code \n",
    "-   Most of the clients's job code is equal to 9.\n",
    "-   From the plot above, we can't see a direct relationship between job code and current balance.\\\n",
    "-> customer_occupation_code feature will be dropped."
   ]
  },
  {
   "cell_type": "code",
   "execution_count": null,
   "id": "044a3240",
   "metadata": {},
   "outputs": [],
   "source": [
    "for x in range(0,10):\n",
    "    print(f'job_code {x}', len(train1.loc[(train1['customer_occupation_code']==x)]))"
   ]
  },
  {
   "cell_type": "code",
   "execution_count": null,
   "id": "6403c14c",
   "metadata": {},
   "outputs": [],
   "source": [
    "sns.countplot(x='customer_occupation_code',data=train1,hue='target',palette=\"coolwarm_r\")"
   ]
  },
  {
   "cell_type": "code",
   "execution_count": null,
   "id": "6ce94968",
   "metadata": {},
   "outputs": [],
   "source": [
    "plt.scatter(train1['customer_occupation_code'], train1['bal_current_account'])"
   ]
  },
  {
   "cell_type": "markdown",
   "id": "bc041482",
   "metadata": {},
   "source": [
    "### customer_relationship \n",
    "Among the non-missing data, the table below describes the proportion of customers churned if they are single or in a couple. \n",
    "We have approxiatemtly the same proportion of churners whether they are a couple or single. "
   ]
  },
  {
   "cell_type": "code",
   "execution_count": null,
   "id": "9b928ed9",
   "metadata": {},
   "outputs": [],
   "source": [
    "a = len(train1.loc[(train1['customer_relationship']=='couple') & (train1['target']== 0)])+len(train1.loc[(train1['customer_relationship']=='couple') & (train1['target']== 1)]) \n",
    "\n",
    "b = len(train1.loc[(train1['customer_relationship']=='single') & (train1['target']== 0)])+ len(train1.loc[(train1['customer_relationship']=='single') & (train1['target']== 1)]) \n",
    "table=[['Relationship','0','1'],\n",
    "        [str(len(train1.loc[(train1['customer_relationship']=='couple')])) + ' Couple',round(len(train1.loc[(train1['customer_relationship']=='couple') & (train1['target']== 0)])/a,2 ),round(len(train1.loc[(train1['customer_relationship']=='couple') & (train1['target']== 1)])/a,2) ],\n",
    "        [str(len(train1.loc[(train1['customer_relationship']=='single')])) + ' Single',round(len(train1.loc[(train1['customer_relationship']=='single') & (train1['target']== 0)])/b,2) ,round(len(train1.loc[(train1['customer_relationship']=='single') & (train1['target']== 1)])/b,2) ]]\n",
    "print(tabulate(table, headers='firstrow'))"
   ]
  },
  {
   "cell_type": "markdown",
   "id": "7309b30c",
   "metadata": {},
   "source": [
    "### customer_children"
   ]
  },
  {
   "cell_type": "code",
   "execution_count": null,
   "id": "8b754ff7",
   "metadata": {},
   "outputs": [],
   "source": [
    "rep = {'mature':1,'no':0, 'young':1,'preschool':1,'adolescent':1,'grownup':1,'onebaby':1\n",
    " ,'yes':1}\n",
    "train1['customer_children']= train1['customer_children'].replace(rep) "
   ]
  },
  {
   "cell_type": "code",
   "execution_count": null,
   "id": "ad75cec4",
   "metadata": {},
   "outputs": [],
   "source": [
    "c = len(train1.loc[(train1['customer_children']==0) & (train1['target']== 0)])+len(train1.loc[(train1['customer_children']==0) & (train1['target']== 1)]) \n",
    "\n",
    "d = len(train1.loc[(train1['customer_children']==1) & (train1['target']== 0)])+ len(train1.loc[(train1['customer_children']==1) & (train1['target']== 1)]) \n",
    "table=[['Children','0','1'],\n",
    "        [str(len(train1.loc[(train1['customer_children']==0)])) + ' Without kids',round(len(train1.loc[(train1['customer_children']==0) & (train1['target']== 0)])/c,2 ),round(len(train1.loc[(train1['customer_children']==0) & (train1['target']== 1)])/c,2) ],\n",
    "        [str(len(train1.loc[(train1['customer_children']==1)])) + ' With kids',round(len(train1.loc[(train1['customer_children']==1) & (train1['target']== 0)])/d,2) ,round(len(train1.loc[(train1['customer_children']==1) & (train1['target']== 1)])/d,2) ]]\n",
    "print(tabulate(table, headers='firstrow'))"
   ]
  },
  {
   "cell_type": "code",
   "execution_count": null,
   "id": "5dcf238c",
   "metadata": {},
   "outputs": [],
   "source": [
    "sns.countplot(x='customer_children',data=train1,hue='target',palette=\"coolwarm_r\")"
   ]
  },
  {
   "cell_type": "markdown",
   "id": "eb670b55",
   "metadata": {},
   "source": [
    "ppl w/o home banking active tend to churn less. is there a diff between that and has_homebanking? \n",
    "insurance 21 or 23 -> if not then don't churn, noone who has it churned? \n",
    "fixed insurance cap, very low amount of ppl have it. \n",
    "decreasing cap seems interesting. \n",
    "fire car insurance interesting.\n",
    "not many ppl w personal loan, same for mortgage. \n",
    "current account seems to have effect on churn \n",
    "no churn if pension savings.\n",
    "gender does seems to have a low effect on churn. \n",
    "more chrun if occupation code =9\n",
    "seems like having children might have an effect but have to reformat that var. \n",
    "ppl in couple seem to churn more."
   ]
  },
  {
   "cell_type": "code",
   "execution_count": null,
   "id": "e47cb303",
   "metadata": {},
   "outputs": [],
   "source": [
    "df_list=[train1,train2,train3,test1,test2,test3]"
   ]
  },
  {
   "cell_type": "code",
   "execution_count": 19,
   "id": "ea719bbc",
   "metadata": {},
   "outputs": [],
   "source": [
    "def drop_col(x):\n",
    "    x.drop(['customer_relationship','customer_occupation_code','customer_education',],axis=1, inplace=True) \n",
    "for x in df_list:\n",
    "    drop_col(x)"
   ]
  },
  {
   "cell_type": "markdown",
   "id": "f877dfd6",
   "metadata": {},
   "source": [
    "Before doing anything else here. We should make sure that the datasets are equal."
   ]
  },
  {
   "cell_type": "markdown",
   "id": "aa085bc2",
   "metadata": {},
   "source": [
    "------------------------------------------------"
   ]
  },
  {
   "cell_type": "markdown",
   "id": "45bf5a4d",
   "metadata": {},
   "source": [
    "# Clean"
   ]
  },
  {
   "cell_type": "code",
   "execution_count": null,
   "id": "3edd0410",
   "metadata": {},
   "outputs": [],
   "source": [
    "def dddd:\n",
    "    x.drop(x.loc[(x['customer_since_all'] ==2) & (x['Age'] <21  )].index, inplace=True)"
   ]
  },
  {
   "cell_type": "code",
   "execution_count": null,
   "id": "26dbf455",
   "metadata": {},
   "outputs": [],
   "source": [
    "def striptime(x):\n",
    "    x['customer_since_all'] = pd.to_datetime(x['customer_since_all'])\n",
    "    x['customer_since_bank'] = pd.to_datetime(x['customer_since_bank'])\n",
    "    x['customer_birth_date'] = pd.to_datetime(x['customer_birth_date'])\n",
    "    x['Birth_year'] = x['customer_birth_date'].dt.strftime('%Y').astype(str).astype(int)\n",
    "    x['Year_since_all'] = x['customer_since_all'].dt.strftime('%Y').astype(str).astype(int)\n",
    "    x['Month_since_all'] = x['customer_since_all'].dt.strftime('%m').astype(str).astype(int)\n",
    "    x['Year_since_bank'] = x['customer_since_bank'].dt.strftime('%Y').astype(str).astype(int)\n",
    "    x['Month_since_bank'] = x['customer_since_bank'].dt.strftime('%m').astype(str).astype(int)\n",
    "    x.drop(['customer_since_all','customer_since_bank','customer_birth_date'], axis=1, inplace=True)\n",
    "    \n",
    "for x in df_list:\n",
    "    striptime(x)\n"
   ]
  },
  {
   "cell_type": "code",
   "execution_count": null,
   "id": "ad11628a",
   "metadata": {},
   "outputs": [],
   "source": [
    "def remove_out(x):\n",
    "    x.drop(x[x['Birth_year'] < 1919].index, inplace = True)\n",
    "    x.drop(x.loc[x['Birth_year'] > (x['Year_since_all'] | x['Year_since_bank'])].index, inplace=True)\n",
    "    \n",
    "for x in df_list:\n",
    "    remove_out(x)\n"
   ]
  },
  {
   "cell_type": "code",
   "execution_count": null,
   "id": "4be8c0e2",
   "metadata": {},
   "outputs": [],
   "source": [
    "def age_extract(x):\n",
    "    x['Age'] = x['Birth_year'].apply(lambda x: 2018 -x)\n",
    "    x.drop('Birth_year', axis=1, inplace=True)\n",
    "\n",
    "age_extract(train1)\n",
    "age_extract(train2)\n",
    "age_extract(train3)\n",
    "age_extract(test1)\n",
    "age_extract(test2)\n",
    "age_extract(test3)    \n"
   ]
  },
  {
   "cell_type": "code",
   "execution_count": 16,
   "id": "34b479a5",
   "metadata": {},
   "outputs": [
    {
     "data": {
      "text/html": [
       "<div>\n",
       "<style scoped>\n",
       "    .dataframe tbody tr th:only-of-type {\n",
       "        vertical-align: middle;\n",
       "    }\n",
       "\n",
       "    .dataframe tbody tr th {\n",
       "        vertical-align: top;\n",
       "    }\n",
       "\n",
       "    .dataframe thead th {\n",
       "        text-align: right;\n",
       "    }\n",
       "</style>\n",
       "<table border=\"1\" class=\"dataframe\">\n",
       "  <thead>\n",
       "    <tr style=\"text-align: right;\">\n",
       "      <th></th>\n",
       "      <th>client_id</th>\n",
       "      <th>homebanking_active</th>\n",
       "      <th>has_homebanking</th>\n",
       "      <th>has_insurance_21</th>\n",
       "      <th>has_insurance_23</th>\n",
       "      <th>has_life_insurance_fixed_cap</th>\n",
       "      <th>has_life_insurance_decreasing_cap</th>\n",
       "      <th>has_fire_car_other_insurance</th>\n",
       "      <th>has_personal_loan</th>\n",
       "      <th>has_mortgage_loan</th>\n",
       "      <th>...</th>\n",
       "      <th>visits_distinct_so_areas</th>\n",
       "      <th>customer_since_all</th>\n",
       "      <th>customer_since_bank</th>\n",
       "      <th>customer_gender</th>\n",
       "      <th>customer_birth_date</th>\n",
       "      <th>customer_postal_code</th>\n",
       "      <th>customer_self_employed</th>\n",
       "      <th>customer_children</th>\n",
       "      <th>target</th>\n",
       "      <th>Birth_year</th>\n",
       "    </tr>\n",
       "  </thead>\n",
       "  <tbody>\n",
       "    <tr>\n",
       "      <th>0</th>\n",
       "      <td>910df42ad36243aa4ce16324cd7b15b0</td>\n",
       "      <td>0</td>\n",
       "      <td>0</td>\n",
       "      <td>0</td>\n",
       "      <td>0</td>\n",
       "      <td>0</td>\n",
       "      <td>0</td>\n",
       "      <td>1</td>\n",
       "      <td>0</td>\n",
       "      <td>0</td>\n",
       "      <td>...</td>\n",
       "      <td>1.0</td>\n",
       "      <td>1983-03-01</td>\n",
       "      <td>1994-08-01</td>\n",
       "      <td>1</td>\n",
       "      <td>1943-09-01</td>\n",
       "      <td>3630</td>\n",
       "      <td>0</td>\n",
       "      <td>NaN</td>\n",
       "      <td>0</td>\n",
       "      <td>1943</td>\n",
       "    </tr>\n",
       "    <tr>\n",
       "      <th>1</th>\n",
       "      <td>4e19dc3a54323c5bbfc374664b950cd1</td>\n",
       "      <td>1</td>\n",
       "      <td>1</td>\n",
       "      <td>0</td>\n",
       "      <td>0</td>\n",
       "      <td>0</td>\n",
       "      <td>0</td>\n",
       "      <td>0</td>\n",
       "      <td>0</td>\n",
       "      <td>0</td>\n",
       "      <td>...</td>\n",
       "      <td>1.0</td>\n",
       "      <td>2017-01-01</td>\n",
       "      <td>2017-01-01</td>\n",
       "      <td>1</td>\n",
       "      <td>1994-02-01</td>\n",
       "      <td>2460</td>\n",
       "      <td>0</td>\n",
       "      <td>5.0</td>\n",
       "      <td>0</td>\n",
       "      <td>1994</td>\n",
       "    </tr>\n",
       "    <tr>\n",
       "      <th>2</th>\n",
       "      <td>f5d08db1b86c0cb0f566bf446cff1fb4</td>\n",
       "      <td>1</td>\n",
       "      <td>1</td>\n",
       "      <td>0</td>\n",
       "      <td>0</td>\n",
       "      <td>0</td>\n",
       "      <td>0</td>\n",
       "      <td>1</td>\n",
       "      <td>0</td>\n",
       "      <td>0</td>\n",
       "      <td>...</td>\n",
       "      <td>1.0</td>\n",
       "      <td>1980-12-01</td>\n",
       "      <td>1980-12-01</td>\n",
       "      <td>2</td>\n",
       "      <td>1936-10-01</td>\n",
       "      <td>2660</td>\n",
       "      <td>0</td>\n",
       "      <td>NaN</td>\n",
       "      <td>0</td>\n",
       "      <td>1936</td>\n",
       "    </tr>\n",
       "    <tr>\n",
       "      <th>3</th>\n",
       "      <td>26170ecf63653e215c52f4262c1c4859</td>\n",
       "      <td>0</td>\n",
       "      <td>0</td>\n",
       "      <td>0</td>\n",
       "      <td>0</td>\n",
       "      <td>0</td>\n",
       "      <td>0</td>\n",
       "      <td>1</td>\n",
       "      <td>0</td>\n",
       "      <td>0</td>\n",
       "      <td>...</td>\n",
       "      <td>1.0</td>\n",
       "      <td>1998-08-01</td>\n",
       "      <td>2013-10-01</td>\n",
       "      <td>1</td>\n",
       "      <td>1946-09-01</td>\n",
       "      <td>6600</td>\n",
       "      <td>0</td>\n",
       "      <td>NaN</td>\n",
       "      <td>0</td>\n",
       "      <td>1946</td>\n",
       "    </tr>\n",
       "    <tr>\n",
       "      <th>4</th>\n",
       "      <td>c078009957dffb64f20e61b41220a976</td>\n",
       "      <td>0</td>\n",
       "      <td>0</td>\n",
       "      <td>0</td>\n",
       "      <td>0</td>\n",
       "      <td>0</td>\n",
       "      <td>0</td>\n",
       "      <td>0</td>\n",
       "      <td>0</td>\n",
       "      <td>0</td>\n",
       "      <td>...</td>\n",
       "      <td>1.0</td>\n",
       "      <td>2012-11-01</td>\n",
       "      <td>2012-11-01</td>\n",
       "      <td>2</td>\n",
       "      <td>1996-04-01</td>\n",
       "      <td>8550</td>\n",
       "      <td>0</td>\n",
       "      <td>5.0</td>\n",
       "      <td>1</td>\n",
       "      <td>1996</td>\n",
       "    </tr>\n",
       "    <tr>\n",
       "      <th>...</th>\n",
       "      <td>...</td>\n",
       "      <td>...</td>\n",
       "      <td>...</td>\n",
       "      <td>...</td>\n",
       "      <td>...</td>\n",
       "      <td>...</td>\n",
       "      <td>...</td>\n",
       "      <td>...</td>\n",
       "      <td>...</td>\n",
       "      <td>...</td>\n",
       "      <td>...</td>\n",
       "      <td>...</td>\n",
       "      <td>...</td>\n",
       "      <td>...</td>\n",
       "      <td>...</td>\n",
       "      <td>...</td>\n",
       "      <td>...</td>\n",
       "      <td>...</td>\n",
       "      <td>...</td>\n",
       "      <td>...</td>\n",
       "      <td>...</td>\n",
       "    </tr>\n",
       "    <tr>\n",
       "      <th>63692</th>\n",
       "      <td>0a58f2eb841ddac0626dacac6ca69524</td>\n",
       "      <td>1</td>\n",
       "      <td>1</td>\n",
       "      <td>1</td>\n",
       "      <td>0</td>\n",
       "      <td>0</td>\n",
       "      <td>0</td>\n",
       "      <td>0</td>\n",
       "      <td>0</td>\n",
       "      <td>0</td>\n",
       "      <td>...</td>\n",
       "      <td>1.0</td>\n",
       "      <td>1998-06-01</td>\n",
       "      <td>1998-06-01</td>\n",
       "      <td>2</td>\n",
       "      <td>1982-02-01</td>\n",
       "      <td>8000</td>\n",
       "      <td>0</td>\n",
       "      <td>0.0</td>\n",
       "      <td>0</td>\n",
       "      <td>1982</td>\n",
       "    </tr>\n",
       "    <tr>\n",
       "      <th>63693</th>\n",
       "      <td>193be2222be99bf04f42193b5cdfb95d</td>\n",
       "      <td>0</td>\n",
       "      <td>0</td>\n",
       "      <td>1</td>\n",
       "      <td>0</td>\n",
       "      <td>0</td>\n",
       "      <td>0</td>\n",
       "      <td>1</td>\n",
       "      <td>0</td>\n",
       "      <td>1</td>\n",
       "      <td>...</td>\n",
       "      <td>1.0</td>\n",
       "      <td>1989-05-01</td>\n",
       "      <td>1989-05-01</td>\n",
       "      <td>2</td>\n",
       "      <td>1965-05-01</td>\n",
       "      <td>2020</td>\n",
       "      <td>0</td>\n",
       "      <td>NaN</td>\n",
       "      <td>0</td>\n",
       "      <td>1965</td>\n",
       "    </tr>\n",
       "    <tr>\n",
       "      <th>63694</th>\n",
       "      <td>fa9f074ec8cad610ccaec2270021490e</td>\n",
       "      <td>0</td>\n",
       "      <td>1</td>\n",
       "      <td>0</td>\n",
       "      <td>0</td>\n",
       "      <td>0</td>\n",
       "      <td>1</td>\n",
       "      <td>1</td>\n",
       "      <td>0</td>\n",
       "      <td>1</td>\n",
       "      <td>...</td>\n",
       "      <td>1.0</td>\n",
       "      <td>1991-01-01</td>\n",
       "      <td>1991-01-01</td>\n",
       "      <td>2</td>\n",
       "      <td>1976-11-01</td>\n",
       "      <td>1070</td>\n",
       "      <td>0</td>\n",
       "      <td>NaN</td>\n",
       "      <td>0</td>\n",
       "      <td>1976</td>\n",
       "    </tr>\n",
       "    <tr>\n",
       "      <th>63695</th>\n",
       "      <td>5236064e97c655b0ad99ed2155e1139e</td>\n",
       "      <td>0</td>\n",
       "      <td>0</td>\n",
       "      <td>0</td>\n",
       "      <td>0</td>\n",
       "      <td>0</td>\n",
       "      <td>0</td>\n",
       "      <td>0</td>\n",
       "      <td>0</td>\n",
       "      <td>0</td>\n",
       "      <td>...</td>\n",
       "      <td>1.0</td>\n",
       "      <td>2014-04-01</td>\n",
       "      <td>2014-04-01</td>\n",
       "      <td>1</td>\n",
       "      <td>1951-03-01</td>\n",
       "      <td>2560</td>\n",
       "      <td>0</td>\n",
       "      <td>0.0</td>\n",
       "      <td>0</td>\n",
       "      <td>1951</td>\n",
       "    </tr>\n",
       "    <tr>\n",
       "      <th>63696</th>\n",
       "      <td>977dda870c3f54df46297df3869b2907</td>\n",
       "      <td>1</td>\n",
       "      <td>1</td>\n",
       "      <td>0</td>\n",
       "      <td>0</td>\n",
       "      <td>0</td>\n",
       "      <td>0</td>\n",
       "      <td>0</td>\n",
       "      <td>0</td>\n",
       "      <td>0</td>\n",
       "      <td>...</td>\n",
       "      <td>1.0</td>\n",
       "      <td>2002-02-01</td>\n",
       "      <td>2002-02-01</td>\n",
       "      <td>1</td>\n",
       "      <td>1995-03-01</td>\n",
       "      <td>9100</td>\n",
       "      <td>0</td>\n",
       "      <td>0.0</td>\n",
       "      <td>0</td>\n",
       "      <td>1995</td>\n",
       "    </tr>\n",
       "  </tbody>\n",
       "</table>\n",
       "<p>63359 rows × 38 columns</p>\n",
       "</div>"
      ],
      "text/plain": [
       "                              client_id  homebanking_active  has_homebanking  \\\n",
       "0      910df42ad36243aa4ce16324cd7b15b0                   0                0   \n",
       "1      4e19dc3a54323c5bbfc374664b950cd1                   1                1   \n",
       "2      f5d08db1b86c0cb0f566bf446cff1fb4                   1                1   \n",
       "3      26170ecf63653e215c52f4262c1c4859                   0                0   \n",
       "4      c078009957dffb64f20e61b41220a976                   0                0   \n",
       "...                                 ...                 ...              ...   \n",
       "63692  0a58f2eb841ddac0626dacac6ca69524                   1                1   \n",
       "63693  193be2222be99bf04f42193b5cdfb95d                   0                0   \n",
       "63694  fa9f074ec8cad610ccaec2270021490e                   0                1   \n",
       "63695  5236064e97c655b0ad99ed2155e1139e                   0                0   \n",
       "63696  977dda870c3f54df46297df3869b2907                   1                1   \n",
       "\n",
       "       has_insurance_21  has_insurance_23  has_life_insurance_fixed_cap  \\\n",
       "0                     0                 0                             0   \n",
       "1                     0                 0                             0   \n",
       "2                     0                 0                             0   \n",
       "3                     0                 0                             0   \n",
       "4                     0                 0                             0   \n",
       "...                 ...               ...                           ...   \n",
       "63692                 1                 0                             0   \n",
       "63693                 1                 0                             0   \n",
       "63694                 0                 0                             0   \n",
       "63695                 0                 0                             0   \n",
       "63696                 0                 0                             0   \n",
       "\n",
       "       has_life_insurance_decreasing_cap  has_fire_car_other_insurance  \\\n",
       "0                                      0                             1   \n",
       "1                                      0                             0   \n",
       "2                                      0                             1   \n",
       "3                                      0                             1   \n",
       "4                                      0                             0   \n",
       "...                                  ...                           ...   \n",
       "63692                                  0                             0   \n",
       "63693                                  0                             1   \n",
       "63694                                  1                             1   \n",
       "63695                                  0                             0   \n",
       "63696                                  0                             0   \n",
       "\n",
       "       has_personal_loan  has_mortgage_loan  ...  visits_distinct_so_areas  \\\n",
       "0                      0                  0  ...                       1.0   \n",
       "1                      0                  0  ...                       1.0   \n",
       "2                      0                  0  ...                       1.0   \n",
       "3                      0                  0  ...                       1.0   \n",
       "4                      0                  0  ...                       1.0   \n",
       "...                  ...                ...  ...                       ...   \n",
       "63692                  0                  0  ...                       1.0   \n",
       "63693                  0                  1  ...                       1.0   \n",
       "63694                  0                  1  ...                       1.0   \n",
       "63695                  0                  0  ...                       1.0   \n",
       "63696                  0                  0  ...                       1.0   \n",
       "\n",
       "       customer_since_all  customer_since_bank  customer_gender  \\\n",
       "0              1983-03-01           1994-08-01                1   \n",
       "1              2017-01-01           2017-01-01                1   \n",
       "2              1980-12-01           1980-12-01                2   \n",
       "3              1998-08-01           2013-10-01                1   \n",
       "4              2012-11-01           2012-11-01                2   \n",
       "...                   ...                  ...              ...   \n",
       "63692          1998-06-01           1998-06-01                2   \n",
       "63693          1989-05-01           1989-05-01                2   \n",
       "63694          1991-01-01           1991-01-01                2   \n",
       "63695          2014-04-01           2014-04-01                1   \n",
       "63696          2002-02-01           2002-02-01                1   \n",
       "\n",
       "       customer_birth_date  customer_postal_code  customer_self_employed  \\\n",
       "0               1943-09-01                  3630                       0   \n",
       "1               1994-02-01                  2460                       0   \n",
       "2               1936-10-01                  2660                       0   \n",
       "3               1946-09-01                  6600                       0   \n",
       "4               1996-04-01                  8550                       0   \n",
       "...                    ...                   ...                     ...   \n",
       "63692           1982-02-01                  8000                       0   \n",
       "63693           1965-05-01                  2020                       0   \n",
       "63694           1976-11-01                  1070                       0   \n",
       "63695           1951-03-01                  2560                       0   \n",
       "63696           1995-03-01                  9100                       0   \n",
       "\n",
       "       customer_children  target  Birth_year  \n",
       "0                    NaN       0        1943  \n",
       "1                    5.0       0        1994  \n",
       "2                    NaN       0        1936  \n",
       "3                    NaN       0        1946  \n",
       "4                    5.0       1        1996  \n",
       "...                  ...     ...         ...  \n",
       "63692                0.0       0        1982  \n",
       "63693                NaN       0        1965  \n",
       "63694                NaN       0        1976  \n",
       "63695                0.0       0        1951  \n",
       "63696                0.0       0        1995  \n",
       "\n",
       "[63359 rows x 38 columns]"
      ]
     },
     "execution_count": 16,
     "metadata": {},
     "output_type": "execute_result"
    }
   ],
   "source": [
    "train1"
   ]
  },
  {
   "cell_type": "markdown",
   "id": "697d52a2",
   "metadata": {},
   "source": [
    "New approach begins here"
   ]
  },
  {
   "cell_type": "markdown",
   "id": "c7d1e29b",
   "metadata": {},
   "source": [
    "336 values are marked \"yes\" hence we will remove them.\\\n",
    "replace categorical values with integers (grown up and mature are consideres same)"
   ]
  },
  {
   "cell_type": "code",
   "execution_count": 14,
   "id": "29378ed8",
   "metadata": {},
   "outputs": [],
   "source": [
    "def replace_children(x):\n",
    "     x.drop(x.loc[x['customer_children'] =='yes'].index, inplace=True)\n",
    "     rep = {'no':0,'onebaby':1,'preschool':2, 'young':3,'adolescent':4,'grownup':5,'mature':5}\n",
    "     x['customer_children']= x['customer_children'].replace(rep) \n",
    "replace_children(train1)\n",
    "replace_children(train2)\n",
    "replace_children(train3)\n",
    "replace_children(test1)\n",
    "replace_children(test2)\n",
    "replace_children(test3)"
   ]
  },
  {
   "cell_type": "code",
   "execution_count": null,
   "id": "d7353955",
   "metadata": {},
   "outputs": [],
   "source": [
    "sns.countplot(x='Age',data=train1.loc[train1['customer_children'] ==0],hue='customer_children')"
   ]
  },
  {
   "cell_type": "code",
   "execution_count": null,
   "id": "ae623d4f",
   "metadata": {},
   "outputs": [],
   "source": [
    "sns.countplot(x='Age',data=train1.loc[train1['customer_children'] ==1],hue='customer_children')"
   ]
  },
  {
   "cell_type": "code",
   "execution_count": null,
   "id": "0ff3326f",
   "metadata": {},
   "outputs": [],
   "source": [
    "sns.countplot(x='Age',data=train1.loc[train1['customer_children'] ==2],hue='customer_children')"
   ]
  },
  {
   "cell_type": "code",
   "execution_count": null,
   "id": "40f51e07",
   "metadata": {},
   "outputs": [],
   "source": [
    "sns.countplot(x='Age',data=train1.loc[train1['customer_children'] ==3],hue='customer_children')"
   ]
  },
  {
   "cell_type": "code",
   "execution_count": null,
   "id": "1dd38441",
   "metadata": {},
   "outputs": [],
   "source": [
    "sns.countplot(x='Age',data=train1.loc[train1['customer_children'] ==4],hue='customer_children')"
   ]
  },
  {
   "cell_type": "code",
   "execution_count": null,
   "id": "aac5e29e",
   "metadata": {},
   "outputs": [],
   "source": [
    "sns.countplot(x='Age',data=train1.loc[train1['customer_children'] ==5],hue='customer_children')"
   ]
  },
  {
   "cell_type": "markdown",
   "id": "215a573e",
   "metadata": {},
   "source": [
    "We will drop the rows using the following conditions:\n",
    "- client with pre-school children should be 21+\n",
    "- client with young children should be 28+\n",
    "- client with Ado children should be 32+\n",
    "- client with mature/grown children should be 39+"
   ]
  },
  {
   "cell_type": "code",
   "execution_count": null,
   "id": "51e9bf8e",
   "metadata": {},
   "outputs": [],
   "source": [
    "def clean_age(x):\n",
    "    x.drop(x.loc[(x['customer_children'] ==2) & (x['Age'] <21  )].index, inplace=True)\n",
    "    x.drop(x.loc[(x['customer_children'] ==3) & (x['Age'] <28  )].index, inplace=True)\n",
    "    x.drop(x.loc[(x['customer_children'] ==4) & (x['Age'] <32  )].index, inplace=True)\n",
    "    x.drop(x.loc[(x['customer_children'] ==5) & (x['Age'] <39  )].index, inplace=True)\n",
    "clean_age(train1)\n",
    "clean_age(train2)\n",
    "clean_age(train3)\n",
    "clean_age(test1)\n",
    "clean_age(test2)\n",
    "clean_age(test3)\n"
   ]
  }
 ],
 "metadata": {
  "kernelspec": {
   "display_name": "Python 3 (ipykernel)",
   "language": "python",
   "name": "python3"
  },
  "language_info": {
   "codemirror_mode": {
    "name": "ipython",
    "version": 3
   },
   "file_extension": ".py",
   "mimetype": "text/x-python",
   "name": "python",
   "nbconvert_exporter": "python",
   "pygments_lexer": "ipython3",
   "version": "3.9.12"
  },
  "toc": {
   "base_numbering": 1,
   "nav_menu": {},
   "number_sections": true,
   "sideBar": true,
   "skip_h1_title": false,
   "title_cell": "Table of Contents",
   "title_sidebar": "Contents",
   "toc_cell": false,
   "toc_position": {},
   "toc_section_display": true,
   "toc_window_display": false
  },
  "varInspector": {
   "cols": {
    "lenName": 16,
    "lenType": 16,
    "lenVar": 40
   },
   "kernels_config": {
    "python": {
     "delete_cmd_postfix": "",
     "delete_cmd_prefix": "del ",
     "library": "var_list.py",
     "varRefreshCmd": "print(var_dic_list())"
    },
    "r": {
     "delete_cmd_postfix": ") ",
     "delete_cmd_prefix": "rm(",
     "library": "var_list.r",
     "varRefreshCmd": "cat(var_dic_list()) "
    }
   },
   "types_to_exclude": [
    "module",
    "function",
    "builtin_function_or_method",
    "instance",
    "_Feature"
   ],
   "window_display": false
  }
 },
 "nbformat": 4,
 "nbformat_minor": 5
}
