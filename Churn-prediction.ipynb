{
 "cells": [
  {
   "cell_type": "code",
   "execution_count": 1,
   "id": "370bae7b",
   "metadata": {
    "ExecuteTime": {
     "end_time": "2022-03-27T11:24:22.224207Z",
     "start_time": "2022-03-27T11:24:20.792126Z"
    }
   },
   "outputs": [
    {
     "ename": "ModuleNotFoundError",
     "evalue": "No module named 'tabulate'",
     "output_type": "error",
     "traceback": [
      "\u001b[1;31m---------------------------------------------------------------------------\u001b[0m",
      "\u001b[1;31mModuleNotFoundError\u001b[0m                       Traceback (most recent call last)",
      "\u001b[1;32mc:\\Users\\Ali\\Desktop\\Churn Prediction\\Churn-Prediction\\Churn-prediction.ipynb Cell 1'\u001b[0m in \u001b[0;36m<cell line: 12>\u001b[1;34m()\u001b[0m\n\u001b[0;32m     <a href='vscode-notebook-cell:/c%3A/Users/Ali/Desktop/Churn%20Prediction/Churn-Prediction/Churn-prediction.ipynb#ch0000000?line=9'>10</a>\u001b[0m get_ipython()\u001b[39m.\u001b[39mrun_line_magic(\u001b[39m'\u001b[39m\u001b[39mmatplotlib\u001b[39m\u001b[39m'\u001b[39m, \u001b[39m'\u001b[39m\u001b[39minline\u001b[39m\u001b[39m'\u001b[39m)\n\u001b[0;32m     <a href='vscode-notebook-cell:/c%3A/Users/Ali/Desktop/Churn%20Prediction/Churn-Prediction/Churn-prediction.ipynb#ch0000000?line=10'>11</a>\u001b[0m \u001b[39mimport\u001b[39;00m \u001b[39mpandas\u001b[39;00m \u001b[39mas\u001b[39;00m \u001b[39mpd\u001b[39;00m \n\u001b[1;32m---> <a href='vscode-notebook-cell:/c%3A/Users/Ali/Desktop/Churn%20Prediction/Churn-Prediction/Churn-prediction.ipynb#ch0000000?line=11'>12</a>\u001b[0m \u001b[39mfrom\u001b[39;00m \u001b[39mtabulate\u001b[39;00m \u001b[39mimport\u001b[39;00m tabulate\n",
      "\u001b[1;31mModuleNotFoundError\u001b[0m: No module named 'tabulate'"
     ]
    }
   ],
   "source": [
    "import pandas as pd \n",
    "import numpy as np \n",
    "from sklearn.ensemble import RandomForestClassifier\n",
    "from sklearn.model_selection import train_test_split\n",
    "from datetime import date\n",
    "import matplotlib.pyplot as plt\n",
    "import seaborn as sns\n",
    "from sklearn.metrics import accuracy_score, confusion_matrix\n",
    "from sklearn.model_selection import RandomizedSearchCV\n",
    "%matplotlib inline\n",
    "import pandas as pd \n",
    "from tabulate import tabulate"
   ]
  },
  {
   "cell_type": "code",
   "execution_count": 427,
   "id": "caf9ee15",
   "metadata": {
    "ExecuteTime": {
     "end_time": "2022-03-27T11:24:22.755170Z",
     "start_time": "2022-03-27T11:24:22.227719Z"
    }
   },
   "outputs": [],
   "source": [
    "train1 = pd.read_csv('train_month_3_with_target.csv')\n",
    "train2 = pd.read_csv('train_month_2.csv')\n",
    "train3 = pd.read_csv('train_month_1.csv')\n",
    "test1 = pd.read_csv('test_month_3.csv')\n",
    "test2 = pd.read_csv('test_month_2.csv')\n",
    "test3 = pd.read_csv('test_month_1.csv')"
   ]
  },
  {
   "cell_type": "markdown",
   "id": "77227526",
   "metadata": {},
   "source": [
    "Data set type info"
   ]
  },
  {
   "cell_type": "code",
   "execution_count": null,
   "id": "264d4045",
   "metadata": {
    "ExecuteTime": {
     "end_time": "2022-03-27T11:24:22.833734Z",
     "start_time": "2022-03-27T11:24:22.809548Z"
    },
    "collapsed": true
   },
   "outputs": [],
   "source": [
    "train1.info()"
   ]
  },
  {
   "cell_type": "code",
   "execution_count": 429,
   "id": "6b777fc2",
   "metadata": {
    "ExecuteTime": {
     "end_time": "2022-03-27T11:24:22.889374Z",
     "start_time": "2022-03-27T11:24:22.887274Z"
    }
   },
   "outputs": [],
   "source": [
    "pd.set_option('display.max_columns',None)\n"
   ]
  },
  {
   "cell_type": "code",
   "execution_count": 430,
   "id": "4499a75e",
   "metadata": {
    "ExecuteTime": {
     "end_time": "2022-03-27T11:24:22.951690Z",
     "start_time": "2022-03-27T11:24:22.921191Z"
    }
   },
   "outputs": [],
   "source": [
    "train1['customer_since_all'] = pd.to_datetime(train1['customer_since_all'])\n",
    "train1['customer_since_bank'] = pd.to_datetime(train1['customer_since_bank'])\n",
    "train1['customer_birth_date'] = pd.to_datetime(train1['customer_birth_date'])"
   ]
  },
  {
   "cell_type": "markdown",
   "id": "b171ac78",
   "metadata": {},
   "source": [
    "Continuous vs Categorical features"
   ]
  },
  {
   "cell_type": "code",
   "execution_count": 431,
   "id": "44cb15f8",
   "metadata": {
    "ExecuteTime": {
     "end_time": "2022-03-27T11:24:23.777957Z",
     "start_time": "2022-03-27T11:24:23.715733Z"
    }
   },
   "outputs": [
    {
     "name": "stdout",
     "output_type": "stream",
     "text": [
      "Continious variables are: ['bal_insurance_21', 'bal_insurance_23', 'cap_life_insurance_fixed_cap', 'cap_life_insurance_decreasing_cap', 'prem_fire_car_other_insurance', 'bal_personal_loan', 'bal_mortgage_loan', 'bal_current_account', 'bal_pension_saving', 'bal_savings_account', 'bal_savings_account_starter', 'bal_current_account_starter', 'customer_since_all', 'customer_since_bank', 'customer_birth_date', 'customer_postal_code']\n",
      "------------------\n",
      "Categorical variables are: ['homebanking_active', 'has_homebanking', 'has_insurance_21', 'has_insurance_23', 'has_life_insurance_fixed_cap', 'has_life_insurance_decreasing_cap', 'has_fire_car_other_insurance', 'has_personal_loan', 'has_mortgage_loan', 'has_current_account', 'has_pension_saving', 'has_savings_account', 'has_savings_account_starter', 'has_current_account_starter', 'visits_distinct_so', 'visits_distinct_so_areas', 'customer_gender', 'customer_occupation_code', 'customer_self_employed', 'customer_education', 'customer_children', 'customer_relationship', 'target']\n"
     ]
    }
   ],
   "source": [
    "cat_vars = []\n",
    "cont_vars = []\n",
    "columns = list(train1.drop(columns = ['client_id']).columns)\n",
    "for i in columns:\n",
    "    if (len(train1.loc[:,i].unique()) >= 20):\n",
    "        cont_vars.append(i)\n",
    "    else:\n",
    "        cat_vars.append(i)\n",
    "        \n",
    "print('Continious variables are:',cont_vars)\n",
    "print('------------------')\n",
    "print('Categorical variables are:',cat_vars)\n",
    "# Here we have our list of categorical and continious variables"
   ]
  },
  {
   "cell_type": "markdown",
   "id": "f5ff745e",
   "metadata": {},
   "source": [
    "Categorical features unique values"
   ]
  },
  {
   "cell_type": "code",
   "execution_count": 432,
   "id": "e781452b",
   "metadata": {
    "ExecuteTime": {
     "end_time": "2022-03-27T11:39:13.478083Z",
     "start_time": "2022-03-27T11:39:13.435491Z"
    },
    "collapsed": true
   },
   "outputs": [
    {
     "name": "stdout",
     "output_type": "stream",
     "text": [
      "homebanking_active [0 1]\n",
      "has_homebanking [0 1]\n",
      "has_insurance_21 [0 1]\n",
      "has_insurance_23 [0 1]\n",
      "has_life_insurance_fixed_cap [0 1]\n",
      "has_life_insurance_decreasing_cap [0 1]\n",
      "has_fire_car_other_insurance [1 0]\n",
      "has_personal_loan [0 1]\n",
      "has_mortgage_loan [0 1]\n",
      "has_current_account [1 0]\n",
      "has_pension_saving [0 1]\n",
      "has_savings_account [1 0]\n",
      "has_savings_account_starter [0 1]\n",
      "has_current_account_starter [0 1]\n",
      "visits_distinct_so [1. 2. 3. 4. 6. 5. 7.]\n",
      "visits_distinct_so_areas [1. 2. 3. 5. 4. 6.]\n",
      "customer_gender [1 2]\n",
      "customer_occupation_code [ 9. nan  7.  8.  4.  5.  0.  6.  3.  1.  2.]\n",
      "customer_self_employed [0 1]\n",
      "customer_education [ 0. nan  2.  1.  4.  3.  5.  6.]\n",
      "customer_children [nan 'mature' 'no' 'young' 'preschool' 'adolescent' 'grownup' 'onebaby'\n",
      " 'yes']\n",
      "customer_relationship [nan 'couple' 'single']\n",
      "target [0 1]\n"
     ]
    }
   ],
   "source": [
    "# To check we will print all unique values\n",
    "for col in cat_vars:\n",
    "    print(col,train1[col].unique())"
   ]
  },
  {
   "cell_type": "markdown",
   "id": "e5bafb32",
   "metadata": {},
   "source": [
    "Columns with missing data"
   ]
  },
  {
   "cell_type": "code",
   "execution_count": 433,
   "id": "ec66bc9c",
   "metadata": {
    "ExecuteTime": {
     "end_time": "2022-03-27T11:47:30.772678Z",
     "start_time": "2022-03-27T11:47:30.741359Z"
    }
   },
   "outputs": [
    {
     "data": {
      "text/html": [
       "<div>\n",
       "<style scoped>\n",
       "    .dataframe tbody tr th:only-of-type {\n",
       "        vertical-align: middle;\n",
       "    }\n",
       "\n",
       "    .dataframe tbody tr th {\n",
       "        vertical-align: top;\n",
       "    }\n",
       "\n",
       "    .dataframe thead th {\n",
       "        text-align: right;\n",
       "    }\n",
       "</style>\n",
       "<table border=\"1\" class=\"dataframe\">\n",
       "  <thead>\n",
       "    <tr style=\"text-align: right;\">\n",
       "      <th></th>\n",
       "      <th>variable</th>\n",
       "      <th>missing values</th>\n",
       "      <th>%</th>\n",
       "    </tr>\n",
       "  </thead>\n",
       "  <tbody>\n",
       "    <tr>\n",
       "      <th>29</th>\n",
       "      <td>customer_since_all</td>\n",
       "      <td>234</td>\n",
       "      <td>0.367364</td>\n",
       "    </tr>\n",
       "    <tr>\n",
       "      <th>30</th>\n",
       "      <td>customer_since_bank</td>\n",
       "      <td>249</td>\n",
       "      <td>0.390913</td>\n",
       "    </tr>\n",
       "    <tr>\n",
       "      <th>34</th>\n",
       "      <td>customer_occupation_code</td>\n",
       "      <td>2002</td>\n",
       "      <td>3.143005</td>\n",
       "    </tr>\n",
       "    <tr>\n",
       "      <th>38</th>\n",
       "      <td>customer_relationship</td>\n",
       "      <td>14899</td>\n",
       "      <td>23.390427</td>\n",
       "    </tr>\n",
       "    <tr>\n",
       "      <th>37</th>\n",
       "      <td>customer_children</td>\n",
       "      <td>23364</td>\n",
       "      <td>36.679906</td>\n",
       "    </tr>\n",
       "    <tr>\n",
       "      <th>36</th>\n",
       "      <td>customer_education</td>\n",
       "      <td>47125</td>\n",
       "      <td>73.983076</td>\n",
       "    </tr>\n",
       "  </tbody>\n",
       "</table>\n",
       "</div>"
      ],
      "text/plain": [
       "                    variable  missing values          %\n",
       "29        customer_since_all             234   0.367364\n",
       "30       customer_since_bank             249   0.390913\n",
       "34  customer_occupation_code            2002   3.143005\n",
       "38     customer_relationship           14899  23.390427\n",
       "37         customer_children           23364  36.679906\n",
       "36        customer_education           47125  73.983076"
      ]
     },
     "execution_count": 433,
     "metadata": {},
     "output_type": "execute_result"
    }
   ],
   "source": [
    "missing_df = train1.isnull().sum(axis=0).reset_index()\n",
    "missing_df.columns = ['variable', 'missing values']\n",
    "missing_df['%']=(missing_df['missing values'])/train1.shape[0]*100\n",
    "missing_df = missing_df[missing_df['missing values'] >0].sort_values('%')\n",
    "missing_df"
   ]
  },
  {
   "cell_type": "markdown",
   "id": "f7eb9391",
   "metadata": {},
   "source": [
    "# Data Cleaning"
   ]
  },
  {
   "cell_type": "markdown",
   "id": "3d9ae5bd",
   "metadata": {},
   "source": [
    "## Approach 1: Understand how to deal with variables with large amount of missing values"
   ]
  },
  {
   "cell_type": "markdown",
   "id": "08c99a58",
   "metadata": {},
   "source": [
    "We will explore the following columns to see how can we deal with the missing values:\n",
    "-    customer_education\n",
    "-    customer_occupation_code\n",
    "-    customer_relationship\n",
    "-    customer_children\n",
    "\n"
   ]
  },
  {
   "cell_type": "code",
   "execution_count": 92,
   "id": "86b1c0de",
   "metadata": {},
   "outputs": [
    {
     "name": "stdout",
     "output_type": "stream",
     "text": [
      "customer_occupation_code [ 9. nan  7.  8.  4.  5.  0.  6.  3.  1.  2.]\n",
      "customer_relationship [nan 'couple' 'single']\n",
      "customer_children [nan 'mature' 'no' 'young' 'preschool' 'adolescent' 'grownup' 'onebaby'\n",
      " 'yes']\n",
      "customer_education [ 0. nan  2.  1.  4.  3.  5.  6.]\n"
     ]
    }
   ],
   "source": [
    "missing_df2 = missing_df[missing_df['missing values'] >250]\n",
    "for col in missing_df2['variable']:\n",
    "    print(col,train1[col].unique())"
   ]
  },
  {
   "cell_type": "markdown",
   "id": "263fbaf1",
   "metadata": {},
   "source": [
    "### customer_education"
   ]
  },
  {
   "cell_type": "code",
   "execution_count": 320,
   "id": "470e6acc",
   "metadata": {},
   "outputs": [
    {
     "data": {
      "text/plain": [
       "<AxesSubplot:xlabel='customer_education', ylabel='count'>"
      ]
     },
     "execution_count": 320,
     "metadata": {},
     "output_type": "execute_result"
    },
    {
     "data": {
      "image/png": "[encoded data removed]",
      "text/plain": [
       "<Figure size 432x288 with 1 Axes>"
      ]
     },
     "metadata": {
      "needs_background": "light"
     },
     "output_type": "display_data"
    }
   ],
   "source": [
    "sns.countplot(x='customer_education',data=train1,hue='target',palette=\"coolwarm_r\")"
   ]
  },
  {
   "cell_type": "markdown",
   "id": "dd5e02ec",
   "metadata": {},
   "source": [
    "### customer_occupation_code "
   ]
  },
  {
   "cell_type": "markdown",
   "id": "c5b9f548",
   "metadata": {},
   "source": [
    "-   Most of the clients's job code is equal to 9.\n",
    "-   From the plot above, we can't see a direct relationship between job code and current balance.\\\n",
    "-> customer_occupation_code feature will be dropped."
   ]
  },
  {
   "cell_type": "code",
   "execution_count": 277,
   "id": "74a0f021",
   "metadata": {},
   "outputs": [
    {
     "name": "stdout",
     "output_type": "stream",
     "text": [
      "job_code 0 421\n",
      "job_code 1 24\n",
      "job_code 2 7\n",
      "job_code 3 10\n",
      "job_code 4 1639\n",
      "job_code 5 153\n",
      "job_code 6 183\n",
      "job_code 7 104\n",
      "job_code 8 318\n",
      "job_code 9 58836\n"
     ]
    }
   ],
   "source": [
    "for x in range(0,10):\n",
    "    print(f'job_code {x}', len(train1.loc[(train1['customer_occupation_code']==x)]))"
   ]
  },
  {
   "cell_type": "code",
   "execution_count": 197,
   "id": "8d91450e",
   "metadata": {},
   "outputs": [
    {
     "data": {
      "text/plain": [
       "<AxesSubplot:xlabel='customer_occupation_code', ylabel='count'>"
      ]
     },
     "execution_count": 197,
     "metadata": {},
     "output_type": "execute_result"
    },
    {
     "data": {
      "image/png": "[encoded data removed]",
      "text/plain": [
       "<Figure size 432x288 with 1 Axes>"
      ]
     },
     "metadata": {
      "needs_background": "light"
     },
     "output_type": "display_data"
    }
   ],
   "source": [
    "sns.countplot(x='customer_occupation_code',data=train1,hue='target',palette=\"coolwarm_r\")"
   ]
  },
  {
   "cell_type": "code",
   "execution_count": 286,
   "id": "0772f2fb",
   "metadata": {},
   "outputs": [
    {
     "data": {
      "text/plain": [
       "<matplotlib.collections.PathCollection at 0x1d5dba2a408>"
      ]
     },
     "execution_count": 286,
     "metadata": {},
     "output_type": "execute_result"
    },
    {
     "data": {
      "image/png": "[encoded data removed]",
      "text/plain": [
       "<Figure size 432x288 with 1 Axes>"
      ]
     },
     "metadata": {
      "needs_background": "light"
     },
     "output_type": "display_data"
    }
   ],
   "source": [
    "plt.scatter(train1['customer_occupation_code'], train1['bal_current_account'])"
   ]
  },
  {
   "cell_type": "markdown",
   "id": "d4157776",
   "metadata": {},
   "source": [
    "### customer_relationship "
   ]
  },
  {
   "cell_type": "markdown",
   "id": "4dbc4496",
   "metadata": {},
   "source": [
    "Among the non-missing data, the table below describes the proportion of customers churned if they are single or in a couple. \n",
    "We have approxiatemtly the same proportion of churners whether they are a couple or single. "
   ]
  },
  {
   "cell_type": "code",
   "execution_count": 319,
   "id": "159f7e48",
   "metadata": {},
   "outputs": [
    {
     "name": "stdout",
     "output_type": "stream",
     "text": [
      "Relationship       0     1\n",
      "--------------  ----  ----\n",
      "36179 Couple    0.97  0.03\n",
      "12619 Single    0.97  0.03\n"
     ]
    }
   ],
   "source": [
    "a = len(train1.loc[(train1['customer_relationship']=='couple') & (train1['target']== 0)])+len(train1.loc[(train1['customer_relationship']=='couple') & (train1['target']== 1)]) \n",
    "\n",
    "b = len(train1.loc[(train1['customer_relationship']=='single') & (train1['target']== 0)])+ len(train1.loc[(train1['customer_relationship']=='single') & (train1['target']== 1)]) \n",
    "table=[['Relationship','0','1'],\n",
    "        [str(len(train1.loc[(train1['customer_relationship']=='couple')])) + ' Couple',round(len(train1.loc[(train1['customer_relationship']=='couple') & (train1['target']== 0)])/a,2 ),round(len(train1.loc[(train1['customer_relationship']=='couple') & (train1['target']== 1)])/a,2) ],\n",
    "        [str(len(train1.loc[(train1['customer_relationship']=='single')])) + ' Single',round(len(train1.loc[(train1['customer_relationship']=='single') & (train1['target']== 0)])/b,2) ,round(len(train1.loc[(train1['customer_relationship']=='single') & (train1['target']== 1)])/b,2) ]]\n",
    "print(tabulate(table, headers='firstrow'))"
   ]
  },
  {
   "cell_type": "markdown",
   "id": "8251522f",
   "metadata": {},
   "source": [
    "### customer_children"
   ]
  },
  {
   "cell_type": "code",
   "execution_count": 324,
   "id": "a3cf6821",
   "metadata": {},
   "outputs": [],
   "source": [
    "rep = {'mature':1,'no':0, 'young':1,'preschool':1,'adolescent':1,'grownup':1,'onebaby':1\n",
    " ,'yes':1}\n",
    "train1['customer_children']= train1['customer_children'].replace(rep) "
   ]
  },
  {
   "cell_type": "code",
   "execution_count": 335,
   "id": "03dab217",
   "metadata": {},
   "outputs": [
    {
     "name": "stdout",
     "output_type": "stream",
     "text": [
      "Children               0     1\n",
      "------------------  ----  ----\n",
      "22886 Without kids  0.98  0.02\n",
      "17447 With kids     0.96  0.04\n"
     ]
    }
   ],
   "source": [
    "c = len(train1.loc[(train1['customer_children']==0) & (train1['target']== 0)])+len(train1.loc[(train1['customer_children']==0) & (train1['target']== 1)]) \n",
    "\n",
    "d = len(train1.loc[(train1['customer_children']==1) & (train1['target']== 0)])+ len(train1.loc[(train1['customer_children']==1) & (train1['target']== 1)]) \n",
    "table=[['Children','0','1'],\n",
    "        [str(len(train1.loc[(train1['customer_children']==0)])) + ' Without kids',round(len(train1.loc[(train1['customer_children']==0) & (train1['target']== 0)])/c,2 ),round(len(train1.loc[(train1['customer_children']==0) & (train1['target']== 1)])/c,2) ],\n",
    "        [str(len(train1.loc[(train1['customer_children']==1)])) + ' With kids',round(len(train1.loc[(train1['customer_children']==1) & (train1['target']== 0)])/d,2) ,round(len(train1.loc[(train1['customer_children']==1) & (train1['target']== 1)])/d,2) ]]\n",
    "print(tabulate(table, headers='firstrow'))"
   ]
  },
  {
   "cell_type": "code",
   "execution_count": 331,
   "id": "10b3fc6e",
   "metadata": {},
   "outputs": [
    {
     "data": {
      "text/plain": [
       "<AxesSubplot:xlabel='customer_children', ylabel='count'>"
      ]
     },
     "execution_count": 331,
     "metadata": {},
     "output_type": "execute_result"
    },
    {
     "data": {
      "image/png": "[encoded data removed]",
      "text/plain": [
       "<Figure size 432x288 with 1 Axes>"
      ]
     },
     "metadata": {
      "needs_background": "light"
     },
     "output_type": "display_data"
    }
   ],
   "source": [
    "sns.countplot(x='customer_children',data=train1,hue='target',palette=\"coolwarm_r\")"
   ]
  },
  {
   "cell_type": "markdown",
   "id": "2c72f3b7",
   "metadata": {},
   "source": [
    "ppl w/o home banking active tend to churn less. is there a diff between that and has_homebanking? \n",
    "insurance 21 or 23 -> if not then don't churn, noone who has it churned? \n",
    "fixed insurance cap, very low amount of ppl have it. \n",
    "decreasing cap seems interesting. \n",
    "fire car insurance interesting.\n",
    "not many ppl w personal loan, same for mortgage. \n",
    "current account seems to have effect on churn \n",
    "no churn if pension savings.\n",
    "gender does seems to have a low effect on churn. \n",
    "more chrun if occupation code =9\n",
    "seems like having children might have an effect but have to reformat that var. \n",
    "ppl in couple seem to churn more."
   ]
  },
  {
   "cell_type": "markdown",
   "id": "9e2be571",
   "metadata": {},
   "source": [
    "## Approach 2: Delete 4 columns "
   ]
  },
  {
   "cell_type": "code",
   "execution_count": 464,
   "id": "f216b85c",
   "metadata": {},
   "outputs": [],
   "source": [
    "train1.drop(['customer_children','customer_relationship','customer_occupation_code','customer_education',\n",
    "                'client_id'],axis=1, inplace=True) "
   ]
  },
  {
   "cell_type": "code",
   "execution_count": 465,
   "id": "64668bf9",
   "metadata": {},
   "outputs": [
    {
     "data": {
      "text/plain": [
       "(63697, 35)"
      ]
     },
     "execution_count": 465,
     "metadata": {},
     "output_type": "execute_result"
    }
   ],
   "source": [
    "train1.shape"
   ]
  },
  {
   "cell_type": "code",
   "execution_count": 466,
   "id": "3f5c9d9f",
   "metadata": {},
   "outputs": [
    {
     "data": {
      "text/plain": [
       "(63448, 35)"
      ]
     },
     "execution_count": 466,
     "metadata": {},
     "output_type": "execute_result"
    }
   ],
   "source": [
    "train1.dropna(axis=0, inplace=True) \n",
    "train1.shape"
   ]
  },
  {
   "cell_type": "markdown",
   "id": "c4cdc110",
   "metadata": {},
   "source": [
    "## Handling Date Columns"
   ]
  },
  {
   "cell_type": "markdown",
   "id": "1eaa6024",
   "metadata": {},
   "source": [
    " - customer_since_all\n",
    " - customer_since_bank\n",
    " - customer_birth_date"
   ]
  },
  {
   "cell_type": "markdown",
   "id": "c0d6599d",
   "metadata": {},
   "source": [
    "We will not strip the day from 'customer_since_all', 'customer_since_bank' because all have the same value = 01. "
   ]
  },
  {
   "cell_type": "code",
   "execution_count": 481,
   "id": "36e4818e",
   "metadata": {},
   "outputs": [],
   "source": [
    "train1['Birth_year'] = train1['customer_birth_date'].dt.strftime('%Y').astype(str).astype(int)\n",
    "\n",
    "train1['Year_since_all'] = train1['customer_since_all'].dt.strftime('%Y').astype(str).astype(int)\n",
    "train1['Month_since_all'] = train1['customer_since_all'].dt.strftime('%m').astype(str).astype(int)\n",
    "\n",
    "\n",
    "train1['Year_since_bank'] = train1['customer_since_bank'].dt.strftime('%Y').astype(str).astype(int)\n",
    "train1['Month_since_bank'] = train1['customer_since_bank'].dt.strftime('%m').astype(str).astype(int)\n"
   ]
  },
  {
   "cell_type": "code",
   "execution_count": 482,
   "id": "9f47c3b1",
   "metadata": {},
   "outputs": [],
   "source": [
    "train1.drop(['customer_since_all','customer_since_bank','customer_birth_date'], axis=1, inplace=True)"
   ]
  },
  {
   "cell_type": "code",
   "execution_count": 483,
   "id": "cdb2e857",
   "metadata": {},
   "outputs": [],
   "source": [
    "train1.drop(train1[train1['Birth_year'] < 1919].index, inplace = True)"
   ]
  },
  {
   "cell_type": "code",
   "execution_count": 484,
   "id": "e466c675",
   "metadata": {},
   "outputs": [
    {
     "data": {
      "text/plain": [
       "(63301, 37)"
      ]
     },
     "execution_count": 484,
     "metadata": {},
     "output_type": "execute_result"
    }
   ],
   "source": [
    "train1.shape"
   ]
  },
  {
   "cell_type": "code",
   "execution_count": 485,
   "id": "099c9415",
   "metadata": {},
   "outputs": [
    {
     "data": {
      "text/html": [
       "<div>\n",
       "<style scoped>\n",
       "    .dataframe tbody tr th:only-of-type {\n",
       "        vertical-align: middle;\n",
       "    }\n",
       "\n",
       "    .dataframe tbody tr th {\n",
       "        vertical-align: top;\n",
       "    }\n",
       "\n",
       "    .dataframe thead th {\n",
       "        text-align: right;\n",
       "    }\n",
       "</style>\n",
       "<table border=\"1\" class=\"dataframe\">\n",
       "  <thead>\n",
       "    <tr style=\"text-align: right;\">\n",
       "      <th></th>\n",
       "      <th>homebanking_active</th>\n",
       "      <th>has_homebanking</th>\n",
       "      <th>has_insurance_21</th>\n",
       "      <th>has_insurance_23</th>\n",
       "      <th>has_life_insurance_fixed_cap</th>\n",
       "      <th>has_life_insurance_decreasing_cap</th>\n",
       "      <th>has_fire_car_other_insurance</th>\n",
       "      <th>has_personal_loan</th>\n",
       "      <th>has_mortgage_loan</th>\n",
       "      <th>has_current_account</th>\n",
       "      <th>has_pension_saving</th>\n",
       "      <th>has_savings_account</th>\n",
       "      <th>has_savings_account_starter</th>\n",
       "      <th>has_current_account_starter</th>\n",
       "      <th>bal_insurance_21</th>\n",
       "      <th>bal_insurance_23</th>\n",
       "      <th>cap_life_insurance_fixed_cap</th>\n",
       "      <th>cap_life_insurance_decreasing_cap</th>\n",
       "      <th>prem_fire_car_other_insurance</th>\n",
       "      <th>bal_personal_loan</th>\n",
       "      <th>bal_mortgage_loan</th>\n",
       "      <th>bal_current_account</th>\n",
       "      <th>bal_pension_saving</th>\n",
       "      <th>bal_savings_account</th>\n",
       "      <th>bal_savings_account_starter</th>\n",
       "      <th>bal_current_account_starter</th>\n",
       "      <th>visits_distinct_so</th>\n",
       "      <th>visits_distinct_so_areas</th>\n",
       "      <th>customer_gender</th>\n",
       "      <th>customer_postal_code</th>\n",
       "      <th>customer_self_employed</th>\n",
       "      <th>target</th>\n",
       "      <th>Birth_year</th>\n",
       "      <th>Year_since_all</th>\n",
       "      <th>Month_since_all</th>\n",
       "      <th>Year_since_bank</th>\n",
       "      <th>Month_since_bank</th>\n",
       "    </tr>\n",
       "  </thead>\n",
       "  <tbody>\n",
       "    <tr>\n",
       "      <th>0</th>\n",
       "      <td>0</td>\n",
       "      <td>0</td>\n",
       "      <td>0</td>\n",
       "      <td>0</td>\n",
       "      <td>0</td>\n",
       "      <td>0</td>\n",
       "      <td>1</td>\n",
       "      <td>0</td>\n",
       "      <td>0</td>\n",
       "      <td>1</td>\n",
       "      <td>0</td>\n",
       "      <td>1</td>\n",
       "      <td>0</td>\n",
       "      <td>0</td>\n",
       "      <td>0</td>\n",
       "      <td>0</td>\n",
       "      <td>0</td>\n",
       "      <td>0</td>\n",
       "      <td>20</td>\n",
       "      <td>0</td>\n",
       "      <td>0</td>\n",
       "      <td>590</td>\n",
       "      <td>0</td>\n",
       "      <td>22000</td>\n",
       "      <td>0</td>\n",
       "      <td>0</td>\n",
       "      <td>1.0</td>\n",
       "      <td>1.0</td>\n",
       "      <td>1</td>\n",
       "      <td>3630</td>\n",
       "      <td>0</td>\n",
       "      <td>0</td>\n",
       "      <td>1943</td>\n",
       "      <td>1983</td>\n",
       "      <td>3</td>\n",
       "      <td>1994</td>\n",
       "      <td>8</td>\n",
       "    </tr>\n",
       "    <tr>\n",
       "      <th>1</th>\n",
       "      <td>1</td>\n",
       "      <td>1</td>\n",
       "      <td>0</td>\n",
       "      <td>0</td>\n",
       "      <td>0</td>\n",
       "      <td>0</td>\n",
       "      <td>0</td>\n",
       "      <td>0</td>\n",
       "      <td>0</td>\n",
       "      <td>1</td>\n",
       "      <td>0</td>\n",
       "      <td>1</td>\n",
       "      <td>0</td>\n",
       "      <td>0</td>\n",
       "      <td>0</td>\n",
       "      <td>0</td>\n",
       "      <td>0</td>\n",
       "      <td>0</td>\n",
       "      <td>0</td>\n",
       "      <td>0</td>\n",
       "      <td>0</td>\n",
       "      <td>940</td>\n",
       "      <td>0</td>\n",
       "      <td>10570</td>\n",
       "      <td>0</td>\n",
       "      <td>0</td>\n",
       "      <td>1.0</td>\n",
       "      <td>1.0</td>\n",
       "      <td>1</td>\n",
       "      <td>2460</td>\n",
       "      <td>0</td>\n",
       "      <td>0</td>\n",
       "      <td>1994</td>\n",
       "      <td>2017</td>\n",
       "      <td>1</td>\n",
       "      <td>2017</td>\n",
       "      <td>1</td>\n",
       "    </tr>\n",
       "    <tr>\n",
       "      <th>2</th>\n",
       "      <td>1</td>\n",
       "      <td>1</td>\n",
       "      <td>0</td>\n",
       "      <td>0</td>\n",
       "      <td>0</td>\n",
       "      <td>0</td>\n",
       "      <td>1</td>\n",
       "      <td>0</td>\n",
       "      <td>0</td>\n",
       "      <td>1</td>\n",
       "      <td>0</td>\n",
       "      <td>1</td>\n",
       "      <td>0</td>\n",
       "      <td>0</td>\n",
       "      <td>0</td>\n",
       "      <td>0</td>\n",
       "      <td>0</td>\n",
       "      <td>0</td>\n",
       "      <td>320</td>\n",
       "      <td>0</td>\n",
       "      <td>0</td>\n",
       "      <td>1210</td>\n",
       "      <td>0</td>\n",
       "      <td>15200</td>\n",
       "      <td>0</td>\n",
       "      <td>0</td>\n",
       "      <td>1.0</td>\n",
       "      <td>1.0</td>\n",
       "      <td>2</td>\n",
       "      <td>2660</td>\n",
       "      <td>0</td>\n",
       "      <td>0</td>\n",
       "      <td>1936</td>\n",
       "      <td>1980</td>\n",
       "      <td>12</td>\n",
       "      <td>1980</td>\n",
       "      <td>12</td>\n",
       "    </tr>\n",
       "    <tr>\n",
       "      <th>3</th>\n",
       "      <td>0</td>\n",
       "      <td>0</td>\n",
       "      <td>0</td>\n",
       "      <td>0</td>\n",
       "      <td>0</td>\n",
       "      <td>0</td>\n",
       "      <td>1</td>\n",
       "      <td>0</td>\n",
       "      <td>0</td>\n",
       "      <td>0</td>\n",
       "      <td>0</td>\n",
       "      <td>1</td>\n",
       "      <td>0</td>\n",
       "      <td>0</td>\n",
       "      <td>0</td>\n",
       "      <td>0</td>\n",
       "      <td>0</td>\n",
       "      <td>0</td>\n",
       "      <td>160</td>\n",
       "      <td>0</td>\n",
       "      <td>0</td>\n",
       "      <td>0</td>\n",
       "      <td>0</td>\n",
       "      <td>29020</td>\n",
       "      <td>0</td>\n",
       "      <td>0</td>\n",
       "      <td>1.0</td>\n",
       "      <td>1.0</td>\n",
       "      <td>1</td>\n",
       "      <td>6600</td>\n",
       "      <td>0</td>\n",
       "      <td>0</td>\n",
       "      <td>1946</td>\n",
       "      <td>1998</td>\n",
       "      <td>8</td>\n",
       "      <td>2013</td>\n",
       "      <td>10</td>\n",
       "    </tr>\n",
       "    <tr>\n",
       "      <th>4</th>\n",
       "      <td>0</td>\n",
       "      <td>0</td>\n",
       "      <td>0</td>\n",
       "      <td>0</td>\n",
       "      <td>0</td>\n",
       "      <td>0</td>\n",
       "      <td>0</td>\n",
       "      <td>0</td>\n",
       "      <td>0</td>\n",
       "      <td>0</td>\n",
       "      <td>0</td>\n",
       "      <td>1</td>\n",
       "      <td>0</td>\n",
       "      <td>0</td>\n",
       "      <td>0</td>\n",
       "      <td>0</td>\n",
       "      <td>0</td>\n",
       "      <td>0</td>\n",
       "      <td>0</td>\n",
       "      <td>0</td>\n",
       "      <td>0</td>\n",
       "      <td>0</td>\n",
       "      <td>0</td>\n",
       "      <td>13650</td>\n",
       "      <td>0</td>\n",
       "      <td>0</td>\n",
       "      <td>1.0</td>\n",
       "      <td>1.0</td>\n",
       "      <td>2</td>\n",
       "      <td>8550</td>\n",
       "      <td>0</td>\n",
       "      <td>1</td>\n",
       "      <td>1996</td>\n",
       "      <td>2012</td>\n",
       "      <td>11</td>\n",
       "      <td>2012</td>\n",
       "      <td>11</td>\n",
       "    </tr>\n",
       "    <tr>\n",
       "      <th>...</th>\n",
       "      <td>...</td>\n",
       "      <td>...</td>\n",
       "      <td>...</td>\n",
       "      <td>...</td>\n",
       "      <td>...</td>\n",
       "      <td>...</td>\n",
       "      <td>...</td>\n",
       "      <td>...</td>\n",
       "      <td>...</td>\n",
       "      <td>...</td>\n",
       "      <td>...</td>\n",
       "      <td>...</td>\n",
       "      <td>...</td>\n",
       "      <td>...</td>\n",
       "      <td>...</td>\n",
       "      <td>...</td>\n",
       "      <td>...</td>\n",
       "      <td>...</td>\n",
       "      <td>...</td>\n",
       "      <td>...</td>\n",
       "      <td>...</td>\n",
       "      <td>...</td>\n",
       "      <td>...</td>\n",
       "      <td>...</td>\n",
       "      <td>...</td>\n",
       "      <td>...</td>\n",
       "      <td>...</td>\n",
       "      <td>...</td>\n",
       "      <td>...</td>\n",
       "      <td>...</td>\n",
       "      <td>...</td>\n",
       "      <td>...</td>\n",
       "      <td>...</td>\n",
       "      <td>...</td>\n",
       "      <td>...</td>\n",
       "      <td>...</td>\n",
       "      <td>...</td>\n",
       "    </tr>\n",
       "    <tr>\n",
       "      <th>63692</th>\n",
       "      <td>1</td>\n",
       "      <td>1</td>\n",
       "      <td>1</td>\n",
       "      <td>0</td>\n",
       "      <td>0</td>\n",
       "      <td>0</td>\n",
       "      <td>0</td>\n",
       "      <td>0</td>\n",
       "      <td>0</td>\n",
       "      <td>1</td>\n",
       "      <td>0</td>\n",
       "      <td>1</td>\n",
       "      <td>0</td>\n",
       "      <td>0</td>\n",
       "      <td>2420</td>\n",
       "      <td>0</td>\n",
       "      <td>0</td>\n",
       "      <td>0</td>\n",
       "      <td>0</td>\n",
       "      <td>0</td>\n",
       "      <td>0</td>\n",
       "      <td>80</td>\n",
       "      <td>0</td>\n",
       "      <td>17060</td>\n",
       "      <td>0</td>\n",
       "      <td>0</td>\n",
       "      <td>2.0</td>\n",
       "      <td>1.0</td>\n",
       "      <td>2</td>\n",
       "      <td>8000</td>\n",
       "      <td>0</td>\n",
       "      <td>0</td>\n",
       "      <td>1982</td>\n",
       "      <td>1998</td>\n",
       "      <td>6</td>\n",
       "      <td>1998</td>\n",
       "      <td>6</td>\n",
       "    </tr>\n",
       "    <tr>\n",
       "      <th>63693</th>\n",
       "      <td>0</td>\n",
       "      <td>0</td>\n",
       "      <td>1</td>\n",
       "      <td>0</td>\n",
       "      <td>0</td>\n",
       "      <td>0</td>\n",
       "      <td>1</td>\n",
       "      <td>0</td>\n",
       "      <td>1</td>\n",
       "      <td>1</td>\n",
       "      <td>0</td>\n",
       "      <td>1</td>\n",
       "      <td>0</td>\n",
       "      <td>0</td>\n",
       "      <td>7810</td>\n",
       "      <td>0</td>\n",
       "      <td>0</td>\n",
       "      <td>0</td>\n",
       "      <td>1180</td>\n",
       "      <td>0</td>\n",
       "      <td>13030</td>\n",
       "      <td>2690</td>\n",
       "      <td>0</td>\n",
       "      <td>22400</td>\n",
       "      <td>0</td>\n",
       "      <td>0</td>\n",
       "      <td>2.0</td>\n",
       "      <td>1.0</td>\n",
       "      <td>2</td>\n",
       "      <td>2020</td>\n",
       "      <td>0</td>\n",
       "      <td>0</td>\n",
       "      <td>1965</td>\n",
       "      <td>1989</td>\n",
       "      <td>5</td>\n",
       "      <td>1989</td>\n",
       "      <td>5</td>\n",
       "    </tr>\n",
       "    <tr>\n",
       "      <th>63694</th>\n",
       "      <td>0</td>\n",
       "      <td>1</td>\n",
       "      <td>0</td>\n",
       "      <td>0</td>\n",
       "      <td>0</td>\n",
       "      <td>1</td>\n",
       "      <td>1</td>\n",
       "      <td>0</td>\n",
       "      <td>1</td>\n",
       "      <td>1</td>\n",
       "      <td>0</td>\n",
       "      <td>1</td>\n",
       "      <td>0</td>\n",
       "      <td>0</td>\n",
       "      <td>0</td>\n",
       "      <td>0</td>\n",
       "      <td>0</td>\n",
       "      <td>186000</td>\n",
       "      <td>520</td>\n",
       "      <td>0</td>\n",
       "      <td>179550</td>\n",
       "      <td>2920</td>\n",
       "      <td>0</td>\n",
       "      <td>6820</td>\n",
       "      <td>0</td>\n",
       "      <td>0</td>\n",
       "      <td>3.0</td>\n",
       "      <td>1.0</td>\n",
       "      <td>2</td>\n",
       "      <td>1070</td>\n",
       "      <td>0</td>\n",
       "      <td>0</td>\n",
       "      <td>1976</td>\n",
       "      <td>1991</td>\n",
       "      <td>1</td>\n",
       "      <td>1991</td>\n",
       "      <td>1</td>\n",
       "    </tr>\n",
       "    <tr>\n",
       "      <th>63695</th>\n",
       "      <td>0</td>\n",
       "      <td>0</td>\n",
       "      <td>0</td>\n",
       "      <td>0</td>\n",
       "      <td>0</td>\n",
       "      <td>0</td>\n",
       "      <td>0</td>\n",
       "      <td>0</td>\n",
       "      <td>0</td>\n",
       "      <td>0</td>\n",
       "      <td>0</td>\n",
       "      <td>1</td>\n",
       "      <td>0</td>\n",
       "      <td>0</td>\n",
       "      <td>0</td>\n",
       "      <td>0</td>\n",
       "      <td>0</td>\n",
       "      <td>0</td>\n",
       "      <td>0</td>\n",
       "      <td>0</td>\n",
       "      <td>0</td>\n",
       "      <td>0</td>\n",
       "      <td>0</td>\n",
       "      <td>5690</td>\n",
       "      <td>0</td>\n",
       "      <td>0</td>\n",
       "      <td>1.0</td>\n",
       "      <td>1.0</td>\n",
       "      <td>1</td>\n",
       "      <td>2560</td>\n",
       "      <td>0</td>\n",
       "      <td>0</td>\n",
       "      <td>1951</td>\n",
       "      <td>2014</td>\n",
       "      <td>4</td>\n",
       "      <td>2014</td>\n",
       "      <td>4</td>\n",
       "    </tr>\n",
       "    <tr>\n",
       "      <th>63696</th>\n",
       "      <td>1</td>\n",
       "      <td>1</td>\n",
       "      <td>0</td>\n",
       "      <td>0</td>\n",
       "      <td>0</td>\n",
       "      <td>0</td>\n",
       "      <td>0</td>\n",
       "      <td>0</td>\n",
       "      <td>0</td>\n",
       "      <td>1</td>\n",
       "      <td>0</td>\n",
       "      <td>1</td>\n",
       "      <td>0</td>\n",
       "      <td>0</td>\n",
       "      <td>0</td>\n",
       "      <td>0</td>\n",
       "      <td>0</td>\n",
       "      <td>0</td>\n",
       "      <td>0</td>\n",
       "      <td>0</td>\n",
       "      <td>0</td>\n",
       "      <td>6890</td>\n",
       "      <td>0</td>\n",
       "      <td>13540</td>\n",
       "      <td>0</td>\n",
       "      <td>0</td>\n",
       "      <td>1.0</td>\n",
       "      <td>1.0</td>\n",
       "      <td>1</td>\n",
       "      <td>9100</td>\n",
       "      <td>0</td>\n",
       "      <td>0</td>\n",
       "      <td>1995</td>\n",
       "      <td>2002</td>\n",
       "      <td>2</td>\n",
       "      <td>2002</td>\n",
       "      <td>2</td>\n",
       "    </tr>\n",
       "  </tbody>\n",
       "</table>\n",
       "<p>63301 rows × 37 columns</p>\n",
       "</div>"
      ],
      "text/plain": [
       "       homebanking_active  has_homebanking  has_insurance_21  \\\n",
       "0                       0                0                 0   \n",
       "1                       1                1                 0   \n",
       "2                       1                1                 0   \n",
       "3                       0                0                 0   \n",
       "4                       0                0                 0   \n",
       "...                   ...              ...               ...   \n",
       "63692                   1                1                 1   \n",
       "63693                   0                0                 1   \n",
       "63694                   0                1                 0   \n",
       "63695                   0                0                 0   \n",
       "63696                   1                1                 0   \n",
       "\n",
       "       has_insurance_23  has_life_insurance_fixed_cap  \\\n",
       "0                     0                             0   \n",
       "1                     0                             0   \n",
       "2                     0                             0   \n",
       "3                     0                             0   \n",
       "4                     0                             0   \n",
       "...                 ...                           ...   \n",
       "63692                 0                             0   \n",
       "63693                 0                             0   \n",
       "63694                 0                             0   \n",
       "63695                 0                             0   \n",
       "63696                 0                             0   \n",
       "\n",
       "       has_life_insurance_decreasing_cap  has_fire_car_other_insurance  \\\n",
       "0                                      0                             1   \n",
       "1                                      0                             0   \n",
       "2                                      0                             1   \n",
       "3                                      0                             1   \n",
       "4                                      0                             0   \n",
       "...                                  ...                           ...   \n",
       "63692                                  0                             0   \n",
       "63693                                  0                             1   \n",
       "63694                                  1                             1   \n",
       "63695                                  0                             0   \n",
       "63696                                  0                             0   \n",
       "\n",
       "       has_personal_loan  has_mortgage_loan  has_current_account  \\\n",
       "0                      0                  0                    1   \n",
       "1                      0                  0                    1   \n",
       "2                      0                  0                    1   \n",
       "3                      0                  0                    0   \n",
       "4                      0                  0                    0   \n",
       "...                  ...                ...                  ...   \n",
       "63692                  0                  0                    1   \n",
       "63693                  0                  1                    1   \n",
       "63694                  0                  1                    1   \n",
       "63695                  0                  0                    0   \n",
       "63696                  0                  0                    1   \n",
       "\n",
       "       has_pension_saving  has_savings_account  has_savings_account_starter  \\\n",
       "0                       0                    1                            0   \n",
       "1                       0                    1                            0   \n",
       "2                       0                    1                            0   \n",
       "3                       0                    1                            0   \n",
       "4                       0                    1                            0   \n",
       "...                   ...                  ...                          ...   \n",
       "63692                   0                    1                            0   \n",
       "63693                   0                    1                            0   \n",
       "63694                   0                    1                            0   \n",
       "63695                   0                    1                            0   \n",
       "63696                   0                    1                            0   \n",
       "\n",
       "       has_current_account_starter  bal_insurance_21  bal_insurance_23  \\\n",
       "0                                0                 0                 0   \n",
       "1                                0                 0                 0   \n",
       "2                                0                 0                 0   \n",
       "3                                0                 0                 0   \n",
       "4                                0                 0                 0   \n",
       "...                            ...               ...               ...   \n",
       "63692                            0              2420                 0   \n",
       "63693                            0              7810                 0   \n",
       "63694                            0                 0                 0   \n",
       "63695                            0                 0                 0   \n",
       "63696                            0                 0                 0   \n",
       "\n",
       "       cap_life_insurance_fixed_cap  cap_life_insurance_decreasing_cap  \\\n",
       "0                                 0                                  0   \n",
       "1                                 0                                  0   \n",
       "2                                 0                                  0   \n",
       "3                                 0                                  0   \n",
       "4                                 0                                  0   \n",
       "...                             ...                                ...   \n",
       "63692                             0                                  0   \n",
       "63693                             0                                  0   \n",
       "63694                             0                             186000   \n",
       "63695                             0                                  0   \n",
       "63696                             0                                  0   \n",
       "\n",
       "       prem_fire_car_other_insurance  bal_personal_loan  bal_mortgage_loan  \\\n",
       "0                                 20                  0                  0   \n",
       "1                                  0                  0                  0   \n",
       "2                                320                  0                  0   \n",
       "3                                160                  0                  0   \n",
       "4                                  0                  0                  0   \n",
       "...                              ...                ...                ...   \n",
       "63692                              0                  0                  0   \n",
       "63693                           1180                  0              13030   \n",
       "63694                            520                  0             179550   \n",
       "63695                              0                  0                  0   \n",
       "63696                              0                  0                  0   \n",
       "\n",
       "       bal_current_account  bal_pension_saving  bal_savings_account  \\\n",
       "0                      590                   0                22000   \n",
       "1                      940                   0                10570   \n",
       "2                     1210                   0                15200   \n",
       "3                        0                   0                29020   \n",
       "4                        0                   0                13650   \n",
       "...                    ...                 ...                  ...   \n",
       "63692                   80                   0                17060   \n",
       "63693                 2690                   0                22400   \n",
       "63694                 2920                   0                 6820   \n",
       "63695                    0                   0                 5690   \n",
       "63696                 6890                   0                13540   \n",
       "\n",
       "       bal_savings_account_starter  bal_current_account_starter  \\\n",
       "0                                0                            0   \n",
       "1                                0                            0   \n",
       "2                                0                            0   \n",
       "3                                0                            0   \n",
       "4                                0                            0   \n",
       "...                            ...                          ...   \n",
       "63692                            0                            0   \n",
       "63693                            0                            0   \n",
       "63694                            0                            0   \n",
       "63695                            0                            0   \n",
       "63696                            0                            0   \n",
       "\n",
       "       visits_distinct_so  visits_distinct_so_areas  customer_gender  \\\n",
       "0                     1.0                       1.0                1   \n",
       "1                     1.0                       1.0                1   \n",
       "2                     1.0                       1.0                2   \n",
       "3                     1.0                       1.0                1   \n",
       "4                     1.0                       1.0                2   \n",
       "...                   ...                       ...              ...   \n",
       "63692                 2.0                       1.0                2   \n",
       "63693                 2.0                       1.0                2   \n",
       "63694                 3.0                       1.0                2   \n",
       "63695                 1.0                       1.0                1   \n",
       "63696                 1.0                       1.0                1   \n",
       "\n",
       "       customer_postal_code  customer_self_employed  target  Birth_year  \\\n",
       "0                      3630                       0       0        1943   \n",
       "1                      2460                       0       0        1994   \n",
       "2                      2660                       0       0        1936   \n",
       "3                      6600                       0       0        1946   \n",
       "4                      8550                       0       1        1996   \n",
       "...                     ...                     ...     ...         ...   \n",
       "63692                  8000                       0       0        1982   \n",
       "63693                  2020                       0       0        1965   \n",
       "63694                  1070                       0       0        1976   \n",
       "63695                  2560                       0       0        1951   \n",
       "63696                  9100                       0       0        1995   \n",
       "\n",
       "       Year_since_all  Month_since_all  Year_since_bank  Month_since_bank  \n",
       "0                1983                3             1994                 8  \n",
       "1                2017                1             2017                 1  \n",
       "2                1980               12             1980                12  \n",
       "3                1998                8             2013                10  \n",
       "4                2012               11             2012                11  \n",
       "...               ...              ...              ...               ...  \n",
       "63692            1998                6             1998                 6  \n",
       "63693            1989                5             1989                 5  \n",
       "63694            1991                1             1991                 1  \n",
       "63695            2014                4             2014                 4  \n",
       "63696            2002                2             2002                 2  \n",
       "\n",
       "[63301 rows x 37 columns]"
      ]
     },
     "execution_count": 485,
     "metadata": {},
     "output_type": "execute_result"
    }
   ],
   "source": [
    "train1"
   ]
  },
  {
   "cell_type": "markdown",
   "id": "9136a9a3",
   "metadata": {},
   "source": [
    "## feature engineering \n",
    "- We could see if there is a significant (large) difference in say balance or savings as this could be an indicator that the client is about to churn. (can just be stored as a boolean). \n",
    "- can also compute a boolean regarding the change in some services that the client has. Say he dropped in insurrance 21 last month or smtg. also as a boolean \n"
   ]
  },
  {
   "cell_type": "markdown",
   "id": "b2073334",
   "metadata": {},
   "source": [
    "## regarding modeling\n",
    "the most used techniques are logistic regression, random forest, xgboost. People usually use random forest as a baseline reference and then they tune it or try other models to see if they can beat the random forest. "
   ]
  },
  {
   "cell_type": "markdown",
   "id": "1caa2367",
   "metadata": {},
   "source": []
  },
  {
   "cell_type": "markdown",
   "id": "0cb88c10",
   "metadata": {},
   "source": [
    "## STEPS REQUIRED\n",
    "## A-Identify Business Problems\n",
    "- What is the likelihood of an active customer to leave the bank?\n",
    "- What are the key indicators of a customer churn?\n",
    "- What retention strategies can be implemented based on results to diminish prospective customer churn?\n",
    "\n",
    "\n"
   ]
  },
  {
   "cell_type": "markdown",
   "id": "6ecc064e",
   "metadata": {},
   "source": [
    "## B- Data Preprocessing\n",
    "- Evaluate data structure\n",
    "- Check target variable distribution\n",
    "- Clean the dataset\n",
    "- Deal with missing data\n",
    " "
   ]
  },
  {
   "cell_type": "markdown",
   "id": "13c32760",
   "metadata": {},
   "source": [
    "## C- Data Evaluation\n",
    "- Plot Charts and Histograms\n",
    "- Analyze the distribution of categorical variables\n",
    "- Analyze the churn rate by variable\n",
    "- Find correlations between variables\n",
    "- Making a conclusion from the above findings\n",
    "- Split the dataset in training and validation sets\n",
    "- Split the dependent variable from the independent variables.\n",
    "- Remove Identifier: Customer ID\n",
    "- Normalize Variables"
   ]
  },
  {
   "cell_type": "markdown",
   "id": "42d33f51",
   "metadata": {},
   "source": [
    "## D- Model Selection\n",
    "Suggested models:\n",
    "- Logistic Regression\n",
    "- Random Forrest\n",
    "- KNN\n",
    "- SVM\n",
    "-xgboost"
   ]
  },
  {
   "cell_type": "markdown",
   "id": "c43e9be2",
   "metadata": {},
   "source": [
    "## E- Model Evalation\n"
   ]
  },
  {
   "cell_type": "markdown",
   "id": "1a78efa3",
   "metadata": {},
   "source": [
    "## F- Model Improvement\n",
    "Tuning Hyperparameters"
   ]
  },
  {
   "cell_type": "markdown",
   "id": "cace5ca6",
   "metadata": {},
   "source": [
    "## G- Model Deployement"
   ]
  },
  {
   "cell_type": "markdown",
   "id": "b4c141b8",
   "metadata": {},
   "source": [
    "## Resources"
   ]
  }
 ],
 "metadata": {
  "kernelspec": {
   "display_name": "Python 3",
   "language": "python",
   "name": "python3"
  },
  "language_info": {
   "codemirror_mode": {
    "name": "ipython",
    "version": 3
   },
   "file_extension": ".py",
   "mimetype": "text/x-python",
   "name": "python",
   "nbconvert_exporter": "python",
   "pygments_lexer": "ipython3",
   "version": "3.9.9"
  },
  "varInspector": {
   "cols": {
    "lenName": 16,
    "lenType": 16,
    "lenVar": 40
   },
   "kernels_config": {
    "python": {
     "delete_cmd_postfix": "",
     "delete_cmd_prefix": "del ",
     "library": "var_list.py",
     "varRefreshCmd": "print(var_dic_list())"
    },
    "r": {
     "delete_cmd_postfix": ") ",
     "delete_cmd_prefix": "rm(",
     "library": "var_list.r",
     "varRefreshCmd": "cat(var_dic_list()) "
    }
   },
   "types_to_exclude": [
    "module",
    "function",
    "builtin_function_or_method",
    "instance",
    "_Feature"
   ],
   "window_display": false
  }
 },
 "nbformat": 4,
 "nbformat_minor": 5
}
