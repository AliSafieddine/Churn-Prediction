{
 "cells": [
  {
   "cell_type": "code",
   "execution_count": 2,
   "metadata": {
    "ExecuteTime": {
     "end_time": "2022-03-27T11:24:22.224207Z",
     "start_time": "2022-03-27T11:24:20.792126Z"
    }
   },
   "outputs": [],
   "source": [
    "import pandas as pd \n",
    "import numpy as np \n",
    "from sklearn.ensemble import RandomForestClassifier\n",
    "from sklearn.model_selection import train_test_split\n",
    "from datetime import date\n",
    "import matplotlib.pyplot as plt\n",
    "import seaborn as sns\n",
    "from sklearn.metrics import accuracy_score, confusion_matrix\n",
    "from sklearn.model_selection import RandomizedSearchCV\n",
    "%matplotlib inline\n",
    "import pandas as pdf "
   ]
  },
  {
   "cell_type": "code",
   "execution_count": 3,
   "metadata": {
    "ExecuteTime": {
     "end_time": "2022-03-27T11:24:22.755170Z",
     "start_time": "2022-03-27T11:24:22.227719Z"
    }
   },
   "outputs": [],
   "source": [
    "train1 = pd.read_csv('train_month_3_with_target.csv')\n",
    "train2 = pd.read_csv('train_month_2.csv')\n",
    "train3 = pd.read_csv('train_month_2.csv')\n",
    "test1 = pd.read_csv('test_month_1.csv')"
   ]
  },
  {
   "cell_type": "code",
   "execution_count": 4,
   "metadata": {
    "ExecuteTime": {
     "end_time": "2022-03-27T11:24:22.833734Z",
     "start_time": "2022-03-27T11:24:22.809548Z"
    },
    "collapsed": true
   },
   "outputs": [
    {
     "name": "stdout",
     "output_type": "stream",
     "text": [
      "<class 'pandas.core.frame.DataFrame'>\n",
      "RangeIndex: 63697 entries, 0 to 63696\n",
      "Data columns (total 40 columns):\n",
      " #   Column                             Non-Null Count  Dtype  \n",
      "---  ------                             --------------  -----  \n",
      " 0   client_id                          63697 non-null  object \n",
      " 1   homebanking_active                 63697 non-null  int64  \n",
      " 2   has_homebanking                    63697 non-null  int64  \n",
      " 3   has_insurance_21                   63697 non-null  int64  \n",
      " 4   has_insurance_23                   63697 non-null  int64  \n",
      " 5   has_life_insurance_fixed_cap       63697 non-null  int64  \n",
      " 6   has_life_insurance_decreasing_cap  63697 non-null  int64  \n",
      " 7   has_fire_car_other_insurance       63697 non-null  int64  \n",
      " 8   has_personal_loan                  63697 non-null  int64  \n",
      " 9   has_mortgage_loan                  63697 non-null  int64  \n",
      " 10  has_current_account                63697 non-null  int64  \n",
      " 11  has_pension_saving                 63697 non-null  int64  \n",
      " 12  has_savings_account                63697 non-null  int64  \n",
      " 13  has_savings_account_starter        63697 non-null  int64  \n",
      " 14  has_current_account_starter        63697 non-null  int64  \n",
      " 15  bal_insurance_21                   63697 non-null  int64  \n",
      " 16  bal_insurance_23                   63697 non-null  int64  \n",
      " 17  cap_life_insurance_fixed_cap       63697 non-null  int64  \n",
      " 18  cap_life_insurance_decreasing_cap  63697 non-null  int64  \n",
      " 19  prem_fire_car_other_insurance      63697 non-null  int64  \n",
      " 20  bal_personal_loan                  63697 non-null  int64  \n",
      " 21  bal_mortgage_loan                  63697 non-null  int64  \n",
      " 22  bal_current_account                63697 non-null  int64  \n",
      " 23  bal_pension_saving                 63697 non-null  int64  \n",
      " 24  bal_savings_account                63697 non-null  int64  \n",
      " 25  bal_savings_account_starter        63697 non-null  int64  \n",
      " 26  bal_current_account_starter        63697 non-null  int64  \n",
      " 27  visits_distinct_so                 63697 non-null  float64\n",
      " 28  visits_distinct_so_areas           63697 non-null  float64\n",
      " 29  customer_since_all                 63463 non-null  object \n",
      " 30  customer_since_bank                63448 non-null  object \n",
      " 31  customer_gender                    63697 non-null  int64  \n",
      " 32  customer_birth_date                63697 non-null  object \n",
      " 33  customer_postal_code               63697 non-null  int64  \n",
      " 34  customer_occupation_code           61695 non-null  float64\n",
      " 35  customer_self_employed             63697 non-null  int64  \n",
      " 36  customer_education                 16572 non-null  float64\n",
      " 37  customer_children                  40333 non-null  object \n",
      " 38  customer_relationship              48798 non-null  object \n",
      " 39  target                             63697 non-null  int64  \n",
      "dtypes: float64(4), int64(30), object(6)\n",
      "memory usage: 19.4+ MB\n"
     ]
    }
   ],
   "source": [
    "train1.info()"
   ]
  },
  {
   "cell_type": "code",
   "execution_count": 16,
   "metadata": {
    "ExecuteTime": {
     "end_time": "2022-03-27T11:24:22.889374Z",
     "start_time": "2022-03-27T11:24:22.887274Z"
    }
   },
   "outputs": [],
   "source": [
    "pd.set_option('display.max_columns',None)\n"
   ]
  },
  {
   "cell_type": "code",
   "execution_count": 6,
   "metadata": {
    "ExecuteTime": {
     "end_time": "2022-03-27T11:24:22.951690Z",
     "start_time": "2022-03-27T11:24:22.921191Z"
    }
   },
   "outputs": [],
   "source": [
    "train1['customer_since_all'] = pd.to_datetime(train1['customer_since_all'])\n",
    "train1['customer_since_bank'] = pd.to_datetime(train1['customer_since_bank'])\n",
    "train1['customer_birth_date'] = pd.to_datetime(train1['customer_birth_date'])"
   ]
  },
  {
   "cell_type": "code",
   "execution_count": 7,
   "metadata": {
    "ExecuteTime": {
     "end_time": "2022-03-27T11:24:23.777957Z",
     "start_time": "2022-03-27T11:24:23.715733Z"
    }
   },
   "outputs": [
    {
     "name": "stdout",
     "output_type": "stream",
     "text": [
      "Continious variables are: ['bal_insurance_21', 'bal_insurance_23', 'cap_life_insurance_fixed_cap', 'cap_life_insurance_decreasing_cap', 'prem_fire_car_other_insurance', 'bal_personal_loan', 'bal_mortgage_loan', 'bal_current_account', 'bal_pension_saving', 'bal_savings_account', 'bal_savings_account_starter', 'bal_current_account_starter', 'customer_since_all', 'customer_since_bank', 'customer_birth_date', 'customer_postal_code']\n",
      "------------------\n",
      "Categorical variables are: ['homebanking_active', 'has_homebanking', 'has_insurance_21', 'has_insurance_23', 'has_life_insurance_fixed_cap', 'has_life_insurance_decreasing_cap', 'has_fire_car_other_insurance', 'has_personal_loan', 'has_mortgage_loan', 'has_current_account', 'has_pension_saving', 'has_savings_account', 'has_savings_account_starter', 'has_current_account_starter', 'visits_distinct_so', 'visits_distinct_so_areas', 'customer_gender', 'customer_occupation_code', 'customer_self_employed', 'customer_education', 'customer_children', 'customer_relationship', 'target']\n"
     ]
    }
   ],
   "source": [
    "cat_vars = []\n",
    "cont_vars = []\n",
    "columns = list(train1.drop(columns = ['client_id']).columns)\n",
    "for i in columns:\n",
    "    if (len(train1.loc[:,i].unique()) >= 20):\n",
    "        cont_vars.append(i)\n",
    "    else:\n",
    "        cat_vars.append(i)\n",
    "        \n",
    "print('Continious variables are:',cont_vars)\n",
    "print('------------------')\n",
    "print('Categorical variables are:',cat_vars)\n",
    "# Here we have our list of categorical and continious variables"
   ]
  },
  {
   "cell_type": "code",
   "execution_count": 8,
   "metadata": {
    "ExecuteTime": {
     "end_time": "2022-03-27T11:39:13.478083Z",
     "start_time": "2022-03-27T11:39:13.435491Z"
    },
    "collapsed": true
   },
   "outputs": [
    {
     "name": "stdout",
     "output_type": "stream",
     "text": [
      "homebanking_active [0 1]\n",
      "has_homebanking [0 1]\n",
      "has_insurance_21 [0 1]\n",
      "has_insurance_23 [0 1]\n",
      "has_life_insurance_fixed_cap [0 1]\n",
      "has_life_insurance_decreasing_cap [0 1]\n",
      "has_fire_car_other_insurance [1 0]\n",
      "has_personal_loan [0 1]\n",
      "has_mortgage_loan [0 1]\n",
      "has_current_account [1 0]\n",
      "has_pension_saving [0 1]\n",
      "has_savings_account [1 0]\n",
      "has_savings_account_starter [0 1]\n",
      "has_current_account_starter [0 1]\n",
      "visits_distinct_so [1. 2. 3. 4. 6. 5. 7.]\n",
      "visits_distinct_so_areas [1. 2. 3. 5. 4. 6.]\n",
      "customer_gender [1 2]\n",
      "customer_occupation_code [ 9. nan  7.  8.  4.  5.  0.  6.  3.  1.  2.]\n",
      "customer_self_employed [0 1]\n",
      "customer_education [ 0. nan  2.  1.  4.  3.  5.  6.]\n",
      "customer_children [nan 'mature' 'no' 'young' 'preschool' 'adolescent' 'grownup' 'onebaby'\n",
      " 'yes']\n",
      "customer_relationship [nan 'couple' 'single']\n",
      "target [0 1]\n"
     ]
    }
   ],
   "source": [
    "# To check we will print all unique values\n",
    "for col in cat_vars:\n",
    "    print(col,train1[col].unique())"
   ]
  },
  {
   "cell_type": "code",
   "execution_count": 9,
   "metadata": {
    "ExecuteTime": {
     "end_time": "2022-03-27T11:47:30.772678Z",
     "start_time": "2022-03-27T11:47:30.741359Z"
    }
   },
   "outputs": [
    {
     "name": "stdout",
     "output_type": "stream",
     "text": [
      "customer_since_all           0.367364\n",
      "customer_since_bank          0.390913\n",
      "customer_occupation_code     3.143005\n",
      "customer_education          73.983076\n",
      "customer_children           36.679906\n",
      "customer_relationship       23.390427\n",
      "dtype: float64\n"
     ]
    }
   ],
   "source": [
    "missing_values = (train1.isnull().sum() / train1.shape[0]*100)\n",
    "print(missing_values[missing_values  >0])"
   ]
  },
  {
   "cell_type": "code",
   "execution_count": 9,
   "metadata": {
    "ExecuteTime": {
     "end_time": "2022-03-27T11:39:10.560396Z",
     "start_time": "2022-03-27T11:39:10.503193Z"
    }
   },
   "outputs": [],
   "source": [
    "rep = {'mature':1,'no':0, 'young':1,'preschool':1,'adolescent':1,'grownup':1,'onebaby':1\n",
    " ,'yes':1}\n",
    "train1['customer_children']= train1['customer_children'].replace(rep) \n"
   ]
  },
  {
   "cell_type": "code",
   "execution_count": 11,
   "metadata": {
    "ExecuteTime": {
     "end_time": "2022-03-27T11:42:57.408628Z",
     "start_time": "2022-03-27T11:42:57.262755Z"
    }
   },
   "outputs": [
    {
     "data": {
      "text/plain": [
       "<AxesSubplot:xlabel='target', ylabel='count'>"
      ]
     },
     "execution_count": 11,
     "metadata": {},
     "output_type": "execute_result"
    },
    {
     "data": {
      "image/png": "[encoded data removed]",
      "text/plain": [
       "<Figure size 432x288 with 1 Axes>"
      ]
     },
     "metadata": {
      "needs_background": "light"
     },
     "output_type": "display_data"
    }
   ],
   "source": [
    "#sns.countplot(x='target',data=train1,hue='homebanking_active',palette=\"coolwarm_r\")\n",
    "#sns.countplot(x='target',data=train1,hue='has_homebanking',palette=\"coolwarm_r\")\n",
    "#sns.countplot(x='target',data=train1,hue='has_insurance_21',palette=\"coolwarm_r\")\n",
    "#sns.countplot(x='target',data=train1,hue='has_insurance_23',palette=\"coolwarm_r\")\n",
    "#sns.countplot(x='target',data=train1,hue='has_life_insurance_fixed_cap',palette=\"coolwarm_r\")\n",
    "#sns.countplot(x='target',data=train1,hue='has_life_insurance_decreasing_cap',palette=\"coolwarm_r\")\n",
    "#sns.countplot(x='target',data=train1,hue='has_fire_car_other_insurance',palette=\"coolwarm_r\")\n",
    "#sns.countplot(x='target',data=train1,hue='has_personal_loan',palette=\"coolwarm_r\")\n",
    "#sns.countplot(x='target',data=train1,hue='has_mortgage_loan',palette=\"coolwarm_r\")\n",
    "#sns.countplot(x='target',data=train1,hue='has_current_account',palette=\"coolwarm_r\")\n",
    "#sns.countplot(x='target',data=train1,hue='has_pension_saving',palette=\"coolwarm_r\")\n",
    "#sns.countplot(x='target',data=train1,hue='has_savings_account',palette=\"coolwarm_r\")\n",
    "sns.countplot(x='target',data=train1,hue='customer_education',palette=\"coolwarm_r\")"
   ]
  },
  {
   "cell_type": "markdown",
   "metadata": {},
   "source": [
    "ppl w/o home banking active tend to churn less. is there a diff between that and has_homebanking? \n",
    "insurance 21 or 23 -> if not then don't churn, noone who has it churned? \n",
    "fixed insurance cap, very low amount of ppl have it. \n",
    "decreasing cap seems interesting. \n",
    "fire car insurance interesting.\n",
    "not many ppl w personal loan, same for mortgage. \n",
    "current account seems to have effect on churn \n",
    "no churn if pension savings.\n",
    "gender does seems to have a low effect on churn. \n",
    "more chrun if occupation code =9\n",
    "seems like having children might have an effect but have to reformat that var. \n",
    "ppl in couple seem to churn more."
   ]
  },
  {
   "cell_type": "code",
   "execution_count": 10,
   "metadata": {
    "ExecuteTime": {
     "end_time": "2022-03-27T11:24:29.643373Z",
     "start_time": "2022-03-27T11:24:29.635891Z"
    }
   },
   "outputs": [
    {
     "data": {
      "text/plain": [
       "['bal_insurance_21',\n",
       " 'bal_insurance_23',\n",
       " 'cap_life_insurance_fixed_cap',\n",
       " 'cap_life_insurance_decreasing_cap',\n",
       " 'prem_fire_car_other_insurance',\n",
       " 'bal_personal_loan',\n",
       " 'bal_mortgage_loan',\n",
       " 'bal_current_account',\n",
       " 'bal_pension_saving',\n",
       " 'bal_savings_account',\n",
       " 'bal_savings_account_starter',\n",
       " 'bal_current_account_starter',\n",
       " 'customer_since_all',\n",
       " 'customer_since_bank',\n",
       " 'customer_birth_date',\n",
       " 'customer_postal_code']"
      ]
     },
     "execution_count": 10,
     "metadata": {},
     "output_type": "execute_result"
    }
   ],
   "source": [
    "cont_vars"
   ]
  },
  {
   "cell_type": "code",
   "execution_count": 11,
   "metadata": {
    "ExecuteTime": {
     "end_time": "2022-03-27T11:24:34.143604Z",
     "start_time": "2022-03-27T11:24:33.953219Z"
    }
   },
   "outputs": [
    {
     "data": {
      "image/png": "[encoded data removed]",
      "text/plain": [
       "<Figure size 432x288 with 1 Axes>"
      ]
     },
     "metadata": {
      "needs_background": "light"
     },
     "output_type": "display_data"
    }
   ],
   "source": [
    "ax = sns.histplot(x = 'customer_postal_code', hue = 'target', data = train1, multiple='dodge')"
   ]
  },
  {
   "cell_type": "markdown",
   "metadata": {},
   "source": [
    "balance insurance 21/23 <2000 churn more\n",
    "ppl w balance curr account = 0 churn \n",
    "balance saving account interesting \n",
    "customer since all -> new customers tend to churn. same for bank and for age.\n",
    "one outlier in birth_date\n",
    "some areas/ pc seems to have higher churn rate. "
   ]
  },
  {
   "cell_type": "markdown",
   "metadata": {},
   "source": [
    "## data cleaning \n",
    "'bal_insurance_21',\n",
    " 'bal_insurance_23',\n",
    " 'cap_life_insurance_fixed_cap',\n",
    " 'cap_life_insurance_decreasing_cap',\n",
    " 'prem_fire_car_other_insurance',\n",
    " 'bal_personal_loan',\n",
    " 'bal_mortgage_loan',\n",
    " 'bal_current_account',\n",
    " 'bal_pension_saving',\n",
    " 'bal_savings_account',\n",
    " 'bal_savings_account_starter',\n",
    " 'bal_current_account_starter', \n",
    " and \n",
    " has_insurance_21\n",
    "has_insurance_23 \n",
    "has_life_insurance_fixed_cap\n",
    "has_life_insurance_decreasing_cap\n",
    "has_fire_car_other_insurance \n",
    "has_personal_loan \n",
    "has_mortgage_loan \n",
    "has_current_account \n",
    "has_pension_saving \n",
    "has_savings_account \n",
    "has_savings_account_starter \n",
    "has_current_account_starter \n",
    "kinda convey the same information imo. "
   ]
  },
  {
   "cell_type": "markdown",
   "metadata": {},
   "source": [
    "For the date time data, one easy fix would be to compute the amount of time in years (up until now or from the lowest value in the df). that way we can get rid of this annoying data type that random forest do not like.  "
   ]
  },
  {
   "cell_type": "markdown",
   "metadata": {},
   "source": [
    "For customer_children, we could replace all the different values and make it just yes or no. Problem is there is a lot of nans in the dataset when it comes to that but based on just visualisation having children or not seems to have effect on the client churning. "
   ]
  },
  {
   "cell_type": "markdown",
   "metadata": {},
   "source": [
    "Same goes for the nan values of couple/ single. How can we 'fix' them ? "
   ]
  },
  {
   "cell_type": "markdown",
   "metadata": {},
   "source": [
    "For customer education we are missing 73% of data. should we just drop the column?\n",
    "Then we have nan's in the following features: \n",
    "customer_since_all           0.367364\n",
    "customer_since_bank          0.390913\n",
    "customer_occupation_code     3.143005\n",
    "\n",
    "for the time we could just drop the rows as it is a very small amount of them that we are missing. \n",
    "for the occupation code i don't rly know as idk what those number represent. "
   ]
  },
  {
   "cell_type": "markdown",
   "metadata": {},
   "source": [
    "We also have to check for weird datapoint and outliers!!!\n",
    "there is one guy that is born in in the 1800s for example."
   ]
  },
  {
   "cell_type": "markdown",
   "metadata": {},
   "source": [
    "## feature engineering \n",
    "- We could see if there is a significant (large) difference in say balance or savings as this could be an indicator that the client is about to churn. (can just be stored as a boolean). \n",
    "- can also compute a boolean regarding the change in some services that the client has. Say he dropped in insurrance 21 last month or smtg. also as a boolean \n"
   ]
  },
  {
   "cell_type": "markdown",
   "metadata": {},
   "source": [
    "## regarding modeling\n",
    "the most used techniques are logistic regression, random forest, xgboost. People usually use random forest as a baseline reference and then they tune it or try other models to see if they can beat the random forest. "
   ]
  },
  {
   "cell_type": "markdown",
   "metadata": {},
   "source": []
  },
  {
   "cell_type": "markdown",
   "id": "0cb88c10",
   "metadata": {},
   "source": [
    "## STEPS REQUIRED\n",
    "## A-Identify Business Problems\n",
    "- What is the likelihood of an active customer to leave the bank?\n",
    "- What are the key indicators of a customer churn?\n",
    "- What retention strategies can be implemented based on results to diminish prospective customer churn?\n",
    "\n",
    "\n"
   ]
  },
  {
   "cell_type": "markdown",
   "id": "6ecc064e",
   "metadata": {},
   "source": [
    "## B- Data Preprocessing\n",
    "- Evaluate data structure\n",
    "- Check target variable distribution\n",
    "- Clean the dataset\n",
    "- Deal with missing data\n",
    " "
   ]
  },
  {
   "cell_type": "markdown",
   "id": "13c32760",
   "metadata": {},
   "source": [
    "## C- Data Evaluation\n",
    "- Plot Charts and Histograms\n",
    "- Analyze the distribution of categorical variables\n",
    "- Analyze the churn rate by variable\n",
    "- Find correlations between variables\n",
    "- Making a conclusion from the above findings\n",
    "- Split the dataset in training and validation sets\n",
    "- Split the dependent variable from the independent variables.\n",
    "- Remove Identifier: Customer ID\n",
    "- Normalize Variables"
   ]
  },
  {
   "cell_type": "markdown",
   "id": "42d33f51",
   "metadata": {},
   "source": [
    "## D- Model Selection\n",
    "Suggested models:\n",
    "- Logistic Regression\n",
    "- Random Forrest\n",
    "- KNN\n",
    "- SVM\n",
    "-xgboost"
   ]
  },
  {
   "cell_type": "markdown",
   "id": "c43e9be2",
   "metadata": {},
   "source": [
    "## E- Model Evalation\n"
   ]
  },
  {
   "cell_type": "markdown",
   "id": "1a78efa3",
   "metadata": {},
   "source": [
    "## F- Model Improvement\n",
    "Tuning Hyperparameters"
   ]
  },
  {
   "cell_type": "markdown",
   "id": "cace5ca6",
   "metadata": {},
   "source": [
    "## G- Model Deployement"
   ]
  },
  {
   "cell_type": "markdown",
   "id": "b4c141b8",
   "metadata": {},
   "source": [
    "## Resources"
   ]
  }
 ],
 "metadata": {
  "kernelspec": {
   "display_name": "Python 3",
   "language": "python",
   "name": "python3"
  },
  "language_info": {
   "codemirror_mode": {
    "name": "ipython",
    "version": 3
   },
   "file_extension": ".py",
   "mimetype": "text/x-python",
   "name": "python",
   "nbconvert_exporter": "python",
   "pygments_lexer": "ipython3",
   "version": "3.9.9"
  },
  "varInspector": {
   "cols": {
    "lenName": 16,
    "lenType": 16,
    "lenVar": 40
   },
   "kernels_config": {
    "python": {
     "delete_cmd_postfix": "",
     "delete_cmd_prefix": "del ",
     "library": "var_list.py",
     "varRefreshCmd": "print(var_dic_list())"
    },
    "r": {
     "delete_cmd_postfix": ") ",
     "delete_cmd_prefix": "rm(",
     "library": "var_list.r",
     "varRefreshCmd": "cat(var_dic_list()) "
    }
   },
   "types_to_exclude": [
    "module",
    "function",
    "builtin_function_or_method",
    "instance",
    "_Feature"
   ],
   "window_display": false
  }
 },
 "nbformat": 4,
 "nbformat_minor": 5
}
